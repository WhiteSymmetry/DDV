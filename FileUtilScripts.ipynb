{
 "cells": [
  {
   "cell_type": "markdown",
   "metadata": {
    "collapsed": true
   },
   "source": [
    "Concatenates all fasta files in a folder into a single fasta file.\n",
    "There's special code to compensate for alphabetical sorting between 1, 2, ... 10, ... 20."
   ]
  },
  {
   "cell_type": "code",
   "execution_count": 6,
   "metadata": {},
   "outputs": [],
   "source": [
    "import os\n",
    "import sys\n",
    "from glob import glob\n",
    "from sys import path"
   ]
  },
  {
   "cell_type": "code",
   "execution_count": 7,
   "metadata": {},
   "outputs": [
    {
     "name": "stdout",
     "output_type": "stream",
     "text": [
      "D:\\josiah\\Projects\\DDV\n"
     ]
    }
   ],
   "source": [
    "print(os.getcwd())"
   ]
  },
  {
   "cell_type": "code",
   "execution_count": 9,
   "metadata": {},
   "outputs": [
    {
     "name": "stdout",
     "output_type": "stream",
     "text": [
      "D:\\Genomes\\Human\\Human All Alternates hg38\nD:\\Genomes\\Chimpanzee panTro\n"
     ]
    }
   ],
   "source": [
    "print(os.getcwd())\n",
    "os.chdir(\"D:\\Genomes\\Chimpanzee panTro\")\n",
    "# os.chdir(\"D:\\Genomes\\Chimpanzee panTro\\panTro3 May 2016\")\n",
    "print(os.getcwd())"
   ]
  },
  {
   "cell_type": "code",
   "execution_count": 10,
   "metadata": {},
   "outputs": [
    {
     "data": {
      "text/plain": [
       "['fasta-splitter-0.2.4', 'panTro3 May 2016', 'panTro4.fa']"
      ]
     },
     "execution_count": 10,
     "metadata": {},
     "output_type": "execute_result"
    }
   ],
   "source": [
    "glob('*')"
   ]
  },
  {
   "cell_type": "markdown",
   "metadata": {},
   "source": [
    "### Human sorting logic for single digit numbers"
   ]
  },
  {
   "cell_type": "code",
   "execution_count": 4,
   "metadata": {},
   "outputs": [
    {
     "name": "stdout",
     "output_type": "stream",
     "text": [
      "['elm0', 'elm1', 'Elm2', 'elm9', 'elm10', 'Elm11', 'Elm12', 'elm13']\n"
     ]
    }
   ],
   "source": [
    "from natsort import natsorted, ns\n",
    "x = ['Elm11', 'Elm12', 'Elm2', 'elm0', 'elm1', 'elm10', 'elm13', 'elm9']\n",
    "print(natsorted(x, alg=ns.IGNORECASE))  # or alg=ns.IC\n",
    "# ['elm0', 'elm1', 'Elm2', 'elm9', 'elm10', 'Elm11', 'Elm12', 'elm13']"
   ]
  },
  {
   "cell_type": "code",
   "execution_count": 7,
   "metadata": {},
   "outputs": [
    {
     "name": "stdout",
     "output_type": "stream",
     "text": [
      "['chr1.fa', 'chr2.fa', 'chr3.fa', 'chr4.fa', 'chr5.fa', 'chr6.fa', 'chr7.fa', 'chr8.fa', 'chr9.fa', 'chr10.fa', 'chr11.fa', 'chr12.fa', 'chr13.fa', 'chr14.fa', 'chr15.fa', 'chr16.fa', 'chr17.fa', 'chr18.fa', 'chr19.fa', 'chr20.fa', 'chr21.fa', 'chr22.fa', 'chrX.fa', 'chrY.fa', 'chrM.fa']\n"
     ]
    }
   ],
   "source": [
    "core_chromosomes = natsorted([f for f in glob('*') if '_' not in f], alg=ns.IGNORECASE)\n",
    "core_chromosomes = ['chr1.fa', 'chr2.fa', 'chr3.fa', 'chr4.fa', 'chr5.fa', 'chr6.fa', 'chr7.fa', 'chr8.fa', 'chr9.fa', 'chr10.fa', 'chr11.fa', 'chr12.fa', 'chr13.fa', 'chr14.fa', 'chr15.fa', 'chr16.fa', 'chr17.fa', 'chr18.fa', 'chr19.fa', 'chr20.fa', 'chr21.fa', 'chr22.fa', 'chrX.fa', 'chrY.fa', 'chrM.fa']\n",
    "print(core_chromosomes)"
   ]
  },
  {
   "cell_type": "code",
   "execution_count": 8,
   "metadata": {},
   "outputs": [
    {
     "name": "stdout",
     "output_type": "stream",
     "text": [
      "['chr1_GL383518v1_alt.fa', 'chr1_GL383519v1_alt.fa', 'chr1_GL383520v2_alt.fa', 'chr1_KI270706v1_random.fa', 'chr1_KI270707v1_random.fa', 'chr1_KI270708v1_random.fa', 'chr1_KI270709v1_random.fa', 'chr1_KI270710v1_random.fa', 'chr1_KI270711v1_random.fa', 'chr1_KI270712v1_random.fa', 'chr1_KI270713v1_random.fa', 'chr1_KI270714v1_random.fa', 'chr1_KI270759v1_alt.fa', 'chr1_KI270760v1_alt.fa', 'chr1_KI270761v1_alt.fa', 'chr1_KI270762v1_alt.fa', 'chr1_KI270763v1_alt.fa', 'chr1_KI270764v1_alt.fa', 'chr1_KI270765v1_alt.fa', 'chr1_KI270766v1_alt.fa', 'chr1_KI270892v1_alt.fa', 'chr2_GL383521v1_alt.fa', 'chr2_GL383522v1_alt.fa', 'chr2_GL582966v2_alt.fa', 'chr2_KI270715v1_random.fa', 'chr2_KI270716v1_random.fa', 'chr2_KI270767v1_alt.fa', 'chr2_KI270768v1_alt.fa', 'chr2_KI270769v1_alt.fa', 'chr2_KI270770v1_alt.fa', 'chr2_KI270771v1_alt.fa', 'chr2_KI270772v1_alt.fa', 'chr2_KI270773v1_alt.fa', 'chr2_KI270774v1_alt.fa', 'chr2_KI270775v1_alt.fa', 'chr2_KI270776v1_alt.fa', 'chr2_KI270893v1_alt.fa', 'chr2_KI270894v1_alt.fa', 'chr3_GL000221v1_random.fa', 'chr3_GL383526v1_alt.fa', 'chr3_JH636055v2_alt.fa', 'chr3_KI270777v1_alt.fa', 'chr3_KI270778v1_alt.fa', 'chr3_KI270779v1_alt.fa', 'chr3_KI270780v1_alt.fa', 'chr3_KI270781v1_alt.fa', 'chr3_KI270782v1_alt.fa', 'chr3_KI270783v1_alt.fa', 'chr3_KI270784v1_alt.fa', 'chr3_KI270895v1_alt.fa', 'chr3_KI270924v1_alt.fa', 'chr3_KI270934v1_alt.fa', 'chr3_KI270935v1_alt.fa', 'chr3_KI270936v1_alt.fa', 'chr3_KI270937v1_alt.fa', 'chr4_GL000008v2_random.fa', 'chr4_GL000257v2_alt.fa', 'chr4_GL383527v1_alt.fa', 'chr4_GL383528v1_alt.fa', 'chr4_KI270785v1_alt.fa', 'chr4_KI270786v1_alt.fa', 'chr4_KI270787v1_alt.fa', 'chr4_KI270788v1_alt.fa', 'chr4_KI270789v1_alt.fa', 'chr4_KI270790v1_alt.fa', 'chr4_KI270896v1_alt.fa', 'chr4_KI270925v1_alt.fa', 'chr5_GL000208v1_random.fa', 'chr5_GL339449v2_alt.fa', 'chr5_GL383530v1_alt.fa', 'chr5_GL383531v1_alt.fa', 'chr5_GL383532v1_alt.fa', 'chr5_GL949742v1_alt.fa', 'chr5_KI270791v1_alt.fa', 'chr5_KI270792v1_alt.fa', 'chr5_KI270793v1_alt.fa', 'chr5_KI270794v1_alt.fa', 'chr5_KI270795v1_alt.fa', 'chr5_KI270796v1_alt.fa', 'chr5_KI270897v1_alt.fa', 'chr5_KI270898v1_alt.fa', 'chr6_GL000250v2_alt.fa', 'chr6_GL000251v2_alt.fa', 'chr6_GL000252v2_alt.fa', 'chr6_GL000253v2_alt.fa', 'chr6_GL000254v2_alt.fa', 'chr6_GL000255v2_alt.fa', 'chr6_GL000256v2_alt.fa', 'chr6_GL383533v1_alt.fa', 'chr6_KB021644v2_alt.fa', 'chr6_KI270758v1_alt.fa', 'chr6_KI270797v1_alt.fa', 'chr6_KI270798v1_alt.fa', 'chr6_KI270799v1_alt.fa', 'chr6_KI270800v1_alt.fa', 'chr6_KI270801v1_alt.fa', 'chr6_KI270802v1_alt.fa', 'chr7_GL383534v2_alt.fa', 'chr7_KI270803v1_alt.fa', 'chr7_KI270804v1_alt.fa']\n"
     ]
    }
   ],
   "source": [
    "extra_contigs = natsorted([f for f in glob('*') if '_' in f], alg=ns.IGNORECASE)\n",
    "print(extra_contigs[:100])"
   ]
  },
  {
   "cell_type": "code",
   "execution_count": 5,
   "metadata": {},
   "outputs": [],
   "source": [
    "def aggregate_files():\n",
    "    with open('Human v38 All Variants.fa', 'w') as out:\n",
    "        for filename in core_chromosomes + extra_contigs:\n",
    "            print('Opening', filename)\n",
    "            with open(filename, 'r') as infile:\n",
    "                for line in infile.readlines():\n",
    "                    out.writelines([line])\n",
    "    print('Done concatting files')"
   ]
  },
  {
   "cell_type": "code",
   "execution_count": 13,
   "metadata": {},
   "outputs": [
    {
     "name": "stdout",
     "output_type": "stream",
     "text": [
      ">chr20\n"
     ]
    }
   ],
   "source": [
    "def print_contigs():\n",
    "    seg_count = 0\n",
    "    output_this = False\n",
    "    line_after = False\n",
    "    with open('panTro4.fa', 'r') as input:\n",
    "        with open('chr20.fa', 'w') as out:\n",
    "            for line in input.readlines():\n",
    "                if line_after:\n",
    "                    print(line)\n",
    "                    line_after = False\n",
    "                if line and line[0] == '>':\n",
    "                    if output_this:\n",
    "                        break  # done with contig\n",
    "                    if 'chr20' in line and 'random' not in line:\n",
    "                        output_this = True\n",
    "                        print(line, end=\"\")\n",
    "                    # line_after = True\n",
    "                \n",
    "                    # if seg_count > 2: \n",
    "                    #     break\n",
    "                if output_this:\n",
    "                    out.writelines([line])\n",
    "print_contigs()"
   ]
  },
  {
   "cell_type": "code",
   "execution_count": 21,
   "metadata": {},
   "outputs": [],
   "source": [
    ""
   ]
  },
  {
   "cell_type": "code",
   "execution_count": 21,
   "metadata": {},
   "outputs": [],
   "source": [
    "def fasta_samples():\n",
    "    \"\"\"Take a sample from these chromosomes for testing purposes\"\"\"\n",
    "    for filename in 'ref_GRCH38_chr9.fa ref_GRCH37_chr9.fa ref_GRCH35_chr9.fa'.split():\n",
    "        with open(filename + '__sample.fa', 'w') as out:\n",
    "            print('Opening', filename)\n",
    "            with open(filename, 'r') as infile:\n",
    "                infile.readline()  # skip the title\n",
    "                content = ''.join(infile.read().splitlines())\n",
    "                start = 37650000  # 37,600,000\n",
    "                content = content[start : start + 10000000 // 3]\n",
    "                # N_start = 39665004\n",
    "                # if filename == 'ref_GRCH38_chr9.fa':\n",
    "                #     print('Inserting GAP')\n",
    "                #     content = content[: N_start-start] + 'X' * (39714488-N_start) + content[N_start-start:]\n",
    "                # N_start += 230000\n",
    "                # if filename == 'ref_GRCH37_chr9.fa':\n",
    "                #     print('Inserting GAP')\n",
    "                #     content = content[: N_start-start] + 'X' * 50484 + content[N_start-start:]\n",
    "                out.write(content)\n",
    "    print(\"Done\")"
   ]
  },
  {
   "cell_type": "code",
   "execution_count": 23,
   "metadata": {},
   "outputs": [
    {
     "name": "stdout",
     "output_type": "stream",
     "text": [
      "Opening panTro4ToHg38.over.chain\n"
     ]
    },
    {
     "name": "stdout",
     "output_type": "stream",
     "text": [
      "168\n"
     ]
    }
   ],
   "source": [
    "def sample_chain_file():\n",
    "    filename = 'panTro4ToHg38.over.chain'\n",
    "    line_count = 0\n",
    "    # with open(filename + '__chr20_sample.chain', 'w') as out:\n",
    "    print('Opening', filename)\n",
    "    with open(filename, 'r') as infile:\n",
    "        printing = False\n",
    "        for line in infile.readlines():\n",
    "            if line.startswith('chain'):\n",
    "                chain, score, tName, tSize, tStrand, tStart, \\\n",
    "                tEnd, qName, qSize, qStrand, qStart, qEnd, chain_id = line.split()\n",
    "                # if printing:\n",
    "                #     break  # only output the first chain\n",
    "                printing = 'chr20' in tName and 'chr20' not in qName  \n",
    "                if printing:\n",
    "                    line_count += 1\n",
    "                    # print(line)\n",
    "                    # out.write(line)  # write header\n",
    "            # else:\n",
    "            #     pieces = line.split()\n",
    "            #     if printing:\n",
    "            #         out.write(line)\n",
    "                # if len(pieces) == 3:\n",
    "                #     size, gap_reference, gap_query = pieces\n",
    "                #     if printing:\n",
    "                #         out.write(line)\n",
    "                #         # print(size, gap_reference, gap_query)\n",
    "                # elif len(pieces) == 1:\n",
    "                #     if printing:\n",
    "                #         out.writelines(pieces)\n",
    "    print(line_count)\n",
    "                    \n",
    "sample_chain_file()"
   ]
  },
  {
   "cell_type": "code",
   "execution_count": 34,
   "metadata": {},
   "outputs": [],
   "source": [
    ""
   ]
  },
  {
   "cell_type": "code",
   "execution_count": 2,
   "metadata": {},
   "outputs": [
    {
     "name": "stdout",
     "output_type": "stream",
     "text": [
      "138394717 138252981 vs 141213431 141143431\n141736\n70000\n113144517\n"
     ]
    }
   ],
   "source": [
    "filename = 'hg38ToHg19.over.chain' + '__sample.chain'\n",
    "ref_count = 0\n",
    "query_count = 0\n",
    "total_size = 0\n",
    "with open(filename, 'r') as chainfile:\n",
    "    for line in chainfile.readlines():\n",
    "        if line.startswith('chain'):\n",
    "            chain, score, tName, tSize, tStrand, tStart, \\\n",
    "            tEnd, qName, qSize, qStrand, qStart, qEnd, chain_id = line.split()\n",
    "        else:\n",
    "            pieces = line.split()\n",
    "            if len(pieces) == 3:\n",
    "                size, gap_reference, gap_query = [int(x) for x in pieces]\n",
    "                ref_count += size + gap_reference\n",
    "                total_size += size\n",
    "                query_count += size + gap_query\n",
    "\n",
    "            elif len(pieces) == 1:\n",
    "                ref_count += int(pieces[0])\n",
    "                query_count += int(pieces[0])\n",
    "print(tSize, ref_count, \"vs\", qSize, query_count)\n",
    "print(int(tSize) - ref_count)\n",
    "print(int(qSize) - query_count)\n",
    "print(total_size)"
   ]
  },
  {
   "cell_type": "code",
   "execution_count": 30,
   "metadata": {},
   "outputs": [
    {
     "name": "stdout",
     "output_type": "stream",
     "text": [
      "D:\\josiah\\Projects\\DDV\n"
     ]
    },
    {
     "name": "stdout",
     "output_type": "stream",
     "text": [
      "Opening chr20_hg38_gapped.fa\n"
     ]
    },
    {
     "name": "stdout",
     "output_type": "stream",
     "text": [
      "Opening chr20_panTro4_gapped.fa\n"
     ]
    }
   ],
   "source": [
    "def sample_file():\n",
    "    os.chdir(\"D:\\josiah\\Projects\\DDV\")\n",
    "    print(os.getcwd())\n",
    "    for filename in ['chr20_hg38_gapped.fa', 'chr20_panTro4_gapped.fa']:\n",
    "        with open(filename, 'r') as infile:\n",
    "            lines = infile.read().splitlines()\n",
    "        char_count = 0\n",
    "        with open(filename, 'w') as out:  # overwrite the file\n",
    "            print('Opening', filename)\n",
    "            for line in lines:\n",
    "                out.writelines([line + '\\n'])  \n",
    "                char_count += 70\n",
    "                if char_count >= 10 * 100 * 1000:\n",
    "                    break\n",
    "sample_file()"
   ]
  },
  {
   "cell_type": "code",
   "execution_count": null,
   "metadata": {},
   "outputs": [],
   "source": [
    ""
   ]
  },
  {
   "cell_type": "code",
   "execution_count": null,
   "metadata": {},
   "outputs": [],
   "source": [
    ""
   ]
  },
  {
   "cell_type": "code",
   "execution_count": null,
   "metadata": {},
   "outputs": [],
   "source": [
    ""
   ]
  },
  {
   "cell_type": "code",
   "execution_count": null,
   "metadata": {},
   "outputs": [],
   "source": [
    ""
   ]
  }
 ],
 "metadata": {
  "kernelspec": {
   "display_name": "Python 2",
   "language": "python",
   "name": "python2"
  },
  "language_info": {
   "codemirror_mode": {
    "name": "ipython",
    "version": 2.0
   },
   "file_extension": ".py",
   "mimetype": "text/x-python",
   "name": "python",
   "nbconvert_exporter": "python",
   "pygments_lexer": "ipython2",
   "version": "2.7.6"
  }
 },
 "nbformat": 4,
 "nbformat_minor": 0
}