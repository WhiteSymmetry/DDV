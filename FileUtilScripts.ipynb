{
 "cells": [
  {
   "cell_type": "markdown",
   "metadata": {
    "collapsed": true
   },
   "source": [
    "Concatenates all fasta files in a folder into a single fasta file.\n",
    "There's special code to compensate for alphabetical sorting between 1, 2, ... 10, ... 20."
   ]
  },
  {
   "cell_type": "code",
   "execution_count": 1,
   "metadata": {},
   "outputs": [],
   "source": [
    "import os\n",
    "import sys\n",
    "from glob import glob\n",
    "from sys import path"
   ]
  },
  {
   "cell_type": "code",
   "execution_count": 2,
   "metadata": {},
   "outputs": [
    {
     "name": "stdout",
     "output_type": "stream",
     "text": [
      "D:\\Genomes\\Human\nD:\\Genomes\\Human\n"
     ]
    }
   ],
   "source": [
    "print(os.getcwd())\n",
    "os.chdir(\"D:\\Genomes\\Human\")  #Human All Alternates hg38\")\n",
    "print(os.getcwd())"
   ]
  },
  {
   "cell_type": "code",
   "execution_count": 3,
   "metadata": {},
   "outputs": [
    {
     "data": {
      "text/plain": [
       "['3.png',\n 'Animalia_Mammalia_Homo_Sapiens_GRCH38_chr1.fa',\n 'Animalia_Mammalia_Homo_Sapiens_GRCH38_chr1.fa_width-300000_start-1_scale-2000_r.png',\n 'Animalia_Mammalia_Homo_Sapiens_GRCH38_chr10.fa',\n 'Animalia_Mammalia_Homo_Sapiens_GRCH38_chr10.fa_width-300000_start-1_scale-2000_r.png',\n 'Animalia_Mammalia_Homo_Sapiens_GRCH38_chr11.fa',\n 'Animalia_Mammalia_Homo_Sapiens_GRCH38_chr11.fa_width-300000_start-1_scale-2000_r.png',\n 'Animalia_Mammalia_Homo_Sapiens_GRCH38_chr12.fa',\n 'Animalia_Mammalia_Homo_Sapiens_GRCH38_chr12.fa_width-300000_start-1_scale-2000_r.png',\n 'Animalia_Mammalia_Homo_Sapiens_GRCH38_chr13.fa',\n 'Animalia_Mammalia_Homo_Sapiens_GRCH38_chr13.fa_width-300000_start-1_scale-2000_r.png',\n 'Animalia_Mammalia_Homo_Sapiens_GRCH38_chr14.fa',\n 'Animalia_Mammalia_Homo_Sapiens_GRCH38_chr14.fa_width-300000_start-1_scale-2000_r.png',\n 'Animalia_Mammalia_Homo_Sapiens_GRCH38_chr15.fa',\n 'Animalia_Mammalia_Homo_Sapiens_GRCH38_chr15.fa_width-300000_start-1_scale-2000_r.png',\n 'Animalia_Mammalia_Homo_Sapiens_GRCH38_chr16.fa',\n 'Animalia_Mammalia_Homo_Sapiens_GRCH38_chr16.fa_width-300000_start-1_scale-2000_r.png',\n 'Animalia_Mammalia_Homo_Sapiens_GRCH38_chr17.fa',\n 'Animalia_Mammalia_Homo_Sapiens_GRCH38_chr17.fa_width-300000_start-1_scale-2000_r.png',\n 'Animalia_Mammalia_Homo_Sapiens_GRCH38_chr18.fa',\n 'Animalia_Mammalia_Homo_Sapiens_GRCH38_chr18.fa_width-128_start-35211115_scale-1_o.png',\n 'Animalia_Mammalia_Homo_Sapiens_GRCH38_chr18.fa_width-300000_start-1_scale-2000_r.png',\n 'Animalia_Mammalia_Homo_Sapiens_GRCH38_chr19.fa',\n 'Animalia_Mammalia_Homo_Sapiens_GRCH38_chr19.fa_width-300000_start-1_scale-2000_r.png',\n 'Animalia_Mammalia_Homo_Sapiens_GRCH38_chr2.fa',\n 'Animalia_Mammalia_Homo_Sapiens_GRCH38_chr2.fa_width-300000_start-1_scale-2000_r.png',\n 'Animalia_Mammalia_Homo_Sapiens_GRCH38_chr20.fa',\n 'Animalia_Mammalia_Homo_Sapiens_GRCH38_chr20.fa_width-300000_start-1_scale-2000_r.png',\n 'Animalia_Mammalia_Homo_Sapiens_GRCH38_chr21.fa',\n 'Animalia_Mammalia_Homo_Sapiens_GRCH38_chr21.fa_width-300000_start-1_scale-2000_r.png',\n 'Animalia_Mammalia_Homo_Sapiens_GRCH38_chr22.fa',\n 'Animalia_Mammalia_Homo_Sapiens_GRCH38_chr22.fa_width-300000_start-1_scale-2000_r.png',\n 'Animalia_Mammalia_Homo_Sapiens_GRCH38_chr3.fa',\n 'Animalia_Mammalia_Homo_Sapiens_GRCH38_chr3.fa_width-300000_start-1_scale-2000_r.png',\n 'Animalia_Mammalia_Homo_Sapiens_GRCH38_chr4.fa',\n 'Animalia_Mammalia_Homo_Sapiens_GRCH38_chr4.fa_width-300000_start-1_scale-2000_r.png',\n 'Animalia_Mammalia_Homo_Sapiens_GRCH38_chr5.fa',\n 'Animalia_Mammalia_Homo_Sapiens_GRCH38_chr5.fa_width-300000_start-1_scale-2000_r.png',\n 'Animalia_Mammalia_Homo_Sapiens_GRCH38_chr6.fa',\n 'Animalia_Mammalia_Homo_Sapiens_GRCH38_chr6.fa_width-300000_start-1_scale-2000_r.png',\n 'Animalia_Mammalia_Homo_Sapiens_GRCH38_chr7.fa',\n 'Animalia_Mammalia_Homo_Sapiens_GRCH38_chr7.fa_width-300000_start-1_scale-2000_r.png',\n 'Animalia_Mammalia_Homo_Sapiens_GRCH38_chr8.fa',\n 'Animalia_Mammalia_Homo_Sapiens_GRCH38_chr8.fa_width-300000_start-1_scale-2000_r.png',\n 'Animalia_Mammalia_Homo_Sapiens_GRCH38_chr9.fa',\n 'Animalia_Mammalia_Homo_Sapiens_GRCH38_chr9.fa_width-300000_start-1_scale-2000_r.png',\n 'Animalia_Mammalia_Homo_Sapiens_GRCH38_chrX.fa',\n 'Animalia_Mammalia_Homo_Sapiens_GRCH38_chrX.fa_width-300000_start-1_scale-2000_r.png',\n 'Animalia_Mammalia_Homo_Sapiens_GRCH38_chrY.fa',\n 'Animalia_Mammalia_Homo_Sapiens_GRCH38_MT.fa',\n 'Animalia_Mammalia_Homo_Sapiens_GRCH38_nonchromosomal.fa',\n 'Animalia_Mammalia_Homo_Sapiens_GRCH38_nonchromosomal.fa_width-300000_start-1_scale-2000_r.png',\n 'chr22 max dimensions.png',\n 'hg38.chromFa.tar.gz',\n 'Human All Alternates hg38',\n 'human_g1k_v37.fasta',\n 'human_g1k_v37.png',\n 'LargeImages.py',\n 'other']"
      ]
     },
     "execution_count": 3,
     "metadata": {},
     "output_type": "execute_result"
    }
   ],
   "source": [
    "glob('*')"
   ]
  },
  {
   "cell_type": "markdown",
   "metadata": {},
   "source": [
    "### Human sorting logic for single digit numbers"
   ]
  },
  {
   "cell_type": "code",
   "execution_count": 4,
   "metadata": {},
   "outputs": [
    {
     "name": "stdout",
     "output_type": "stream",
     "text": [
      "['elm0', 'elm1', 'Elm2', 'elm9', 'elm10', 'Elm11', 'Elm12', 'elm13']\n['elm0', 'elm1', 'Elm2', 'elm9', 'elm10', 'Elm11', 'Elm12', 'elm13']\n"
     ]
    }
   ],
   "source": [
    "from natsort import natsorted, ns\n",
    "x = ['Elm11', 'Elm12', 'Elm2', 'elm0', 'elm1', 'elm10', 'elm13', 'elm9']\n",
    "print(natsorted(x, key=lambda y: y.lower()))\n",
    "# ['elm0', 'elm1', 'Elm2', 'elm9', 'elm10', 'Elm11', 'Elm12', 'elm13']\n",
    "print(natsorted(x, alg=ns.IGNORECASE))  # or alg=ns.IC\n",
    "# ['elm0', 'elm1', 'Elm2', 'elm9', 'elm10', 'Elm11', 'Elm12', 'elm13']"
   ]
  },
  {
   "cell_type": "code",
   "execution_count": 5,
   "metadata": {},
   "outputs": [
    {
     "name": "stdout",
     "output_type": "stream",
     "text": [
      "['3.png', 'Animalia_Mammalia_Homo_Sapiens_GRCH38_chr1.fa', 'Animalia_Mammalia_Homo_Sapiens_GRCH38_chr1.fa_width-300000_start-1_scale-2000_r.png', 'Animalia_Mammalia_Homo_Sapiens_GRCH38_chr2.fa', 'Animalia_Mammalia_Homo_Sapiens_GRCH38_chr2.fa_width-300000_start-1_scale-2000_r.png', 'Animalia_Mammalia_Homo_Sapiens_GRCH38_chr3.fa', 'Animalia_Mammalia_Homo_Sapiens_GRCH38_chr3.fa_width-300000_start-1_scale-2000_r.png', 'Animalia_Mammalia_Homo_Sapiens_GRCH38_chr4.fa', 'Animalia_Mammalia_Homo_Sapiens_GRCH38_chr4.fa_width-300000_start-1_scale-2000_r.png', 'Animalia_Mammalia_Homo_Sapiens_GRCH38_chr5.fa', 'Animalia_Mammalia_Homo_Sapiens_GRCH38_chr5.fa_width-300000_start-1_scale-2000_r.png', 'Animalia_Mammalia_Homo_Sapiens_GRCH38_chr6.fa', 'Animalia_Mammalia_Homo_Sapiens_GRCH38_chr6.fa_width-300000_start-1_scale-2000_r.png', 'Animalia_Mammalia_Homo_Sapiens_GRCH38_chr7.fa', 'Animalia_Mammalia_Homo_Sapiens_GRCH38_chr7.fa_width-300000_start-1_scale-2000_r.png', 'Animalia_Mammalia_Homo_Sapiens_GRCH38_chr8.fa', 'Animalia_Mammalia_Homo_Sapiens_GRCH38_chr8.fa_width-300000_start-1_scale-2000_r.png', 'Animalia_Mammalia_Homo_Sapiens_GRCH38_chr9.fa', 'Animalia_Mammalia_Homo_Sapiens_GRCH38_chr9.fa_width-300000_start-1_scale-2000_r.png', 'Animalia_Mammalia_Homo_Sapiens_GRCH38_chr10.fa', 'Animalia_Mammalia_Homo_Sapiens_GRCH38_chr10.fa_width-300000_start-1_scale-2000_r.png', 'Animalia_Mammalia_Homo_Sapiens_GRCH38_chr11.fa', 'Animalia_Mammalia_Homo_Sapiens_GRCH38_chr11.fa_width-300000_start-1_scale-2000_r.png', 'Animalia_Mammalia_Homo_Sapiens_GRCH38_chr12.fa', 'Animalia_Mammalia_Homo_Sapiens_GRCH38_chr12.fa_width-300000_start-1_scale-2000_r.png', 'Animalia_Mammalia_Homo_Sapiens_GRCH38_chr13.fa', 'Animalia_Mammalia_Homo_Sapiens_GRCH38_chr13.fa_width-300000_start-1_scale-2000_r.png', 'Animalia_Mammalia_Homo_Sapiens_GRCH38_chr14.fa', 'Animalia_Mammalia_Homo_Sapiens_GRCH38_chr14.fa_width-300000_start-1_scale-2000_r.png', 'Animalia_Mammalia_Homo_Sapiens_GRCH38_chr15.fa', 'Animalia_Mammalia_Homo_Sapiens_GRCH38_chr15.fa_width-300000_start-1_scale-2000_r.png', 'Animalia_Mammalia_Homo_Sapiens_GRCH38_chr16.fa', 'Animalia_Mammalia_Homo_Sapiens_GRCH38_chr16.fa_width-300000_start-1_scale-2000_r.png', 'Animalia_Mammalia_Homo_Sapiens_GRCH38_chr17.fa', 'Animalia_Mammalia_Homo_Sapiens_GRCH38_chr17.fa_width-300000_start-1_scale-2000_r.png', 'Animalia_Mammalia_Homo_Sapiens_GRCH38_chr18.fa', 'Animalia_Mammalia_Homo_Sapiens_GRCH38_chr18.fa_width-128_start-35211115_scale-1_o.png', 'Animalia_Mammalia_Homo_Sapiens_GRCH38_chr18.fa_width-300000_start-1_scale-2000_r.png', 'Animalia_Mammalia_Homo_Sapiens_GRCH38_chr19.fa', 'Animalia_Mammalia_Homo_Sapiens_GRCH38_chr19.fa_width-300000_start-1_scale-2000_r.png', 'Animalia_Mammalia_Homo_Sapiens_GRCH38_chr20.fa', 'Animalia_Mammalia_Homo_Sapiens_GRCH38_chr20.fa_width-300000_start-1_scale-2000_r.png', 'Animalia_Mammalia_Homo_Sapiens_GRCH38_chr21.fa', 'Animalia_Mammalia_Homo_Sapiens_GRCH38_chr21.fa_width-300000_start-1_scale-2000_r.png', 'Animalia_Mammalia_Homo_Sapiens_GRCH38_chr22.fa', 'Animalia_Mammalia_Homo_Sapiens_GRCH38_chr22.fa_width-300000_start-1_scale-2000_r.png', 'Animalia_Mammalia_Homo_Sapiens_GRCH38_chrX.fa', 'Animalia_Mammalia_Homo_Sapiens_GRCH38_chrX.fa_width-300000_start-1_scale-2000_r.png', 'Animalia_Mammalia_Homo_Sapiens_GRCH38_chrY.fa', 'Animalia_Mammalia_Homo_Sapiens_GRCH38_MT.fa', 'Animalia_Mammalia_Homo_Sapiens_GRCH38_nonchromosomal.fa', 'Animalia_Mammalia_Homo_Sapiens_GRCH38_nonchromosomal.fa_width-300000_start-1_scale-2000_r.png', 'chr22 max dimensions.png', 'hg38.chromFa.tar.gz', 'Human All Alternates hg38', 'human_g1k_v37.fasta', 'human_g1k_v37.png', 'LargeImages.py', 'other']\n"
     ]
    }
   ],
   "source": [
    "print(natsorted(glob('*'), alg=ns.IGNORECASE))"
   ]
  },
  {
   "cell_type": "code",
   "execution_count": 8,
   "metadata": {},
   "outputs": [],
   "source": [
    "seg_count = 0\n",
    "with open('human_g1k_v37.fasta', 'r') as input:\n",
    "    with open('bigTest', 'w') as out:\n",
    "        for line in input.readlines():\n",
    "            if line and line[0] == '>':\n",
    "                seg_count += 1\n",
    "                if seg_count > 2: \n",
    "                    break\n",
    "            out.writelines([line])"
   ]
  },
  {
   "cell_type": "code",
   "execution_count": null,
   "metadata": {},
   "outputs": [],
   "source": [
    ""
   ]
  }
 ],
 "metadata": {
  "kernelspec": {
   "display_name": "Python 2",
   "language": "python",
   "name": "python2"
  },
  "language_info": {
   "codemirror_mode": {
    "name": "ipython",
    "version": 2.0
   },
   "file_extension": ".py",
   "mimetype": "text/x-python",
   "name": "python",
   "nbconvert_exporter": "python",
   "pygments_lexer": "ipython2",
   "version": "2.7.6"
  }
 },
 "nbformat": 4,
 "nbformat_minor": 0
}