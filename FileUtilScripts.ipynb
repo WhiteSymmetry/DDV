{
 "cells": [
  {
   "cell_type": "markdown",
   "metadata": {
    "collapsed": true
   },
   "source": [
    "Concatenates all fasta files in a folder into a single fasta file.\n",
    "There's special code to compensate for alphabetical sorting between 1, 2, ... 10, ... 20."
   ]
  },
  {
   "cell_type": "code",
   "execution_count": 1,
   "metadata": {},
   "outputs": [],
   "source": [
    "import os\n",
    "import sys\n",
    "from glob import glob\n",
    "from sys import path"
   ]
  },
  {
   "cell_type": "code",
   "execution_count": 2,
   "metadata": {},
   "outputs": [
    {
     "name": "stdout",
     "output_type": "stream",
     "text": [
      "D:\\josiah\\Projects\\DDV\n"
     ]
    }
   ],
   "source": [
    "print(os.getcwd())"
   ]
  },
  {
   "cell_type": "code",
   "execution_count": 2,
   "metadata": {},
   "outputs": [
    {
     "name": "stdout",
     "output_type": "stream",
     "text": [
      "D:\\josiah\\Projects\\DDV\nD:\\Genomes\\Human\\Human All Alternates hg38\n"
     ]
    }
   ],
   "source": [
    "print(os.getcwd())\n",
    "os.chdir(\"D:\\Genomes\\Human\\Human All Alternates hg38\")\n",
    "# os.chdir(\"D:\\Genomes\\Chimpanzee panTro\\panTro3 May 2016\")\n",
    "print(os.getcwd())"
   ]
  },
  {
   "cell_type": "code",
   "execution_count": 3,
   "metadata": {},
   "outputs": [
    {
     "data": {
      "text/plain": [
       "['Animalia_Mammalia_Homo_Sapiens_GRCH38_chr1.fa',\n 'Animalia_Mammalia_Homo_Sapiens_GRCH38_chr20.fa',\n 'Animalia_Mammalia_Homo_Sapiens_GRCH38_chr21.fa',\n 'Animalia_Mammalia_Homo_Sapiens_GRCH38_nonchromosomal.fa',\n 'backup output',\n 'bigTest.fa',\n 'bin',\n 'DDV.py',\n 'DDV.v12.suo',\n 'DDVTileLayout.py',\n 'deepzoom.py',\n 'documentation',\n 'FileUtilScripts.ipynb',\n 'gallery.html',\n 'html template',\n 'Human selenoproteins.fa',\n 'multi_part_layout.fa',\n 'ParallelGenomeLayout.py',\n 'README',\n 'ref_GRCH35_chr9.fa',\n 'ref_GRCh37_chr9.fa',\n 'ref_GRCH38_chr9.fa',\n 'Requirements.txt',\n '__pycache__']"
      ]
     },
     "execution_count": 3,
     "metadata": {},
     "output_type": "execute_result"
    }
   ],
   "source": [
    "glob('*')"
   ]
  },
  {
   "cell_type": "markdown",
   "metadata": {},
   "source": [
    "### Human sorting logic for single digit numbers"
   ]
  },
  {
   "cell_type": "code",
   "execution_count": 4,
   "metadata": {},
   "outputs": [
    {
     "name": "stdout",
     "output_type": "stream",
     "text": [
      "['elm0', 'elm1', 'Elm2', 'elm9', 'elm10', 'Elm11', 'Elm12', 'elm13']\n"
     ]
    }
   ],
   "source": [
    "from natsort import natsorted, ns\n",
    "x = ['Elm11', 'Elm12', 'Elm2', 'elm0', 'elm1', 'elm10', 'elm13', 'elm9']\n",
    "print(natsorted(x, alg=ns.IGNORECASE))  # or alg=ns.IC\n",
    "# ['elm0', 'elm1', 'Elm2', 'elm9', 'elm10', 'Elm11', 'Elm12', 'elm13']"
   ]
  },
  {
   "cell_type": "code",
   "execution_count": 7,
   "metadata": {},
   "outputs": [
    {
     "name": "stdout",
     "output_type": "stream",
     "text": [
      "['chr1.fa', 'chr2.fa', 'chr3.fa', 'chr4.fa', 'chr5.fa', 'chr6.fa', 'chr7.fa', 'chr8.fa', 'chr9.fa', 'chr10.fa', 'chr11.fa', 'chr12.fa', 'chr13.fa', 'chr14.fa', 'chr15.fa', 'chr16.fa', 'chr17.fa', 'chr18.fa', 'chr19.fa', 'chr20.fa', 'chr21.fa', 'chr22.fa', 'chrX.fa', 'chrY.fa', 'chrM.fa']\n"
     ]
    }
   ],
   "source": [
    "core_chromosomes = natsorted([f for f in glob('*') if '_' not in f], alg=ns.IGNORECASE)\n",
    "core_chromosomes = ['chr1.fa', 'chr2.fa', 'chr3.fa', 'chr4.fa', 'chr5.fa', 'chr6.fa', 'chr7.fa', 'chr8.fa', 'chr9.fa', 'chr10.fa', 'chr11.fa', 'chr12.fa', 'chr13.fa', 'chr14.fa', 'chr15.fa', 'chr16.fa', 'chr17.fa', 'chr18.fa', 'chr19.fa', 'chr20.fa', 'chr21.fa', 'chr22.fa', 'chrX.fa', 'chrY.fa', 'chrM.fa']\n",
    "print(core_chromosomes)"
   ]
  },
  {
   "cell_type": "code",
   "execution_count": 8,
   "metadata": {},
   "outputs": [
    {
     "name": "stdout",
     "output_type": "stream",
     "text": [
      "['chr1_GL383518v1_alt.fa', 'chr1_GL383519v1_alt.fa', 'chr1_GL383520v2_alt.fa', 'chr1_KI270706v1_random.fa', 'chr1_KI270707v1_random.fa', 'chr1_KI270708v1_random.fa', 'chr1_KI270709v1_random.fa', 'chr1_KI270710v1_random.fa', 'chr1_KI270711v1_random.fa', 'chr1_KI270712v1_random.fa', 'chr1_KI270713v1_random.fa', 'chr1_KI270714v1_random.fa', 'chr1_KI270759v1_alt.fa', 'chr1_KI270760v1_alt.fa', 'chr1_KI270761v1_alt.fa', 'chr1_KI270762v1_alt.fa', 'chr1_KI270763v1_alt.fa', 'chr1_KI270764v1_alt.fa', 'chr1_KI270765v1_alt.fa', 'chr1_KI270766v1_alt.fa', 'chr1_KI270892v1_alt.fa', 'chr2_GL383521v1_alt.fa', 'chr2_GL383522v1_alt.fa', 'chr2_GL582966v2_alt.fa', 'chr2_KI270715v1_random.fa', 'chr2_KI270716v1_random.fa', 'chr2_KI270767v1_alt.fa', 'chr2_KI270768v1_alt.fa', 'chr2_KI270769v1_alt.fa', 'chr2_KI270770v1_alt.fa', 'chr2_KI270771v1_alt.fa', 'chr2_KI270772v1_alt.fa', 'chr2_KI270773v1_alt.fa', 'chr2_KI270774v1_alt.fa', 'chr2_KI270775v1_alt.fa', 'chr2_KI270776v1_alt.fa', 'chr2_KI270893v1_alt.fa', 'chr2_KI270894v1_alt.fa', 'chr3_GL000221v1_random.fa', 'chr3_GL383526v1_alt.fa', 'chr3_JH636055v2_alt.fa', 'chr3_KI270777v1_alt.fa', 'chr3_KI270778v1_alt.fa', 'chr3_KI270779v1_alt.fa', 'chr3_KI270780v1_alt.fa', 'chr3_KI270781v1_alt.fa', 'chr3_KI270782v1_alt.fa', 'chr3_KI270783v1_alt.fa', 'chr3_KI270784v1_alt.fa', 'chr3_KI270895v1_alt.fa', 'chr3_KI270924v1_alt.fa', 'chr3_KI270934v1_alt.fa', 'chr3_KI270935v1_alt.fa', 'chr3_KI270936v1_alt.fa', 'chr3_KI270937v1_alt.fa', 'chr4_GL000008v2_random.fa', 'chr4_GL000257v2_alt.fa', 'chr4_GL383527v1_alt.fa', 'chr4_GL383528v1_alt.fa', 'chr4_KI270785v1_alt.fa', 'chr4_KI270786v1_alt.fa', 'chr4_KI270787v1_alt.fa', 'chr4_KI270788v1_alt.fa', 'chr4_KI270789v1_alt.fa', 'chr4_KI270790v1_alt.fa', 'chr4_KI270896v1_alt.fa', 'chr4_KI270925v1_alt.fa', 'chr5_GL000208v1_random.fa', 'chr5_GL339449v2_alt.fa', 'chr5_GL383530v1_alt.fa', 'chr5_GL383531v1_alt.fa', 'chr5_GL383532v1_alt.fa', 'chr5_GL949742v1_alt.fa', 'chr5_KI270791v1_alt.fa', 'chr5_KI270792v1_alt.fa', 'chr5_KI270793v1_alt.fa', 'chr5_KI270794v1_alt.fa', 'chr5_KI270795v1_alt.fa', 'chr5_KI270796v1_alt.fa', 'chr5_KI270897v1_alt.fa', 'chr5_KI270898v1_alt.fa', 'chr6_GL000250v2_alt.fa', 'chr6_GL000251v2_alt.fa', 'chr6_GL000252v2_alt.fa', 'chr6_GL000253v2_alt.fa', 'chr6_GL000254v2_alt.fa', 'chr6_GL000255v2_alt.fa', 'chr6_GL000256v2_alt.fa', 'chr6_GL383533v1_alt.fa', 'chr6_KB021644v2_alt.fa', 'chr6_KI270758v1_alt.fa', 'chr6_KI270797v1_alt.fa', 'chr6_KI270798v1_alt.fa', 'chr6_KI270799v1_alt.fa', 'chr6_KI270800v1_alt.fa', 'chr6_KI270801v1_alt.fa', 'chr6_KI270802v1_alt.fa', 'chr7_GL383534v2_alt.fa', 'chr7_KI270803v1_alt.fa', 'chr7_KI270804v1_alt.fa']\n"
     ]
    }
   ],
   "source": [
    "extra_contigs = natsorted([f for f in glob('*') if '_' in f], alg=ns.IGNORECASE)\n",
    "print(extra_contigs[:100])"
   ]
  },
  {
   "cell_type": "code",
   "execution_count": 9,
   "metadata": {},
   "outputs": [
    {
     "name": "stdout",
     "output_type": "stream",
     "text": [
      "Opening chr1.fa\n"
     ]
    },
    {
     "name": "stdout",
     "output_type": "stream",
     "text": [
      "Opening chr2.fa\n"
     ]
    },
    {
     "name": "stdout",
     "output_type": "stream",
     "text": [
      "Opening chr3.fa\n"
     ]
    },
    {
     "name": "stdout",
     "output_type": "stream",
     "text": [
      "Opening chr4.fa\n"
     ]
    },
    {
     "name": "stdout",
     "output_type": "stream",
     "text": [
      "Opening chr5.fa\n"
     ]
    },
    {
     "name": "stdout",
     "output_type": "stream",
     "text": [
      "Opening chr6.fa\n"
     ]
    },
    {
     "name": "stdout",
     "output_type": "stream",
     "text": [
      "Opening chr7.fa\n"
     ]
    },
    {
     "name": "stdout",
     "output_type": "stream",
     "text": [
      "Opening chr8.fa\n"
     ]
    },
    {
     "name": "stdout",
     "output_type": "stream",
     "text": [
      "Opening chr9.fa\n"
     ]
    },
    {
     "name": "stdout",
     "output_type": "stream",
     "text": [
      "Opening chr10.fa\n"
     ]
    },
    {
     "name": "stdout",
     "output_type": "stream",
     "text": [
      "Opening chr11.fa\n"
     ]
    },
    {
     "name": "stdout",
     "output_type": "stream",
     "text": [
      "Opening chr12.fa\n"
     ]
    },
    {
     "name": "stdout",
     "output_type": "stream",
     "text": [
      "Opening chr13.fa\n"
     ]
    },
    {
     "name": "stdout",
     "output_type": "stream",
     "text": [
      "Opening chr14.fa\n"
     ]
    },
    {
     "name": "stdout",
     "output_type": "stream",
     "text": [
      "Opening chr15.fa\n"
     ]
    },
    {
     "name": "stdout",
     "output_type": "stream",
     "text": [
      "Opening chr16.fa\n"
     ]
    },
    {
     "name": "stdout",
     "output_type": "stream",
     "text": [
      "Opening chr17.fa\n"
     ]
    },
    {
     "name": "stdout",
     "output_type": "stream",
     "text": [
      "Opening chr18.fa\n"
     ]
    },
    {
     "name": "stdout",
     "output_type": "stream",
     "text": [
      "Opening chr19.fa\n"
     ]
    },
    {
     "name": "stdout",
     "output_type": "stream",
     "text": [
      "Opening chr20.fa\n"
     ]
    },
    {
     "name": "stdout",
     "output_type": "stream",
     "text": [
      "Opening chr21.fa\n"
     ]
    },
    {
     "name": "stdout",
     "output_type": "stream",
     "text": [
      "Opening chr22.fa\n"
     ]
    },
    {
     "name": "stdout",
     "output_type": "stream",
     "text": [
      "Opening chrX.fa\n"
     ]
    },
    {
     "name": "stdout",
     "output_type": "stream",
     "text": [
      "Opening chrY.fa\n"
     ]
    },
    {
     "name": "stdout",
     "output_type": "stream",
     "text": [
      "Opening chrM.fa\nOpening chr1_GL383518v1_alt.fa\nOpening chr1_GL383519v1_alt.fa\nOpening chr1_GL383520v2_alt.fa\nOpening chr1_KI270706v1_random.fa\nOpening chr1_KI270707v1_random.fa\nOpening chr1_KI270708v1_random.fa\n"
     ]
    },
    {
     "name": "stdout",
     "output_type": "stream",
     "text": [
      "Opening chr1_KI270709v1_random.fa\nOpening chr1_KI270710v1_random.fa\nOpening chr1_KI270711v1_random.fa\nOpening chr1_KI270712v1_random.fa\nOpening chr1_KI270713v1_random.fa\nOpening chr1_KI270714v1_random.fa\nOpening chr1_KI270759v1_alt.fa\nOpening chr1_KI270760v1_alt.fa\nOpening chr1_KI270761v1_alt.fa\n"
     ]
    },
    {
     "name": "stdout",
     "output_type": "stream",
     "text": [
      "Opening chr1_KI270762v1_alt.fa\nOpening chr1_KI270763v1_alt.fa\nOpening chr1_KI270764v1_alt.fa\nOpening chr1_KI270765v1_alt.fa\nOpening chr1_KI270766v1_alt.fa\n"
     ]
    },
    {
     "name": "stdout",
     "output_type": "stream",
     "text": [
      "Opening chr1_KI270892v1_alt.fa\nOpening chr2_GL383521v1_alt.fa\nOpening chr2_GL383522v1_alt.fa\nOpening chr2_GL582966v2_alt.fa\nOpening chr2_KI270715v1_random.fa\nOpening chr2_KI270716v1_random.fa\nOpening chr2_KI270767v1_alt.fa\nOpening chr2_KI270768v1_alt.fa\n"
     ]
    },
    {
     "name": "stdout",
     "output_type": "stream",
     "text": [
      "Opening chr2_KI270769v1_alt.fa\n"
     ]
    },
    {
     "name": "stdout",
     "output_type": "stream",
     "text": [
      "Opening chr2_KI270770v1_alt.fa\nOpening chr2_KI270771v1_alt.fa\nOpening chr2_KI270772v1_alt.fa\nOpening chr2_KI270773v1_alt.fa\nOpening chr2_KI270774v1_alt.fa\nOpening chr2_KI270775v1_alt.fa\nOpening chr2_KI270776v1_alt.fa\nOpening chr2_KI270893v1_alt.fa\n"
     ]
    },
    {
     "name": "stdout",
     "output_type": "stream",
     "text": [
      "Opening chr2_KI270894v1_alt.fa\nOpening chr3_GL000221v1_random.fa\nOpening chr3_GL383526v1_alt.fa\nOpening chr3_JH636055v2_alt.fa\nOpening chr3_KI270777v1_alt.fa\nOpening chr3_KI270778v1_alt.fa\nOpening chr3_KI270779v1_alt.fa\n"
     ]
    },
    {
     "name": "stdout",
     "output_type": "stream",
     "text": [
      "Opening chr3_KI270780v1_alt.fa\nOpening chr3_KI270781v1_alt.fa\nOpening chr3_KI270782v1_alt.fa\nOpening chr3_KI270783v1_alt.fa\nOpening chr3_KI270784v1_alt.fa\nOpening chr3_KI270895v1_alt.fa\nOpening chr3_KI270924v1_alt.fa\nOpening chr3_KI270934v1_alt.fa\nOpening chr3_KI270935v1_alt.fa\n"
     ]
    },
    {
     "name": "stdout",
     "output_type": "stream",
     "text": [
      "Opening chr3_KI270936v1_alt.fa\nOpening chr3_KI270937v1_alt.fa\nOpening chr4_GL000008v2_random.fa\nOpening chr4_GL000257v2_alt.fa\nOpening chr4_GL383527v1_alt.fa\nOpening chr4_GL383528v1_alt.fa\nOpening chr4_KI270785v1_alt.fa\n"
     ]
    },
    {
     "name": "stdout",
     "output_type": "stream",
     "text": [
      "Opening chr4_KI270786v1_alt.fa\nOpening chr4_KI270787v1_alt.fa\nOpening chr4_KI270788v1_alt.fa\nOpening chr4_KI270789v1_alt.fa\nOpening chr4_KI270790v1_alt.fa\nOpening chr4_KI270896v1_alt.fa\nOpening chr4_KI270925v1_alt.fa\n"
     ]
    },
    {
     "name": "stdout",
     "output_type": "stream",
     "text": [
      "Opening chr5_GL000208v1_random.fa\nOpening chr5_GL339449v2_alt.fa\nOpening chr5_GL383530v1_alt.fa\nOpening chr5_GL383531v1_alt.fa\nOpening chr5_GL383532v1_alt.fa\n"
     ]
    },
    {
     "name": "stdout",
     "output_type": "stream",
     "text": [
      "Opening chr5_GL949742v1_alt.fa\nOpening chr5_KI270791v1_alt.fa\nOpening chr5_KI270792v1_alt.fa\nOpening chr5_KI270793v1_alt.fa\nOpening chr5_KI270794v1_alt.fa\nOpening chr5_KI270795v1_alt.fa\nOpening chr5_KI270796v1_alt.fa\nOpening chr5_KI270897v1_alt.fa\n"
     ]
    },
    {
     "name": "stdout",
     "output_type": "stream",
     "text": [
      "Opening chr5_KI270898v1_alt.fa\nOpening chr6_GL000250v2_alt.fa\n"
     ]
    },
    {
     "name": "stdout",
     "output_type": "stream",
     "text": [
      "Opening chr6_GL000251v2_alt.fa\n"
     ]
    },
    {
     "name": "stdout",
     "output_type": "stream",
     "text": [
      "Opening chr6_GL000252v2_alt.fa\n"
     ]
    },
    {
     "name": "stdout",
     "output_type": "stream",
     "text": [
      "Opening chr6_GL000253v2_alt.fa\n"
     ]
    },
    {
     "name": "stdout",
     "output_type": "stream",
     "text": [
      "Opening chr6_GL000254v2_alt.fa\n"
     ]
    },
    {
     "name": "stdout",
     "output_type": "stream",
     "text": [
      "Opening chr6_GL000255v2_alt.fa\n"
     ]
    },
    {
     "name": "stdout",
     "output_type": "stream",
     "text": [
      "Opening chr6_GL000256v2_alt.fa\n"
     ]
    },
    {
     "name": "stdout",
     "output_type": "stream",
     "text": [
      "Opening chr6_GL383533v1_alt.fa\nOpening chr6_KB021644v2_alt.fa\nOpening chr6_KI270758v1_alt.fa\nOpening chr6_KI270797v1_alt.fa\nOpening chr6_KI270798v1_alt.fa\nOpening chr6_KI270799v1_alt.fa\n"
     ]
    },
    {
     "name": "stdout",
     "output_type": "stream",
     "text": [
      "Opening chr6_KI270800v1_alt.fa\nOpening chr6_KI270801v1_alt.fa\nOpening chr6_KI270802v1_alt.fa\nOpening chr7_GL383534v2_alt.fa\nOpening chr7_KI270803v1_alt.fa\n"
     ]
    },
    {
     "name": "stdout",
     "output_type": "stream",
     "text": [
      "Opening chr7_KI270804v1_alt.fa\nOpening chr7_KI270805v1_alt.fa\nOpening chr7_KI270806v1_alt.fa\nOpening chr7_KI270807v1_alt.fa\nOpening chr7_KI270808v1_alt.fa\nOpening chr7_KI270809v1_alt.fa\nOpening chr7_KI270899v1_alt.fa\n"
     ]
    },
    {
     "name": "stdout",
     "output_type": "stream",
     "text": [
      "Opening chr8_KI270810v1_alt.fa\nOpening chr8_KI270811v1_alt.fa\nOpening chr8_KI270812v1_alt.fa\nOpening chr8_KI270813v1_alt.fa\nOpening chr8_KI270814v1_alt.fa\nOpening chr8_KI270815v1_alt.fa\nOpening chr8_KI270816v1_alt.fa\n"
     ]
    },
    {
     "name": "stdout",
     "output_type": "stream",
     "text": [
      "Opening chr8_KI270817v1_alt.fa\nOpening chr8_KI270818v1_alt.fa\nOpening chr8_KI270819v1_alt.fa\nOpening chr8_KI270820v1_alt.fa\nOpening chr8_KI270821v1_alt.fa\nOpening chr8_KI270822v1_alt.fa\n"
     ]
    },
    {
     "name": "stdout",
     "output_type": "stream",
     "text": [
      "Opening chr8_KI270900v1_alt.fa\nOpening chr8_KI270901v1_alt.fa\nOpening chr8_KI270926v1_alt.fa\nOpening chr9_GL383539v1_alt.fa\nOpening chr9_GL383540v1_alt.fa\nOpening chr9_GL383541v1_alt.fa\nOpening chr9_GL383542v1_alt.fa\n"
     ]
    },
    {
     "name": "stdout",
     "output_type": "stream",
     "text": [
      "Opening chr9_KI270717v1_random.fa\nOpening chr9_KI270718v1_random.fa\nOpening chr9_KI270719v1_random.fa\nOpening chr9_KI270720v1_random.fa\nOpening chr9_KI270823v1_alt.fa\nOpening chr10_GL383545v1_alt.fa\nOpening chr10_GL383546v1_alt.fa\n"
     ]
    },
    {
     "name": "stdout",
     "output_type": "stream",
     "text": [
      "Opening chr10_KI270824v1_alt.fa\nOpening chr10_KI270825v1_alt.fa\nOpening chr11_GL383547v1_alt.fa\nOpening chr11_JH159136v1_alt.fa\nOpening chr11_JH159137v1_alt.fa\nOpening chr11_KI270721v1_random.fa\nOpening chr11_KI270826v1_alt.fa\nOpening chr11_KI270827v1_alt.fa\n"
     ]
    },
    {
     "name": "stdout",
     "output_type": "stream",
     "text": [
      "Opening chr11_KI270829v1_alt.fa\nOpening chr11_KI270830v1_alt.fa\nOpening chr11_KI270831v1_alt.fa\nOpening chr11_KI270832v1_alt.fa\nOpening chr11_KI270902v1_alt.fa\nOpening chr11_KI270903v1_alt.fa\nOpening chr11_KI270927v1_alt.fa\n"
     ]
    },
    {
     "name": "stdout",
     "output_type": "stream",
     "text": [
      "Opening chr12_GL383549v1_alt.fa\nOpening chr12_GL383550v2_alt.fa\nOpening chr12_GL383551v1_alt.fa\nOpening chr12_GL383552v1_alt.fa\nOpening chr12_GL383553v2_alt.fa\nOpening chr12_GL877875v1_alt.fa\nOpening chr12_GL877876v1_alt.fa\n"
     ]
    },
    {
     "name": "stdout",
     "output_type": "stream",
     "text": [
      "Opening chr12_KI270833v1_alt.fa\nOpening chr12_KI270834v1_alt.fa\nOpening chr12_KI270835v1_alt.fa\nOpening chr12_KI270836v1_alt.fa\nOpening chr12_KI270837v1_alt.fa\nOpening chr12_KI270904v1_alt.fa\nOpening chr13_KI270838v1_alt.fa\nOpening chr13_KI270839v1_alt.fa\nOpening chr13_KI270840v1_alt.fa\n"
     ]
    },
    {
     "name": "stdout",
     "output_type": "stream",
     "text": [
      "Opening chr13_KI270841v1_alt.fa\nOpening chr13_KI270842v1_alt.fa\nOpening chr13_KI270843v1_alt.fa\n"
     ]
    },
    {
     "name": "stdout",
     "output_type": "stream",
     "text": [
      "Opening chr14_GL000009v2_random.fa\nOpening chr14_GL000194v1_random.fa\nOpening chr14_GL000225v1_random.fa\nOpening chr14_KI270722v1_random.fa\nOpening chr14_KI270723v1_random.fa\nOpening chr14_KI270724v1_random.fa\n"
     ]
    },
    {
     "name": "stdout",
     "output_type": "stream",
     "text": [
      "Opening chr14_KI270725v1_random.fa\nOpening chr14_KI270726v1_random.fa\nOpening chr14_KI270844v1_alt.fa\nOpening chr14_KI270845v1_alt.fa\nOpening chr14_KI270846v1_alt.fa\nOpening chr14_KI270847v1_alt.fa\n"
     ]
    },
    {
     "name": "stdout",
     "output_type": "stream",
     "text": [
      "Opening chr15_GL383554v1_alt.fa\nOpening chr15_GL383555v2_alt.fa\nOpening chr15_KI270727v1_random.fa\nOpening chr15_KI270848v1_alt.fa\nOpening chr15_KI270849v1_alt.fa\n"
     ]
    },
    {
     "name": "stdout",
     "output_type": "stream",
     "text": [
      "Opening chr15_KI270850v1_alt.fa\nOpening chr15_KI270851v1_alt.fa\nOpening chr15_KI270852v1_alt.fa\nOpening chr15_KI270905v1_alt.fa\n"
     ]
    },
    {
     "name": "stdout",
     "output_type": "stream",
     "text": [
      "Opening chr15_KI270906v1_alt.fa\nOpening chr16_GL383556v1_alt.fa\n"
     ]
    },
    {
     "name": "stdout",
     "output_type": "stream",
     "text": [
      "Opening chr16_GL383557v1_alt.fa\nOpening chr16_KI270728v1_random.fa\nOpening chr16_KI270853v1_alt.fa\n"
     ]
    },
    {
     "name": "stdout",
     "output_type": "stream",
     "text": [
      "Opening chr16_KI270854v1_alt.fa\nOpening chr16_KI270855v1_alt.fa\nOpening chr16_KI270856v1_alt.fa\nOpening chr17_GL000205v2_random.fa\nOpening chr17_GL000258v2_alt.fa\n"
     ]
    },
    {
     "name": "stdout",
     "output_type": "stream",
     "text": [
      "Opening chr17_GL383563v3_alt.fa\nOpening chr17_GL383564v2_alt.fa\nOpening chr17_GL383565v1_alt.fa\nOpening chr17_GL383566v1_alt.fa\nOpening chr17_JH159146v1_alt.fa\nOpening chr17_JH159147v1_alt.fa\nOpening chr17_JH159148v1_alt.fa\n"
     ]
    },
    {
     "name": "stdout",
     "output_type": "stream",
     "text": [
      "Opening chr17_KI270729v1_random.fa\nOpening chr17_KI270730v1_random.fa\nOpening chr17_KI270857v1_alt.fa\n"
     ]
    },
    {
     "name": "stdout",
     "output_type": "stream",
     "text": [
      "Opening chr17_KI270858v1_alt.fa\nOpening chr17_KI270859v1_alt.fa\nOpening chr17_KI270860v1_alt.fa\nOpening chr17_KI270861v1_alt.fa\nOpening chr17_KI270862v1_alt.fa\n"
     ]
    },
    {
     "name": "stdout",
     "output_type": "stream",
     "text": [
      "Opening chr17_KI270907v1_alt.fa\nOpening chr17_KI270908v1_alt.fa\nOpening chr17_KI270909v1_alt.fa\nOpening chr17_KI270910v1_alt.fa\nOpening chr18_GL383567v1_alt.fa\n"
     ]
    },
    {
     "name": "stdout",
     "output_type": "stream",
     "text": [
      "Opening chr18_GL383568v1_alt.fa\nOpening chr18_GL383569v1_alt.fa\nOpening chr18_GL383570v1_alt.fa\nOpening chr18_GL383571v1_alt.fa\nOpening chr18_GL383572v1_alt.fa\nOpening chr18_KI270863v1_alt.fa\nOpening chr18_KI270864v1_alt.fa\nOpening chr18_KI270911v1_alt.fa\n"
     ]
    },
    {
     "name": "stdout",
     "output_type": "stream",
     "text": [
      "Opening chr18_KI270912v1_alt.fa\nOpening chr19_GL000209v2_alt.fa\nOpening chr19_GL383573v1_alt.fa\nOpening chr19_GL383574v1_alt.fa\nOpening chr19_GL383575v2_alt.fa\nOpening chr19_GL383576v1_alt.fa\nOpening chr19_GL949746v1_alt.fa\n"
     ]
    },
    {
     "name": "stdout",
     "output_type": "stream",
     "text": [
      "Opening chr19_GL949747v2_alt.fa\nOpening chr19_GL949748v2_alt.fa\nOpening chr19_GL949749v2_alt.fa\nOpening chr19_GL949750v2_alt.fa\n"
     ]
    },
    {
     "name": "stdout",
     "output_type": "stream",
     "text": [
      "Opening chr19_GL949751v2_alt.fa\nOpening chr19_GL949752v1_alt.fa\nOpening chr19_GL949753v2_alt.fa\nOpening chr19_KI270865v1_alt.fa\n"
     ]
    },
    {
     "name": "stdout",
     "output_type": "stream",
     "text": [
      "Opening chr19_KI270866v1_alt.fa\nOpening chr19_KI270867v1_alt.fa\nOpening chr19_KI270868v1_alt.fa\nOpening chr19_KI270882v1_alt.fa\nOpening chr19_KI270883v1_alt.fa\nOpening chr19_KI270884v1_alt.fa\nOpening chr19_KI270885v1_alt.fa\nOpening chr19_KI270886v1_alt.fa\n"
     ]
    },
    {
     "name": "stdout",
     "output_type": "stream",
     "text": [
      "Opening chr19_KI270887v1_alt.fa\nOpening chr19_KI270888v1_alt.fa\nOpening chr19_KI270889v1_alt.fa\nOpening chr19_KI270890v1_alt.fa\nOpening chr19_KI270891v1_alt.fa\nOpening chr19_KI270914v1_alt.fa\nOpening chr19_KI270915v1_alt.fa\nOpening chr19_KI270916v1_alt.fa\nOpening chr19_KI270917v1_alt.fa\n"
     ]
    },
    {
     "name": "stdout",
     "output_type": "stream",
     "text": [
      "Opening chr19_KI270918v1_alt.fa\nOpening chr19_KI270919v1_alt.fa\nOpening chr19_KI270920v1_alt.fa\nOpening chr19_KI270921v1_alt.fa\nOpening chr19_KI270922v1_alt.fa\nOpening chr19_KI270923v1_alt.fa\nOpening chr19_KI270929v1_alt.fa\nOpening chr19_KI270930v1_alt.fa\n"
     ]
    },
    {
     "name": "stdout",
     "output_type": "stream",
     "text": [
      "Opening chr19_KI270931v1_alt.fa\nOpening chr19_KI270932v1_alt.fa\nOpening chr19_KI270933v1_alt.fa\nOpening chr19_KI270938v1_alt.fa\nOpening chr20_GL383577v2_alt.fa\n"
     ]
    },
    {
     "name": "stdout",
     "output_type": "stream",
     "text": [
      "Opening chr20_KI270869v1_alt.fa\nOpening chr20_KI270870v1_alt.fa\nOpening chr20_KI270871v1_alt.fa\nOpening chr21_GL383578v2_alt.fa\nOpening chr21_GL383579v2_alt.fa\nOpening chr21_GL383580v2_alt.fa\nOpening chr21_GL383581v2_alt.fa\nOpening chr21_KI270872v1_alt.fa\nOpening chr21_KI270873v1_alt.fa\n"
     ]
    },
    {
     "name": "stdout",
     "output_type": "stream",
     "text": [
      "Opening chr21_KI270874v1_alt.fa\nOpening chr22_GL383582v2_alt.fa\nOpening chr22_GL383583v2_alt.fa\nOpening chr22_KB663609v1_alt.fa\nOpening chr22_KI270731v1_random.fa\nOpening chr22_KI270732v1_random.fa\n"
     ]
    },
    {
     "name": "stdout",
     "output_type": "stream",
     "text": [
      "Opening chr22_KI270733v1_random.fa\nOpening chr22_KI270734v1_random.fa\nOpening chr22_KI270735v1_random.fa\nOpening chr22_KI270736v1_random.fa\nOpening chr22_KI270737v1_random.fa\nOpening chr22_KI270738v1_random.fa\nOpening chr22_KI270739v1_random.fa\nOpening chr22_KI270875v1_alt.fa\nOpening chr22_KI270876v1_alt.fa\n"
     ]
    },
    {
     "name": "stdout",
     "output_type": "stream",
     "text": [
      "Opening chr22_KI270877v1_alt.fa\nOpening chr22_KI270878v1_alt.fa\nOpening chr22_KI270879v1_alt.fa\nOpening chr22_KI270928v1_alt.fa\nOpening chrUn_GL000195v1.fa\nOpening chrUn_GL000213v1.fa\n"
     ]
    },
    {
     "name": "stdout",
     "output_type": "stream",
     "text": [
      "Opening chrUn_GL000214v1.fa\nOpening chrUn_GL000216v2.fa\nOpening chrUn_GL000218v1.fa\nOpening chrUn_GL000219v1.fa\nOpening chrUn_GL000220v1.fa\nOpening chrUn_GL000224v1.fa\nOpening chrUn_GL000226v1.fa\nOpening chrUn_KI270302v1.fa\nOpening chrUn_KI270303v1.fa\nOpening chrUn_KI270304v1.fa\nOpening chrUn_KI270305v1.fa\nOpening chrUn_KI270310v1.fa\n"
     ]
    },
    {
     "name": "stdout",
     "output_type": "stream",
     "text": [
      "Opening chrUn_KI270311v1.fa\nOpening chrUn_KI270312v1.fa\nOpening chrUn_KI270315v1.fa\nOpening chrUn_KI270316v1.fa\nOpening chrUn_KI270317v1.fa\nOpening chrUn_KI270320v1.fa\nOpening chrUn_KI270322v1.fa\nOpening chrUn_KI270329v1.fa\nOpening chrUn_KI270330v1.fa\nOpening chrUn_KI270333v1.fa\nOpening chrUn_KI270334v1.fa\nOpening chrUn_KI270335v1.fa\nOpening chrUn_KI270336v1.fa\nOpening chrUn_KI270337v1.fa\nOpening chrUn_KI270338v1.fa\nOpening chrUn_KI270340v1.fa\nOpening chrUn_KI270362v1.fa\nOpening chrUn_KI270363v1.fa\n"
     ]
    },
    {
     "name": "stdout",
     "output_type": "stream",
     "text": [
      "Opening chrUn_KI270364v1.fa\nOpening chrUn_KI270366v1.fa\nOpening chrUn_KI270371v1.fa\nOpening chrUn_KI270372v1.fa\nOpening chrUn_KI270373v1.fa\nOpening chrUn_KI270374v1.fa\nOpening chrUn_KI270375v1.fa\nOpening chrUn_KI270376v1.fa\nOpening chrUn_KI270378v1.fa\nOpening chrUn_KI270379v1.fa\nOpening chrUn_KI270381v1.fa\nOpening chrUn_KI270382v1.fa\nOpening chrUn_KI270383v1.fa\nOpening chrUn_KI270384v1.fa\nOpening chrUn_KI270385v1.fa\nOpening chrUn_KI270386v1.fa\nOpening chrUn_KI270387v1.fa\nOpening chrUn_KI270388v1.fa\nOpening chrUn_KI270389v1.fa\nOpening chrUn_KI270390v1.fa\nOpening chrUn_KI270391v1.fa\nOpening chrUn_KI270392v1.fa\nOpening chrUn_KI270393v1.fa\nOpening chrUn_KI270394v1.fa\nOpening chrUn_KI270395v1.fa\nOpening chrUn_KI270396v1.fa\nOpening chrUn_KI270411v1.fa\nOpening chrUn_KI270412v1.fa\nOpening chrUn_KI270414v1.fa\nOpening chrUn_KI270417v1.fa\nOpening chrUn_KI270418v1.fa\n"
     ]
    },
    {
     "name": "stdout",
     "output_type": "stream",
     "text": [
      "Opening chrUn_KI270419v1.fa\nOpening chrUn_KI270420v1.fa\nOpening chrUn_KI270422v1.fa\nOpening chrUn_KI270423v1.fa\nOpening chrUn_KI270424v1.fa\nOpening chrUn_KI270425v1.fa\nOpening chrUn_KI270429v1.fa\nOpening chrUn_KI270435v1.fa\nOpening chrUn_KI270438v1.fa\nOpening chrUn_KI270442v1.fa\n"
     ]
    },
    {
     "name": "stdout",
     "output_type": "stream",
     "text": [
      "Opening chrUn_KI270448v1.fa\nOpening chrUn_KI270465v1.fa\nOpening chrUn_KI270466v1.fa\nOpening chrUn_KI270467v1.fa\nOpening chrUn_KI270468v1.fa\nOpening chrUn_KI270507v1.fa\nOpening chrUn_KI270508v1.fa\nOpening chrUn_KI270509v1.fa\nOpening chrUn_KI270510v1.fa\nOpening chrUn_KI270511v1.fa\nOpening chrUn_KI270512v1.fa\nOpening chrUn_KI270515v1.fa\nOpening chrUn_KI270516v1.fa\nOpening chrUn_KI270517v1.fa\n"
     ]
    },
    {
     "name": "stdout",
     "output_type": "stream",
     "text": [
      "Opening chrUn_KI270518v1.fa\nOpening chrUn_KI270519v1.fa\nOpening chrUn_KI270521v1.fa\nOpening chrUn_KI270522v1.fa\nOpening chrUn_KI270528v1.fa\nOpening chrUn_KI270529v1.fa\nOpening chrUn_KI270530v1.fa\nOpening chrUn_KI270538v1.fa\nOpening chrUn_KI270539v1.fa\nOpening chrUn_KI270544v1.fa\nOpening chrUn_KI270548v1.fa\nOpening chrUn_KI270579v1.fa\nOpening chrUn_KI270580v1.fa\nOpening chrUn_KI270581v1.fa\n"
     ]
    },
    {
     "name": "stdout",
     "output_type": "stream",
     "text": [
      "Opening chrUn_KI270582v1.fa\nOpening chrUn_KI270583v1.fa\nOpening chrUn_KI270584v1.fa\nOpening chrUn_KI270587v1.fa\nOpening chrUn_KI270588v1.fa\nOpening chrUn_KI270589v1.fa\nOpening chrUn_KI270590v1.fa\nOpening chrUn_KI270591v1.fa\nOpening chrUn_KI270593v1.fa\nOpening chrUn_KI270741v1.fa\nOpening chrUn_KI270742v1.fa\nOpening chrUn_KI270743v1.fa\nOpening chrUn_KI270744v1.fa\nOpening chrUn_KI270745v1.fa\n"
     ]
    },
    {
     "name": "stdout",
     "output_type": "stream",
     "text": [
      "Opening chrUn_KI270746v1.fa\nOpening chrUn_KI270747v1.fa\nOpening chrUn_KI270748v1.fa\nOpening chrUn_KI270749v1.fa\nOpening chrUn_KI270750v1.fa\nOpening chrUn_KI270751v1.fa\nOpening chrUn_KI270752v1.fa\nOpening chrUn_KI270753v1.fa\nOpening chrUn_KI270754v1.fa\nOpening chrUn_KI270755v1.fa\nOpening chrUn_KI270756v1.fa\nOpening chrUn_KI270757v1.fa\nOpening chrX_KI270880v1_alt.fa\n"
     ]
    },
    {
     "name": "stdout",
     "output_type": "stream",
     "text": [
      "Opening chrX_KI270881v1_alt.fa\nOpening chrX_KI270913v1_alt.fa\nOpening chrY_KI270740v1_random.fa\nDone concatting files\n"
     ]
    }
   ],
   "source": [
    "#```  \n",
    "with open('Human v38 All Variants.fa', 'w') as out:\n",
    "    for filename in core_chromosomes + extra_contigs:\n",
    "        print('Opening', filename)\n",
    "        with open(filename, 'r') as infile:\n",
    "            for line in infile.readlines():\n",
    "                out.writelines([line])\n",
    "print('Done concatting files')\n",
    "#```"
   ]
  },
  {
   "cell_type": "code",
   "execution_count": 37,
   "metadata": {},
   "outputs": [
    {
     "name": "stdout",
     "output_type": "stream",
     "text": [
      ">chr1\n\nNNNNNNNNNNNNNNNNNNNNNNNNNNNNNNNNNNNNNNNNNNNNNNNNNN\n\n"
     ]
    },
    {
     "name": "stdout",
     "output_type": "stream",
     "text": [
      ">chr2\n\nNNNNNNNNNNNNNNNNNNNNNNNNNNNNNNNNNNNNNNNNNNNNNNNNNN\n\n"
     ]
    },
    {
     "name": "stdout",
     "output_type": "stream",
     "text": [
      ">chr3\n\nNNNNNNNNNNNNNNNNNNNNNNNNNNNNNNNNNNNNNNNNNNNNNNNNNN\n\n"
     ]
    },
    {
     "name": "stdout",
     "output_type": "stream",
     "text": [
      ">chr4\n\nNNNNNNNNNNNNNNNNNNNNNNNNNNNNNNNNNNNNNNNNNNNNNNNNNN\n\n"
     ]
    },
    {
     "name": "stdout",
     "output_type": "stream",
     "text": [
      ">chr5\n\nNNNNNNNNNNNNNNNNNNNNNNNNNNNNNNNNNNNNNNNNNNNNNNNNNN\n\n"
     ]
    },
    {
     "name": "stdout",
     "output_type": "stream",
     "text": [
      ">chr6\n\nNNNNNNNNNNNNNNNNNNNNNNNNNNNNNNNNNNNNNNNNNNNNNNNNNN\n\n"
     ]
    },
    {
     "name": "stdout",
     "output_type": "stream",
     "text": [
      ">chr7\n\nNNNNNNNNNNNNNNNNNNNNNNNNNNNNNNNNNNNNNNNNNNNNNNNNNN\n\n"
     ]
    },
    {
     "name": "stdout",
     "output_type": "stream",
     "text": [
      ">chr8\n\nNNNNNNNNNNNNNNNNNNNNNNNNNNNNNNNNNNNNNNNNNNNNNNNNNN\n\n"
     ]
    },
    {
     "name": "stdout",
     "output_type": "stream",
     "text": [
      ">chr9\n\nNNNNNNNNNNNNNNNNNNNNNNNNNNNNNNNNNNNNNNNNNNNNNNNNNN\n\n"
     ]
    },
    {
     "name": "stdout",
     "output_type": "stream",
     "text": [
      ">chr10\n\nNNNNNNNNNNNNNNNNNNNNNNNNNNNNNNNNNNNNNNNNNNNNNNNNNN\n\n"
     ]
    },
    {
     "name": "stdout",
     "output_type": "stream",
     "text": [
      ">chr11\n\nNNNNNNNNNNNNNNNNNNNNNNNNNNNNNNNNNNNNNNNNNNNNNNNNNN\n\n"
     ]
    },
    {
     "name": "stdout",
     "output_type": "stream",
     "text": [
      ">chr12\n\nNNNNNNNNNNNNNNNNNNNNNNNNNNNNNNNNNNNNNNNNNNNNNNNNNN\n\n"
     ]
    },
    {
     "name": "stdout",
     "output_type": "stream",
     "text": [
      ">chr13\n\nNNNNNNNNNNNNNNNNNNNNNNNNNNNNNNNNNNNNNNNNNNNNNNNNNN\n\n"
     ]
    },
    {
     "name": "stdout",
     "output_type": "stream",
     "text": [
      ">chr14\n\nNNNNNNNNNNNNNNNNNNNNNNNNNNNNNNNNNNNNNNNNNNNNNNNNNN\n\n"
     ]
    },
    {
     "name": "stdout",
     "output_type": "stream",
     "text": [
      ">chr15\n\nNNNNNNNNNNNNNNNNNNNNNNNNNNNNNNNNNNNNNNNNNNNNNNNNNN\n\n"
     ]
    },
    {
     "name": "stdout",
     "output_type": "stream",
     "text": [
      ">chr16\n\nNNNNNNNNNNNNNNNNNNNNNNNNNNNNNNNNNNNNNNNNNNNNNNNNNN\n\n"
     ]
    },
    {
     "name": "stdout",
     "output_type": "stream",
     "text": [
      ">chr17\n\nNNNNNNNNNNNNNNNNNNNNNNNNNNNNNNNNNNNNNNNNNNNNNNNNNN\n\n"
     ]
    },
    {
     "name": "stdout",
     "output_type": "stream",
     "text": [
      ">chr18\n\nNNNNNNNNNNNNNNNNNNNNNNNNNNNNNNNNNNNNNNNNNNNNNNNNNN\n\n"
     ]
    },
    {
     "name": "stdout",
     "output_type": "stream",
     "text": [
      ">chr19\n\nNNNNNNNNNNNNNNNNNNNNNNNNNNNNNNNNNNNNNNNNNNNNNNNNNN\n\n>chr20\n\nNNNNNNNNNNNNNNNNNNNNNNNNNNNNNNNNNNNNNNNNNNNNNNNNNN\n\n"
     ]
    },
    {
     "name": "stdout",
     "output_type": "stream",
     "text": [
      ">chr21\n\nNNNNNNNNNNNNNNNNNNNNNNNNNNNNNNNNNNNNNNNNNNNNNNNNNN\n\n>chr22\n\nNNNNNNNNNNNNNNNNNNNNNNNNNNNNNNNNNNNNNNNNNNNNNNNNNN\n\n"
     ]
    },
    {
     "name": "stdout",
     "output_type": "stream",
     "text": [
      ">chrM\n\nGATCACAGGTCTATCACCCTATTAACCACTCACGGGAGCTCTCCATGCAT\n\n>chrX\n\nNNNNNNNNNNNNNNNNNNNNNNNNNNNNNNNNNNNNNNNNNNNNNNNNNN\n\n"
     ]
    },
    {
     "name": "stdout",
     "output_type": "stream",
     "text": [
      ">chrY\n\nNNNNNNNNNNNNNNNNNNNNNNNNNNNNNNNNNNNNNNNNNNNNNNNNNN\n\n>chr1_GL383518v1_alt\n\nctataatcccagcttgttgggaggccaaggcaggaggatcacttgaagcc\n\n>chr1_GL383519v1_alt\n\nCATCCCTCGATCCCAGGAGCCTAGCCGCACACTCTGCTCCCAGAACTTGG\n\n>chr1_GL383520v2_alt\n\nCATGAAGGAGTAAGGTGTGTAGTAAATAAATCATAGACTGTTAATTCTGA\n\n>chr1_KI270706v1_random\n\nGAATTCAGCTGAGAAGAACAGGCAAGGACTTAGGAAATATTCCTTATTTG\n\n>chr1_KI270707v1_random\n\nAGGGGTCTGCTTAGAGAGGGTCTCATTAGTGGGGTCTAGTAGTGGGGTTT\n\n>chr1_KI270708v1_random\n\ngatcgagactatcctggctaacacggtgaaaccccgtctctactaaaaat\n\n>chr1_KI270709v1_random\n\nGAATTCATTCGATGACGATTCCATTCAATTCCGTTCAATGATTCCATTAG\n\n>chr1_KI270710v1_random\n\naaactgtgcagcctctatggaaaacagtaccgtggttcctcaaaaaaatt\n\n>chr1_KI270711v1_random\n\ntgtgtatgtgtatgtgtatgtatgtgtatgtgtatgtgtatatgtatatg\n\n>chr1_KI270712v1_random\n\nGAATTCTCAGAACTTTCAAAACACAAATCTTCATCCGCAGGGATGTTCAG\n\n>chr1_KI270713v1_random\n\nGAGCATTCTCTAGTAGGAAGACCTTTTTAGAGTACAAAGGccagatcctg\n\n>chr1_KI270714v1_random\n\nCTaaacacaaaaagtttagctgggcatgatggtgcatgcctgtaatctga\n\n>chr1_KI270759v1_alt\n\ngggaggccgaggcaggtggatcacgaggtcaggagatcgagaccatcctg\n\n>chr1_KI270760v1_alt\n\nccagccagaataccacatgcatttagctgttctgtctccttaggctcctc\n\n>chr1_KI270761v1_alt\n\nCACTGTGAGTCCAACATGGTTCTCCAAACTTACACATTATCTCATCAACC\n\n>chr1_KI270762v1_alt\n\nGTACTGGAGGCCTGGACGGGCCTCACTCCATTCTTAGGGAGCGGCTGCTC\n\n>chr1_KI270763v1_alt\n\nccaggctggagtgtagtggtggcactatcacagctcactgcagcctcgat\n\n>chr1_KI270764v1_alt\n\nCAgagtgagtgagtgagtgagtgagAGTGTAAACAGGTGACTCCAGCCCA\n\n>chr1_KI270765v1_alt\n\nCTGAACTCTCAATCACATTTAGCGAGACGCTTTTCTAAAGGAATCCTCTA\n\n>chr1_KI270766v1_alt\n\nGAATTCACTCCTGGTCCAATGAAGCCATTTCCTGGCATGGCCAAAGATCA\n\n>chr1_KI270892v1_alt\n\nCACTGTGAGTCCAACATGGTTCTCCAAACTTACACATTATCTCATCAACC\n\n>chr2_GL383521v1_alt\n\nagtccttatagcaaccctatcattaacctgactacacagatgagaaaact\n\n>chr2_GL383522v1_alt\n\nAAAATATAAAAGATTAGATTTTATTTTCTAAAGTGACCTTGTTCCACATT\n\n>chr2_GL582966v2_alt\n\nATAAacacacacagacatatatatcacacacatacagacacaccacataa\n\n>chr2_KI270715v1_random\n\nGAattctcagaaaccagtttgtgatgtgtgtactcaactaacagggttga\n\n>chr2_KI270716v1_random\n\nGAATTCTTTCTATAACTCTATTCGATTCCATTCGATGATGATTCCATTCT\n\n>chr2_KI270767v1_alt\n\nGaattcttcccaaagtcagctctctcacgccactacctggaatgcctggt\n\n>chr2_KI270768v1_alt\n\nGAATTCAATAGAAAATAACTTTGCAGAATAAAATCTCAGGTGTGTTTTTT\n\n>chr2_KI270769v1_alt\n\nGCACTTTCTTTCAAACCCTCTGTTGCTTGCCTTGCCGTTTGCTTCTCCCT\n\n>chr2_KI270770v1_alt\n\ngtgcgtgtgtgtatgtctgtatatgtgtgtgcatgtgcgtgtgttttttg\n\n>chr2_KI270771v1_alt\n\ngatcacaccagcctcctagtcagttctgatgagagaatctggatacctta\n\n>chr2_KI270772v1_alt\n\nGAATTCGATGTTTCCAATCAATTCCATTCAATGATGCTTCCATTCGAGGC\n\n>chr2_KI270773v1_alt\n\nATTATCTGTGATCTAAAAATATTATTTTCTTGTATGTCTTTAAAAATTAT\n\n>chr2_KI270774v1_alt\n\nGATCCTATGAAGTTCTAATTTTCCCAAAACCTAGAGGAAACATGTGCTTT\n\n>chr2_KI270775v1_alt\n\ntgagatagacacaaagaacttattattcgcagcaatagcactaggcagaa\n\n>chr2_KI270776v1_alt\n\ngaattccaaattgtgggtaacaaggcctctctaatttggctaaaattcct\n\n>chr2_KI270893v1_alt\n\nGaattcttcccaaagtcagctctctcacgccactacctggaatgcctggt\n\n>chr2_KI270894v1_alt\n\nAAGCTTATtctcaaagtccttaacttacatctatcaaggtcattttttgc\n\n>chr3_GL000221v1_random\n\nGAATTCGTtgaggagcttctggaaagtgcacattctgactcagcaggtat\n\n>chr3_GL383526v1_alt\n\nTCACTAATTTTCCATCTGAAGATGTACTTGACAATGATCTTACATGCACA\n\n>chr3_JH636055v2_alt\n\nGAATTCAGTGTGCAAAGATGCTATTAGGTGgagaggaaatggggaaggga\n\n>chr3_KI270777v1_alt\n\nGAATTCAGGTGTAAAGAAAAACAACAGGCattcaagaaatactgtacccc\n\n>chr3_KI270778v1_alt\n\nTAATAAAGTAATAAAAGGAAATTCATAATGGGTAAAGAAAATCAAATGTA\n\n>chr3_KI270779v1_alt\n\nCATTATAATAAAAACCTTTAAATGCTCTGAGTGCCCAGCGTCAGCATGGT\n\n>chr3_KI270780v1_alt\n\ncaggagttcgagacctgcctggccaacatggtgaaaccctgtctctacta\n\n>chr3_KI270781v1_alt\n\ngaattctatattggccctggctttctttctgggggcgtttctgagtcaca\n\n>chr3_KI270782v1_alt\n\nGATCCATGAAGATACGTGAGGTCTCTTGCTGCTAGAGAGCGGTGCCAGTG\n\n>chr3_KI270783v1_alt\n\nACTCCAATGTATTGCTAAAGGTGGTCGTATAAACCATTCTGTTTGCAATC\n\n>chr3_KI270784v1_alt\n\nGAATTCCTAGAAACTGTTTTCCTTGTCTGCGGCCATTGTGCTGCTGCTAC\n\n>chr3_KI270895v1_alt\n\nGAATTCTTCCCTGAGACTTTGTCTCTCTGAGTATCATCTTGCCAACTATC\n\n>chr3_KI270924v1_alt\n\nGAATTCTTCCCTGAGACTTTGTCTCTCTGAGTATCATCTTGCCAACTATC\n\n>chr3_KI270934v1_alt\n\nGAATTCTTCCCTGAGACTTTGTCTCTCTGAGTATCATCTTGCCAACTATC\n\n>chr3_KI270935v1_alt\n\nCATTATAATAAAAACCTTTAAATGCTCTGAGTGCCCAGCGTCAGCATGGT\n\n>chr3_KI270936v1_alt\n\nGAATTCTTCCCTGAGACTTTGTCTCTCTGAGTATCATCTTGCCAACTATC\n\n>chr3_KI270937v1_alt\n\nGAATTCTTCCCTGAGACTTTGTCTCTCTGAGTATCATCTTGCCAACTATC\n\n>chr4_GL000008v2_random\n\nGAATTcaatggaatggaattcaatggaatgcaatgaaatacaatggaatg\n\n>chr4_GL000257v2_alt\n\nGtcatatggtagtctatttttaatttctttaggaaactccatacagtttt\n\n>chr4_GL383527v1_alt\n\nGAATTCTCCCGTTTCAAGAATAATCTGAGTTTTGGaaaaaaaaaaaaaaa\n\n>chr4_GL383528v1_alt\n\nGAATTCCACTGCTGTAATTGTAAGTAAAAGTTCACTATTGTTGTCTATGT\n\n>chr4_KI270785v1_alt\n\nTTTTCATGATGCCTGTCACATTCTGAAATGGAATGCAGTTAATTTCTCTC\n\n>chr4_KI270786v1_alt\n\nGAATTCCTGAACTGTTAAAAATAATAACTCTTGTTTGTGTCATTCTCCAA\n\n>chr4_KI270787v1_alt\n\ncagatatttacagaactgtctagccaacaactgcagaatatacattctat\n\n>chr4_KI270788v1_alt\n\nCtccattctccaaaacattgagaaaatgaatttctattgtttaagccacc\n\n>chr4_KI270789v1_alt\n\nGAATTCCATTCAATCCATACCTGCATGTGCCTACCGTGAGTGAGGCTCTG\n\n>chr4_KI270790v1_alt\n\nGAATTCATGACATAAACTTCATGAACGGACTTAACACACAGCATGTTCTA\n\n>chr4_KI270896v1_alt\n\nGAATTCCTGAACTGTTAAAAATAATAACTCTTGTTTGTGTCATTCTCCAA\n\n>chr4_KI270925v1_alt\n\nGAATTCACTACCAAAAAAAACAATTTAAAAATCCACCACCACTACCATTA\n\n>chr5_GL000208v1_random\n\ngaattcttcaaagagttccagatatccacaggcagattctacaaaagaag\n\n>chr5_GL339449v2_alt\n\nACAATACTATATATAACCTAAGCATTATCACAGAACGTAATGTAACtttt\n\n>chr5_GL383530v1_alt\n\nAAGCTTgtgggtaagatgtaggttctggagccaggctgcctgggctagaa\n\n>chr5_GL383531v1_alt\n\nGAATTCCATTCTGAGTACGTCTATTTTGGCATGTACCAAAAGAAGAGCTC\n\n>chr5_GL383532v1_alt\n\nGAAttccttaaattactaacttgctagaagattttttaatgaatcattgt\n\n>chr5_GL949742v1_alt\n\nAAgcttgagtgtctttctaaaaatattgaagttcctctccagcatttgag\n\n>chr5_KI270791v1_alt\n\nGAATTCATTGTGGGCGTGATCGCTGATTCCATATTTGAAGGCAGCGTTTG\n\n>chr5_KI270792v1_alt\n\nAAAACCTCACTGGTGGCTTGACATGGTATTAATCAAGGAGAATGTTTGTT\n\n>chr5_KI270793v1_alt\n\ngaattccataccacaatcaggcaggatttattctaggtatgcacggctgg\n\n>chr5_KI270794v1_alt\n\nCACCAGACTAAGGATTGTAGAGGATACAATTAATTGGTAGCCTCAGTCTT\n\n>chr5_KI270795v1_alt\n\nTccccttccctcagcctctggcaaccactattctactttctgtttctatg\n\n>chr5_KI270796v1_alt\n\nATCGTCCTAAAGAAGCAtgagttcctcaaagcagaatctgtgcctcatcc\n\n>chr5_KI270897v1_alt\n\nTCAATGATCAAACCAAAGCAATTATATTTGATTCTGAATTTTAAAAGATT\n\n>chr5_KI270898v1_alt\n\nTccccttccctcagcctctggcaaccactattctactttctgtttctatg\n\n>chr6_GL000250v2_alt\n\nTGGCTGTAGGAAACCAGGTCTTTCCCTCCCAAGGGAGGTGAACTACAAGC\n\n>chr6_GL000251v2_alt\n\natgatgaatcaaggcaaaaacaaggccactgcataattgtaactgaacat\n\n>chr6_GL000252v2_alt\n\nTGGCTGTAGGAAACCAGGTCTTTCCCTCCCAAGGGAGGTGAACTACAAGC\n\n"
     ]
    },
    {
     "name": "stdout",
     "output_type": "stream",
     "text": [
      ">chr6_GL000253v2_alt\n\nTGGCTGTAGGAAACCAGGTCTTTCCCTCCCAAGGGAGGTGAACTACAAGC\n\n>chr6_GL000254v2_alt\n\nTGGCTGTAGGAAACCAGGTCTTTCCCTCCCAAGGGAGGTGAACTACAAGC\n\n>chr6_GL000255v2_alt\n\nTGGCTGTAGGAAACCAGGTCTTTCCCTCCCAAGGGAGGTGAACTACAAGC\n\n>chr6_GL000256v2_alt\n\ntacaagattgtggaattcacaatctggtattaatcaaaaactggcaaatc\n\n>chr6_GL383533v1_alt\n\nGATCATTCTTATCATattttttggaaacatctgaaatgaatggagcactc\n\n>chr6_KB021644v2_alt\n\nACGCTGGGGGGAAACGCCTGCAGCTGGCTCTTCCGGGCATCACTGAATTC\n\n>chr6_KI270758v1_alt\n\ngaattcagtttcttcctggttcagtcttgagagggtgtatgtgtccagga\n\n>chr6_KI270797v1_alt\n\nTCCCGCCTTTGTTCTCGGGTCGCCCCTCTCGCTGGTGGCGCTCCGAGAGA\n\n>chr6_KI270798v1_alt\n\nGCTGGGGACGATCACAAAGCCTCTCTGGTGCCCGGCCAGCGACAGGGACC\n\n>chr6_KI270799v1_alt\n\nACAATATACACAGAGCCCAGGAATTATTTCACATTGCCTAAATTACAAAG\n\n>chr6_KI270800v1_alt\n\ngagacatgaaaacccatacaaaggatcaatgaaaccagagttagttcttt\n\n>chr6_KI270801v1_alt\n\nTTAACTAGAATCATGTTTTAAAAAATTGATATTAAATGTGACACTTCAGA\n\n>chr6_KI270802v1_alt\n\nGATCCttattaagtttagtaaatttttgtaaagtatccaatgcagcaacg\n\n>chr7_GL383534v2_alt\n\nCACTTTTTATTTCGACTTTTTGTAACACGTATTTGACTGTAGTTTCAGAT\n\n>chr7_KI270803v1_alt\n\ngatcccacaaataggtgaaaacatgtgatgtttgtctttatatgcctgac\n\n>chr7_KI270804v1_alt\n\nCCCCAACCTGAACAAGGAAGGCCAAACTGATTCCCCAGGTCTGCCGTGCT\n\n>chr7_KI270805v1_alt\n\nCTCAGAGGGGCTGAGGCAACGGGAAGACCCACAGCTGTGAGACACGAGAC\n\n>chr7_KI270806v1_alt\n\nATTTCAAATACGATGGattcattcaacaaattattgagtacataccacgt\n\n>chr7_KI270807v1_alt\n\nGGATCTTGGCAGAGCCCTCACCATCTACCCATGCATACTGGGTCTTGGCA\n\n>chr7_KI270808v1_alt\n\nGaattcttaattgcataagacagccccacacattgcaggacatgctgctg\n\n>chr7_KI270809v1_alt\n\nGATCACAGCTCACTGCAGCCCTGTCCTCCTGACCTCCTGTAATGAACAGG\n\n>chr7_KI270899v1_alt\n\nctaaccctaaccctaaccctaaccctaaccctaaccctaaccctaaccct\n\n>chr8_KI270810v1_alt\n\nATAATTATAGATGAGAGCAATTGCTTCTTTTTTTGTTCTTACCTTCATTT\n\n>chr8_KI270811v1_alt\n\nCGTGTTTGCAGATGTCACCTGTAATGGGGAGATTCTTAAATGGGACACAT\n\n>chr8_KI270812v1_alt\n\nCAAACAACCCAGGAATAATTCAGGAAATGACGAGAAACATATTTCACAGT\n\n>chr8_KI270813v1_alt\n\nAGCTTTCTTCTTTCCTCAGCCGGGAGGATTGCTGTCCTCCTCTTTATCAT\n\n>chr8_KI270814v1_alt\n\naaagcgtgggttgcaaagaagctcagtgagatcaacacaaagttgaaaat\n\n>chr8_KI270815v1_alt\n\nCTTGTGTCTGTCCTAAGCTCAGCCCACCACCAGTTTGTAGGAATTCCATG\n\n>chr8_KI270816v1_alt\n\nCCAGCCCCGACTGCACACAGGACTGGACTCTGCATTCTAGAACACTTCTG\n\n>chr8_KI270817v1_alt\n\ncgttgactaagaagtgtttagagggagagcaggggctttaaaacaatatc\n\n>chr8_KI270818v1_alt\n\nCATCCACTGCCTGAAATAAATTACATTTATAGCCTAATTAACAGTGGTTT\n\n>chr8_KI270819v1_alt\n\nATTTAGGAAAAGATCTAGAGAAGTCAAGGTGGGGCCCGGAGGGGATGGGA\n\n>chr8_KI270820v1_alt\n\nCGGCCAGAGGGTCCGAGGGACACACAGGAGCACTGTGCCCGCCATGGGCG\n\n>chr8_KI270821v1_alt\n\nTCTAACGAGATGGGGTGCAGCGTTCTAACGAGACGGGGTGCAGCGTCCGT\n\n>chr8_KI270822v1_alt\n\nAgtttgctagtattttgttgaagatttttgcatctgtgttcataaaggat\n\n>chr8_KI270900v1_alt\n\nGCTGTTTTCCAGACTTCCTCTTAGGTGGCCGTGGAGCAGCTGGGGACCTA\n\n>chr8_KI270901v1_alt\n\nCACACAGCTGATGGTTAGAAGAGAGCCTATATTATTAAAAAAAGAAAAAT\n\n>chr8_KI270926v1_alt\n\nTTATGCTTTCACCTTCATCAGTGCAGCTAAGGAGATTCTGACTAGAATGG\n\n>chr9_GL383539v1_alt\n\nTCGTAACCCAGcaaaccaaacagcccaaaccaaatcaaataaattttttt\n\n>chr9_GL383540v1_alt\n\naaccctctgtgcccgtttcctcctgtataaaatggagacaatgataatac\n\n>chr9_GL383541v1_alt\n\nAAACActgagggcaggaaaagatggatgtctgtgctctagcaatcaggta\n\n>chr9_GL383542v1_alt\n\nTTACTGCAGCCTGTGAAGGCCAGAGCAAGAGGCGTGGCCGTGGAAAGTGC\n\n>chr9_KI270717v1_random\n\nTTTTATtcattgcctatacttttatttctaaactttctgtaacactttat\n\n>chr9_KI270718v1_random\n\nAGGATCCTCTTCCTCATCCACAGATCCAACAGCCGGTAACATTCCGGCCT\n\n>chr9_KI270719v1_random\n\nGAATTCACTCAGCAGTCAGAAGAAAAGGAAGCCTCTTGTTGGAATTCATA\n\n>chr9_KI270720v1_random\n\nGCTCCTTTCAGATAGAGGCAAGGGATATTTGACTTTTTATCTCTAGTGTC\n\n>chr9_KI270823v1_alt\n\nCTTTTTAAAAATGTTTTTATTAAACATTTATAAAAACATATTTTTATTAA\n\n>chr10_GL383545v1_alt\n\nCCTAACCAGTTACTTAATTTATGTGGTCCTTAAGATGAAAACAGATCAGA\n\n>chr10_GL383546v1_alt\n\nGATAACTAAAAGTGCTTGTTACAATGTCTCAACTTATAATTTATAAATAT\n\n>chr10_KI270824v1_alt\n\nAATGGAATCATCATCCAATGGAAACTAATGGAATCAACATCGAATGGAAT\n\n>chr10_KI270825v1_alt\n\ntttatgtattcaagatatgagtactttgtcagtaatttccaattattttc\n\n>chr11_GL383547v1_alt\n\ngaattcccttctcttttatttttgaaaatagtttcaggaggcttgttatt\n\n>chr11_JH159136v1_alt\n\nGAATTCATTCACTACTGTCAGATTGTGTTTGTCCATTCAAGTAATTCAGG\n\n>chr11_JH159137v1_alt\n\nCTTTTAGTATATATTTTCCATAAGAGCAATTCTCAAATTCCTTTATTTGT\n\n>chr11_KI270721v1_random\n\nctgcggtcaggagttcgagaacagcctggccaacgtggcgaaaccccatc\n\n>chr11_KI270826v1_alt\n\nAGTAGGAGGAGGAGGAggaggagataattaagctattaccatctcaaata\n\n>chr11_KI270827v1_alt\n\ntaataaaccataactgtaaccattacaactttcagtgggttgttgaaatg\n\n>chr11_KI270829v1_alt\n\nGAATTCTTTGACTATGTGAATTCTGAGGGATAATAAACCAATAGTTGAGA\n\n>chr11_KI270830v1_alt\n\nAATTCACCGAGATAAGCGGAGGTTTTGGTCAACGTTCCATCAGCGTGTAA\n\n>chr11_KI270831v1_alt\n\nGAATTCACAAGTGTTTCCAGAGGAAGTTGTGTGAAAGGTGGCTAGAGGAC\n\n>chr11_KI270832v1_alt\n\nctgaccaggcctcctccaaaccatccaggtcatcagagacaaggagagtc\n\n>chr11_KI270902v1_alt\n\ngatccgcccgcttcggcctcccaaagtgctgggattacaggtgtgcgcca\n\n>chr11_KI270903v1_alt\n\nAATTCACCGAGATAAGCGGAGGTTTTGGTCAACGTTCCATCAGCGTGTAA\n\n>chr11_KI270927v1_alt\n\ngatccgcccgcttcggcctcccaaagtgctgggattacaggtgtgcgcca\n\n>chr12_GL383549v1_alt\n\nAATTCTCCTTGGGATACTAGTGTGTGAGTACAGGGttacttctccctagc\n\n>chr12_GL383550v2_alt\n\nAATTCAGGGGAGAAAAAGATGACAGGAGCTAAATTTGGATCTTTCTCATA\n\n>chr12_GL383551v1_alt\n\nTGtgtggtgtgaaagtagacagacaaccaggtaaacaaataggcatggct\n\n>chr12_GL383552v1_alt\n\nCATTTTTGAATTTTTATTATCATCCAATATTGAGAGCTCTAATTATGATT\n\n>chr12_GL383553v2_alt\n\ngaattcagtcacaaggctacatctagctgcaagggaggctgggaaacgtc\n\n>chr12_GL877875v1_alt\n\nctaaccctaaccctaaccctaaccctaaccctaaccctaaccctaaccct\n\n>chr12_GL877876v1_alt\n\nACTATGAAAATGCCCTCTACTCTTGATAGTTGATATTAGGATATTAATTT\n\n>chr12_KI270833v1_alt\n\nctttatatcttttagatgctattccgtcatcagattatttataagtattt\n\n>chr12_KI270834v1_alt\n\nCTTTTCTTGTTGTTTTAGATCCTTGTAGTCAACCTCTTGTTTGTGAATTT\n\n>chr12_KI270835v1_alt\n\nTCTTTCTTTGTATATGGAAGAATTTAACTCTGTGTTCCATAATGTCTAAA\n\n>chr12_KI270836v1_alt\n\nCACTGCTGCTTGTGGGTTGTGTGATATACGTGCATATATGCGTGCATCTG\n\n>chr12_KI270837v1_alt\n\nctgaccccttgcacttcccgggtgaggcaatgccttgccctgcttcagct\n\n>chr12_KI270904v1_alt\n\nACTATGAAAATGCCCTCTACTCTTGATAGTTGATATTAGGATATTAATTT\n\n>chr13_KI270838v1_alt\n\nGTAGGGACGACCTAGATGGAATCGGAGGGCATTGGGAGCATTCAGCACAG\n\n>chr13_KI270839v1_alt\n\nGAATTCATTATTTTAGCTCTAACTGCAGAAGAAAATGTTCTTCCACAAGG\n\n>chr13_KI270840v1_alt\n\nGTTGGTTTTTGGATTGTGAATCAGTGACTGATCAGTCCTTGTTTTCAAGT\n\n>chr13_KI270841v1_alt\n\nAATAGCATAAATAACTTACATAGCAGACACTATATGTGACCGAATCTTAC\n\n>chr13_KI270842v1_alt\n\nTACCCATGGCGATGAGGAGTACCCATGGCGATGAGGACCCATGGCGATGA\n\n>chr13_KI270843v1_alt\n\nTGGAACCAATTgatcccataaagcaactacacaattgagacaacaaagca\n\n>chr14_GL000009v2_random\n\nGAATTCTGTGAAAGCCTGTAGCTATAAAAAAATGTTGAGCCATAAATACC\n\n>chr14_GL000194v1_random\n\nGATCCCTGCCCTAAAACTTTCCCCCCTCATGTCCAGCAAATGCTGCATGG\n\n>chr14_GL000225v1_random\n\nGAattctcacatgtctctgcactgatcacccaggtgatgtaactcctgtc\n\n>chr14_KI270722v1_random\n\nGATCCATATAGCTagttgctaaaatatatgtggggatttggtggaaattt\n\n>chr14_KI270723v1_random\n\nCAaaagtcaatgtacaaaaattggtagcgtttttatacactaatgatgat\n\n>chr14_KI270724v1_random\n\nCAccaggagatgtaacacttgtctaggctcggcctacaggggctttgtga\n\n>chr14_KI270725v1_random\n\nGATCTGCTGTGGtagaaataatttattaaaaattctgtttacatttatct\n\n>chr14_KI270726v1_random\n\nGCcttcagagttacaaggctatatcagttttccacgattgtttccccttt\n\n>chr14_KI270844v1_alt\n\nACTATCCTAAAAAAATGGCTACGATAAATGGGATAAAAAGATGTTTTAAT\n\n>chr14_KI270845v1_alt\n\nATTGCTGTcagacctgacttataagaaatgttaaataaagtcctttatgc\n\n>chr14_KI270846v1_alt\n\nTACACCAGCAGAGACCTCCCTGCCCTGCGGCCACCAGGAATCCATGCAGC\n\n>chr14_KI270847v1_alt\n\ncagggaagagtgtgaggaatggggatctggacagaggaaagggcacgtgc\n\n>chr15_GL383554v1_alt\n\nTTTTTTGGAAGGTAGACACTGGACTCCTGGAAGGACATGCACTGTGGAAG\n\n>chr15_GL383555v2_alt\n\nAGAACATTCACCCTTCCTGGTATTACTGGACCCAGGGACCTGCAGGGATT\n\n>chr15_KI270727v1_random\n\nGAATTCAATAAATGTTTTAATGAGAGTTTTCTAAGCACCAGATGCTGTAT\n\n>chr15_KI270848v1_alt\n\nGAATTCAGCCACATGTGGGTGGGACGCGGAGATCAGAGGCAAGCACAAGC\n\n>chr15_KI270849v1_alt\n\nGAATTCTTGGCCATGGTCTTGAGGAGAGAGACCCTGGGGTCTCAGACTGC\n\n>chr15_KI270850v1_alt\n\ngaattccagaagcagaagagaaagaaacaggagaaatatttgaaacaata\n\n>chr15_KI270851v1_alt\n\nGAATTcctaatctcctatttatttatatttttgtgaattggaattaaccc\n\n>chr15_KI270852v1_alt\n\nGAATTCTTTGTCTGACAAAATTACCAATGGTGCTTACATAAGCAATAGCC\n\n>chr15_KI270905v1_alt\n\nTGTAGATCTACATAAGCCAGGCCAGGGCACAAACGTTACAGAATGGCAAG\n\n>chr15_KI270906v1_alt\n\ngcaatgagtcgagactgcaccactgcactccaagcctgggtgacaaagtg\n\n>chr16_GL383556v1_alt\n\nGAATTCCTCTGGGGTGGTCTGATGGCTTGTCCATGCCCAAGAAGGAGGCG\n\n>chr16_GL383557v1_alt\n\ngaattctcattagtaagtgtagtaggcatgagataaatagaaaatcatca\n\n>chr16_KI270728v1_random\n\nGAATTCCCACACTGAGTAAAAACCTCCTTGGTGGGCTTATAATCAATCTC\n\n>chr16_KI270853v1_alt\n\nCAgctctgccactgaccctgacctccagtgcaggttactgaacccgcctg\n\n>chr16_KI270854v1_alt\n\nCCGCCAAAGGAGAAGCTGCCTTCCCGGGGAAGGGGCAGAGAGGGGCCGGC\n\n>chr16_KI270855v1_alt\n\nCAAGTGTGGGAAGAGCTATAAAAGGAAGAAACAggcctggcgcggtggct\n\n>chr16_KI270856v1_alt\n\nGTAtggtggcgcacgcctctaatccctgctactcgggaggctgaggcagg\n\n>chr17_GL000205v2_random\n\nGAAttctatgtgagggagaaacactcagaacccagcagcagtgttctgga\n\n>chr17_GL000258v2_alt\n\nTTTCTAGCACCTAGCAGACATGGCCCATTTGACACACTTGGCAAATGTTC\n\n>chr17_GL383563v3_alt\n\nGATCATGCAGCTCTTCCAGGCCCACTGCTTCTTCCTGTCCACTAGGCCAC\n\n>chr17_GL383564v2_alt\n\nGATCATCCACAGCTTAACACCCATAGGAAATGGTCCCCTGAGAGACACAG\n\n>chr17_GL383565v1_alt\n\nCAATGTTTTCTGTTATATGAGTGATTAAAGTAATTTGACCTTTGACTGGA\n\n>chr17_GL383566v1_alt\n\nCTATacagtaccaagggaggatggtgcattagtccatcctcattctgcta\n\n>chr17_JH159146v1_alt\n\nAATTTCATATGACGCAAGCATATTTTAAATAGAGTAACCAAAACAAATAG\n\n>chr17_JH159147v1_alt\n\ncaagaaactcactctctggtgggcagcaagacaattatgacattcctttg\n\n>chr17_JH159148v1_alt\n\ncaagaaactcactctctggtgggcagcaagacaattatgacattcctttg\n\n>chr17_KI270729v1_random\n\nCATTCCGTTCTGttccatgccattccattccattcctttgtattccattc\n\n>chr17_KI270730v1_random\n\nGCCGCTTTTTGCTGCCGCAGCTTTTTACCCCCGCCGCCGCTGCTCTGAGG\n\n>chr17_KI270857v1_alt\n\nAGGAATCCCAGCTATTCTTGGCCAGACAGCAGGAGCTTTGGGAATGCCTC\n\n>chr17_KI270858v1_alt\n\nTTTTAGAAAtatttatttaggccgggtgtggtggctcacgcctgtaatcg\n\n>chr17_KI270859v1_alt\n\nAGATATTcagatattcagaccttaagaatgcactttatccttatcacaaa\n\n>chr17_KI270860v1_alt\n\nGATCAGAGGGGTGGGGCGCCGAGGAGACGGAGATCCAGAGGGGCGGGGCG\n\n>chr17_KI270861v1_alt\n\ncacctcccgggttcatgccattctcctgcctcagcctcccaagtagctgg\n\n>chr17_KI270862v1_alt\n\nAGGTGTGAGCCACCACGCCTGGCCAATTAACTCGAttttttttttttttt\n\n>chr17_KI270907v1_alt\n\nTGGTGTTTTCCGAGCTTGgcctaaggactctgttcttgaagctctgtctg\n\n>chr17_KI270908v1_alt\n\nTTTCTAGCACCTAGCAGACATGGCCCATTTGACACACTTGGCAAATGTTC\n\n>chr17_KI270909v1_alt\n\nTAATCTGTCATGTTAACTCAGACATAGCTATTGAAAGTTAAAGTTCAGTG\n\n>chr17_KI270910v1_alt\n\nAGGTGTGAGCCACCACGCCTGGCCAATTAACTCGAttttttttttttttt\n\n>chr18_GL383567v1_alt\n\nTGTTTTTTGGACCAGTCTGAAAATCATTCTATTATAATGACTATTAAATT\n\n>chr18_GL383568v1_alt\n\ngaattcactcactatcatgataaaagcatgaagaaatcttcccccatgat\n\n>chr18_GL383569v1_alt\n\nAGTGAGTCACCATCCCCTTCATTGTGTCACCGTCCCCCTCAGTGTGTCAC\n\n>chr18_GL383570v1_alt\n\nGAATTCCCTAAAACCAGACAAAATATTTGTAGAAAAATTAATATTTAACC\n\n>chr18_GL383571v1_alt\n\nAACATCAAGGTGGTTACCAAGTAATGGAGAGCCATCAGCAACACTTAGTT\n\n>chr18_GL383572v1_alt\n\nTGGTTCTCCTCCCTGTAGACTTTGCAGCCAGACTCTTCGATGAAAAACTG\n\n>chr18_KI270863v1_alt\n\nCAgggctcaagcaatcctcccacctctgcttcctgaagtgctaggattat\n\n>chr18_KI270864v1_alt\n\nGAATTCCTTAGAGAGAACTTTGCTCCCTacataaaaaacaaacaaacaaa\n\n>chr18_KI270911v1_alt\n\nTGGTTCTCCTCCCTGTAGACTTTGCAGCCAGACTCTTCGATGAAAAACTG\n\n>chr18_KI270912v1_alt\n\nAGTGAGTCACCATCCCCTTCATTGTGTCACCGTCCCCCTCAGTGTGTCAC\n\n>chr19_GL000209v2_alt\n\nGATCTATCTGTATCTCCACAGGTGATTGGAAGTAGGGGTGAGGTGGGGGA\n\n>chr19_GL383573v1_alt\n\ngtttacccttaaaggtattgtgtgcgtgtcttttcttctcccctcatgtg\n\n>chr19_GL383574v1_alt\n\nCAGCTAACAAAGTAACACCAATATGGTACCCAGGTCGCATAAGCACTCAA\n\n>chr19_GL383575v2_alt\n\nccagtgggtcttgactctaaccagcttgccattctgtgtcttttaattgg\n\n>chr19_GL383576v1_alt\n\ngaattctgatctagcttctctaaaagttactgtggaggattaaagatacc\n\n>chr19_GL949746v1_alt\n\nTGTCAGTTGCTTGGTGTGGTGAAGCAATGAGAGTGTTTTTTTCGGGGGAG\n\n>chr19_GL949747v2_alt\n\nTGTCAGTTGCTTGGTGTGGTGAAGCAATGAGAGTGTTTTTTTCGGGGGAG\n\n>chr19_GL949748v2_alt\n\nTGTCAGTTGCTTGGTGTGGTGAAGCAATGAGAGTGTTTTTTTCGGGGGAG\n\n>chr19_GL949749v2_alt\n\nTGTCAGTTGCTTGGTGTGGTGAAGCAATGAGAGTGTTTTTTTCGGGGGAG\n\n>chr19_GL949750v2_alt\n\nTGTCAGTTGCTTGGTGTGGTGAAGCAATGAGAGTGTTTTTTTCGGGGGAG\n\n>chr19_GL949751v2_alt\n\nTGTCAGTTGCTTGGTGTGGTGAAGCAATGAGAGTGTTTTTTTCGGGGGAG\n\n>chr19_GL949752v1_alt\n\nTGTCAGTTGCTTGGTGTGGTGAAGCAATGAGAGTGTTTTTTTCGGGGGAG\n\n>chr19_GL949753v2_alt\n\nTGTCAGTTGCTTGGTGTGGTGAAGCAATGAGAGTGTTTTTTTCGGGGGAG\n\n>chr19_KI270865v1_alt\n\nCCAGCTGCCCCCACTGGGGGTCTGTGGAATGGACGGTCCATGGCACCTGC\n\n>chr19_KI270866v1_alt\n\ntcctgacctcgtgatccacctacctcggcctcccaaagtgttgggattaa\n\n>chr19_KI270867v1_alt\n\nGAattccagcctcggtgacagagtgagaccctgtctccaaaaaaagtatg\n\n>chr19_KI270868v1_alt\n\nACCCcctccggcctccccgccccctccaggcccccagcccccgaccccca\n\n>chr19_KI270882v1_alt\n\nACTGAGATAGAAATTATGCAAGAGAAGCACAGCAGAAACAACTAGAATGG\n\n>chr19_KI270883v1_alt\n\nCCCCACACTGTCCCTGTAGTTCTAGTGAGTTTCCCAGACTCTGATGTCTC\n\n>chr19_KI270884v1_alt\n\naaaaatacaaaaaattagccgggcgtggtggcgggcgcctgtagtcccag\n\n>chr19_KI270885v1_alt\n\nTCCCAgccgggcgtggtggctcatgcctgtaatcccagtactttgggagg\n\n>chr19_KI270886v1_alt\n\nACacttagaaatatgttacagagctgtagtaagcaaaacagcatgacatt\n\n>chr19_KI270887v1_alt\n\nAccactcttggctcatcgcactgatagtggctccacatctctctggggtg\n\n>chr19_KI270888v1_alt\n\ntctactttcctggtaaatttcaagtatagagtacagtattgtcaaccata\n\n>chr19_KI270889v1_alt\n\nTCTACTCTCCCAtgcttgcctcggcagcacatatactaaaattggaacga\n\n>chr19_KI270890v1_alt\n\nAtgcttgcctcggcagcacatatactaaaattggaacgatacagagaaaa\n\n>chr19_KI270891v1_alt\n\nTCTACTCTCCCAtgcttgcctcggcagcacatatactaaaattggaacga\n\n>chr19_KI270914v1_alt\n\nCTTTCTCCATAATTTTTGTGTGCGATGCCCACTGTCTTGAGActtgaagg\n\n>chr19_KI270915v1_alt\n\nTCTACTCTCCCAtgcttgcctcggcagcacatatactaaaattggaacga\n\n>chr19_KI270916v1_alt\n\ncacgaggtcaggagatcgagaccatcctggctaacacagtgaaaccccgt\n\n>chr19_KI270917v1_alt\n\nACCAGGAAACAGCCTAGGAACACTGCATGCATACCTTTAATCTACAGTAA\n\n>chr19_KI270918v1_alt\n\nGAATTCCCCATGAGTCCTGTGACCTCAGCCCACACGGGGACCTACAGGTG\n\n"
     ]
    },
    {
     "name": "stdout",
     "output_type": "stream",
     "text": [
      ">chr19_KI270919v1_alt\n\nATCTACTCTCCCAtgcttgcctcggcagcacatatactaaaattggaacg\n\n>chr19_KI270920v1_alt\n\nACGGTGGTCCTCGGGATTCTGCTGCTTTAGGATTGGCACAGCTAGAGAAG\n\n>chr19_KI270921v1_alt\n\nCACGACATGAGGCTCCATCCCACATGGCAGCGTTGGGTCCACACCTCTGC\n\n>chr19_KI270922v1_alt\n\nAAAAAAAAAAGTTCTAAAAGTTGTGACTTGGGTGTGGCAGATTGTGACAT\n\n>chr19_KI270923v1_alt\n\nCACAGACAGTGTCTCCTTCTCTCCTAGGAGCCCACAGAAAACCCACTCTC\n\n>chr19_KI270929v1_alt\n\nACTGTTAAAATCTAGTAAGAGTCGCTTCTTCAGCACCTGCTCAAAGTTCT\n\n>chr19_KI270930v1_alt\n\nTCTACTCTCCCAtgcttgcctcggcagcacatatactaaaattggaacga\n\n>chr19_KI270931v1_alt\n\nTTTCTTTCTTTTTTTtttttttgtggtgaggacccttaagatctactctc\n\n>chr19_KI270932v1_alt\n\nTGTGGTGAGGACCCTTAAGATCTACTCTCCCAgccgggcgtggtggctca\n\n>chr19_KI270933v1_alt\n\nTCTACTCTCCCAtgcttgcctcggcagcacatatactaaaattggaacga\n\n>chr19_KI270938v1_alt\n\nTGTCAGTTGCTTGGTGTGGTGAAGCAATGAGAGTGTTTTTTTCGGGGGAG\n\n>chr20_GL383577v2_alt\n\nGAGACTCAACCCCCTACTCcctcccaagacacctctggccaatgaggaat\n\n>chr20_KI270869v1_alt\n\nTTTGATGCCTTTCTAGGGCAGGCTGGCCGCCTGCATTATTGATGGCTGTT\n\n>chr20_KI270870v1_alt\n\nGATAGCGGGGAGATAGCATCGGGGGGATAGTGTGGGGGATAGTGGGGGGA\n\n>chr20_KI270871v1_alt\n\nCtacacttttaaatagttaattttaggttgcacaagtctcacctcaattt\n\n>chr21_GL383578v2_alt\n\ngatcattagtggctactatgagcaactctgtgccaataaattggaaactc\n\n>chr21_GL383579v2_alt\n\nACTagtgagtacttgccatatttgtatttttgtgccttgtttattttact\n\n>chr21_GL383580v2_alt\n\nTTGTAAATTTGAGATACAAAGCCATACTTTTTCACAATAAGCCTGTAAGT\n\n>chr21_GL383581v2_alt\n\nCACTTGGCTTCACGTCTTGAGCAATCTGCATATGCCTCCTCCCTAGGCCT\n\n>chr21_KI270872v1_alt\n\nGCGTAAACCAATCCACTGATTTCGACCACTGATGCCTAGCACAGTCTCAC\n\n>chr21_KI270873v1_alt\n\nGAATtccatgcctctgttcatcttcttcctgctagttagaacatccttcc\n\n>chr21_KI270874v1_alt\n\nGAATTCAAAATAGCTGttttttgtttgtttttttggcttttttttttttt\n\n>chr22_GL383582v2_alt\n\nTGGCTACATGCGCCTGGTGGTACGCGAGTTGGAGAGCCAGTTGCAGGACG\n\n>chr22_GL383583v2_alt\n\nAAAGGAGCCTTCTGGTGGGTTCATTGAGTTCTGCCTCCAAAGCACACACC\n\n>chr22_KB663609v1_alt\n\nTGGCTACATGCGCCTGGTGGTACGCGAGTTGGAGAGCCAGTTGCAGGACG\n\n>chr22_KI270731v1_random\n\nACTTGCTTCCTCAGGATGGAATCTGGCTGGGCCTCTGACCTTGCTGGTCA\n\n>chr22_KI270732v1_random\n\nTAGTGTCTTGTCGTCCGTTTTGGCTTTCTCCCTGATTCCAGAATGCAGGT\n\n>chr22_KI270733v1_random\n\ngaattcactctccacctcagacatgatgacccaggtactgattactagta\n\n>chr22_KI270734v1_random\n\nTTGTGCAGCCGGGGCTCCTCCACGGCCCTCTTCACGTCATAGCCGAACCA\n\n>chr22_KI270735v1_random\n\nAATATTATAAAttattaatttctctaatttttattttcttccttctgctt\n\n>chr22_KI270736v1_random\n\nGGatggagtgcagtggagtggagtggaatggaatggagtgtaatggaatg\n\n>chr22_KI270737v1_random\n\nCATCAATTTATTCTAGCTAAAGGAGTTTATcagaagcagcatttgaaagc\n\n>chr22_KI270738v1_random\n\nAttcctggaggctttgttcgtttctttttattcttttttctctaaacttc\n\n>chr22_KI270739v1_random\n\nccctgccgtgtgaggtgtcagtgtgcccctgctggggggtgccttccagt\n\n>chr22_KI270875v1_alt\n\nCAATAAGTCATATGATCAATGCAATTCAAACATTAAACTCATCAGTCCCA\n\n>chr22_KI270876v1_alt\n\nCGCCcccaccttggcctcccaaagtgctaggatcacagtcatgagccacc\n\n>chr22_KI270877v1_alt\n\nagccaggaatctggatttttgtgtgaaatcccctgacctgttagtgttgg\n\n>chr22_KI270878v1_alt\n\nAATGTCATTTATGCTTGCTGAGTCCTGTGTAAGCCCCAAAGCCAAGCTTT\n\n>chr22_KI270879v1_alt\n\naagcttcagcgtgcatcagacacctgaaactctagccacagttgcagggt\n\n>chr22_KI270928v1_alt\n\nTGGCTACATGCGCCTGGTGGTACGCGAGTTGGAGAGCCAGTTGCAGGACG\n\n>chrUn_GL000195v1\n\nGAATTCCTCGTTCACACAGTTTCTTAAGCTTCCTGGGATGCGACCTGTGA\n\n>chrUn_GL000213v1\n\nGAATTCAGTGAATGAGCCAAGATTCTCCAGAAACCGCTCAGCTTTGCAGT\n\n>chrUn_GL000214v1\n\nGAATTCAGTGCAATTCAAAACAGTAATTTGTGGGAAAAATTAGATATGCA\n\n>chrUn_GL000216v2\n\nCAattcaattctattccattccattccattccattccactcgtgttgatt\n\n>chrUn_GL000218v1\n\nGAATTCATGTAAAGAAAGACCATGGGTGTTTGTACTGGATTTAGTATTCA\n\n>chrUn_GL000219v1\n\nGAAttctacctgtgggacaaacattgagacctttgtaacattgttctgga\n\n>chrUn_GL000220v1\n\ngaattcaatacttaaacataaaacctaataaaattcttagaagtaaacat\n\n>chrUn_GL000224v1\n\nGAATTCTGTTGATGATGGATGTGAGAGTGGTGAAGCCCTGCGGGATGATG\n\n>chrUn_GL000226v1\n\nGatctttcttttgatagagcagttctgaaaaacactttttgttgaatctg\n\n>chrUn_KI270302v1\n\nTTTttgtagcatctgcaagtggatatttggacctctctgaggatttcgtt\n\n>chrUn_KI270303v1\n\ngaaggcctcaaggatgtcagaatatccacttgcaaactttacaaacagag\n\n>chrUn_KI270304v1\n\ntctgtgagttgaacgaacacatcacaacgcagtttgagggaatgattctg\n\n>chrUn_KI270305v1\n\ntttgttgcgctttcaggcctgtggtgaagaaggaaatatcttcacataaa\n\n>chrUn_KI270310v1\n\ngaagatatttccttttctgccattgacctgaaagcgcttgaaatctacac\n\n>chrUn_KI270311v1\n\nagtggatattcagacctccttgaggccttcgttggaaacgggatttcttc\n\n>chrUn_KI270312v1\n\nggagtttctgagaatcattctgtctaatttttatatgaagatatttcctt\n\n>chrUn_KI270315v1\n\ntgtgtgtattcactctgtgagttgaatcctttacacagagcagacttgaa\n\n>chrUn_KI270316v1\n\nGttccttagacagagcagatttgaaacactctttttgtgcaattggcaag\n\n>chrUn_KI270317v1\n\nGTaatatccacttgcagactttacaaacagagtgtttcctaactactcta\n\n>chrUn_KI270320v1\n\nGgcattcacttagagagttgaaccgtcccttgtgagttcaggttgaaaca\n\n>chrUn_KI270322v1\n\nCagagttccacctatccatgggcagattctagagaaacagagttaagaaa\n\n>chrUn_KI270329v1\n\ntggtctatcaaagaaaggttaaactcagtgagttgaacccacacatcaca\n\n>chrUn_KI270330v1\n\nATTTCTGCCCAGTCAGCCCCAGGCACCCAGGACAACCCTAGACACTCACA\n\n>chrUn_KI270333v1\n\ncaaagtgtgtattatatactgtacataaaatatcaaagtacccaaagtat\n\n>chrUn_KI270334v1\n\natatcttcacataaaagctagacagaagtattctcagacagttctttgtg\n\n>chrUn_KI270335v1\n\naacgagatatctccacatacaatctagacagaagcattctcagaaaattt\n\n>chrUn_KI270336v1\n\nAactgtacataaaatatcaaagtactcaaactatatcttgtacatgaaat\n\n>chrUn_KI270337v1\n\nccaaagtatgtattataagctgtagataaaatatcaaagtacccaaacta\n\n>chrUn_KI270338v1\n\nGAAGTattctcagacagttctttgtgatatgtccattcaactcacagagt\n\n>chrUn_KI270340v1\n\ncttttgatagagcagtcttgaaatactgcttttgtagaatctgcttgagg\n\n>chrUn_KI270362v1\n\ntcccgtttccaaagaagacctcatagccgtccaaatatccacttgcagat\n\n>chrUn_KI270363v1\n\ntctattcagagattcaacttctccctgttttagtcttgggagagtgtatg\n\n>chrUn_KI270364v1\n\nACatgttcaactctatgagatgaatgcacacatcacaaagaagtttctca\n\n>chrUn_KI270366v1\n\ncgaaagcctcaagcggtcaagacatccacttgcagatcctacaaaaagag\n\n>chrUn_KI270371v1\n\ngaacctttcttttgattgagcagttttgaaacactctttttgaagaatct\n\n>chrUn_KI270372v1\n\ngcacacatcacaaagaagtttctcagaatgcttccatgtagtttttatgt\n\n>chrUn_KI270373v1\n\naaaactagacagaagcattctcagaagcgactttgtgatgtgtgcattct\n\n>chrUn_KI270374v1\n\ngatgtgtgcattcacctcacatagttgatcctttcttttgattagaggag\n\n>chrUn_KI270375v1\n\nCaaacagtgtttcaaaagtgctcaataaaaaaaaggttcaactctgtgag\n\n>chrUn_KI270376v1\n\nAATTCTACAaaagagtgttgcaaaactgctcaatcaaaagagagtttcaa\n\n>chrUn_KI270378v1\n\nAAAggaatatcttcccataaaaacgacatagaagctatctcaggaacttg\n\n>chrUn_KI270379v1\n\nagcaacttcagcaaagtgtcaggatacaaaatcaatgtacaaaaatcaca\n\n>chrUn_KI270381v1\n\ncaaatgtccactcccaggtagtgcacagagtgtttcaaacctgctctatg\n\n>chrUn_KI270382v1\n\nTacctggaagtggacatttggagcgctttgagcgctatgttgaaaaggga\n\n>chrUn_KI270383v1\n\nCTAtccaaatatccacctgtagatcctacaaaaagagtgtttccaaatgc\n\n>chrUn_KI270384v1\n\ntccaaagaaatcctcaaaggtatccaaatatctacttccagattctacaa\n\n>chrUn_KI270385v1\n\ntttcatagagcatgtttgaaacactctttctgtagtatctgaaaacggac\n\n>chrUn_KI270386v1\n\nGcttgcagatactacagaaagagtgtttcaaacctgctctatgaaaggga\n\n>chrUn_KI270387v1\n\ntggagcgctttgaggcctatgatgaaaaaggaaatatcttcccataaaaa\n\n>chrUn_KI270388v1\n\nCatagagcaggtttgaaacactctttctgtagtatctgcaagcggacgtt\n\n>chrUn_KI270389v1\n\ngatacagcattttggaaacactctttttgtaggatctgcaggtggatatt\n\n>chrUn_KI270390v1\n\nTAacagagatgaacctttctttttacagagcagttttgaaacactctttt\n\n>chrUn_KI270391v1\n\naaaactgctctgtcaaaaggaagattcaaatttgttactttgagtacaca\n\n>chrUn_KI270392v1\n\nAtttgcgatgtgtgttctcaactaacagagttgaacctttgttttgatgc\n\n>chrUn_KI270393v1\n\nGtccacttccaggtagtgcactgagtgtttcaaacctgctctataaaagg\n\n>chrUn_KI270394v1\n\naagtggatatttggatagctttgaggatttcgttggaaacgggattacat\n\n>chrUn_KI270395v1\n\nCACctgctctataaaagggaatattcacctctgtgacttgaatgcaaaca\n\n>chrUn_KI270396v1\n\nAAtcccgtttccaacgaaatcctcaaagctatccaaatatccacttcaga\n\n>chrUn_KI270411v1\n\ngagttgaggcacacatcacaaactagtttctgcgaatgactctgtgtact\n\n>chrUn_KI270412v1\n\nAaaagagtgtttcaaaactgccctgaataaaggaaggttcaactctgtga\n\n>chrUn_KI270414v1\n\nttaacctttcttttaatcgagcagtttggaaacactgtctttgtatgtct\n\n>chrUn_KI270417v1\n\nAAActttgaggccaatgatgaaaaaggaaatatcttctcataaaaactag\n\n>chrUn_KI270418v1\n\nTCGATGCATcatcacaaagtagtttctgagaatgcttccatctaggtttt\n\n>chrUn_KI270419v1\n\nGCagtggatatgtggacctctttgaagatttcgttggaaaagggttcatc\n\n>chrUn_KI270420v1\n\ntccaaatatccacttgcagattctacagaaagagtgtttgaaagctgaac\n\n>chrUn_KI270422v1\n\natccaatcatcacaaagaattttctgagtgcttccgtttggattttaggt\n\n>chrUn_KI270423v1\n\nAgatttcgttggaacgggataaacttcccagaactacacggaatcattct\n\n>chrUn_KI270424v1\n\nTCAaaacggctataccttcacataaaactagacagaagaaaaatcagaaa\n\n>chrUn_KI270425v1\n\nGGGTTCatcttcacataaaactaaacagaagcattctcagaaactatttt\n\n>chrUn_KI270429v1\n\ncgttcactcacagattttaacctttcttttcatagagcagtctggaaaca\n\n>chrUn_KI270435v1\n\nATTCAGTGGagtggattggagcactttgagacctatggtggaaaaggaaa\n\n>chrUn_KI270438v1\n\ntctgctagtggatacttggagtgctctgtggcttactgtggaaaagcaaa\n\n>chrUn_KI270442v1\n\naatggaagggaatggaatggaatggaatggaatggaatggaagggaatgg\n\n>chrUn_KI270448v1\n\nAAggatatatcttcccataaaaactaaacagaagcattctaagaaacttg\n\n>chrUn_KI270465v1\n\nggaatgttcaactctatgagttgaatgcaaacatcacaaagaaattctga\n\n>chrUn_KI270466v1\n\ncagtatataatacatattttgggaactttgctattttatgtacagtatat\n\n>chrUn_KI270467v1\n\nGAAGcactattagaaactacttggtgatatctgcattcaagtcacagagt\n\n>chrUn_KI270468v1\n\nttctttggaacgggattatcttcacaaaaaactagacagaagcattctca\n\n>chrUn_KI270507v1\n\ntctttgtgatatgtgcattcatcctacagagttgaaccttacttttgatt\n\n>chrUn_KI270508v1\n\ncttccagtatgtgatcaattttggaataggtgtgatgcagtgctgaaaaa\n\n>chrUn_KI270509v1\n\nAtgagatgaacgcagacatcacaaagatatttatctgtatacatctgcct\n\n>chrUn_KI270510v1\n\nAAaatatcttcatatgataacttgacagaagcattctaagaaacttcttt\n\n>chrUn_KI270511v1\n\nCaaagagagattcaaaactgctctatcaaaagatacgttgtactctgtga\n\n>chrUn_KI270512v1\n\nagggcctcaaagcacgccaaatatccacttgcagatcctatgaaaagagt\n\n>chrUn_KI270515v1\n\ngagccgtttagattatctcttttttgtagaatctgcaaagtgatatttgg\n\n>chrUn_KI270516v1\n\nAAataaaaaatacacggaagcattctgagaaacttcattgttttgtgtgc\n\n>chrUn_KI270517v1\n\nagatattttcttttccaaaatagacctcaaagccctgcaaatatcaactt\n\n>chrUn_KI270518v1\n\nTTagcagttttgagcacccttttgataatacctgtgattggacatttgga\n\n>chrUn_KI270519v1\n\nTGATCTCTCTTTttgcagaatctgcgagtggatatttggagtgcttggaa\n\n>chrUn_KI270521v1\n\natgggtttttggtgtagatgtccttctggttgttagttttccttctaaca\n\n>chrUn_KI270522v1\n\naaagttcaagtctgtgagttgagtagacacatcacaaagtggtaactgag\n\n>chrUn_KI270528v1\n\nTCGATTCAGTTCCATGATGATTCTATTTGATTCAATTAGATGATGTTTCC\n\n>chrUn_KI270529v1\n\nctgctctatcaaaagaaaggttcaacactgttaggtgagaacacacatcc\n\n>chrUn_KI270530v1\n\nTaacttccttgtgttgtgtgtattcaactcacagagttgaacgatccttt\n\n>chrUn_KI270538v1\n\ncttttgagagcagttttgaaacagtctttttgaagtatctgcaagtggat\n\n>chrUn_KI270539v1\n\nGCCCCACGTCCGGGAgggaggtgggggtgtcagccccccaccaggccagc\n\n>chrUn_KI270544v1\n\nctgctctatgatagggaatgttcaactctgtgtcctgatacaaacatcac\n\n>chrUn_KI270548v1\n\nCTtggaaaggggattacatatacaaagtagacagtagcattctcagaagc\n\n>chrUn_KI270579v1\n\ngcccagctattttttgtatttttagttgagaaggagtttcaccatgttgg\n\n>chrUn_KI270580v1\n\ngtagtttgtagttctccgcgaagaggtccttcacatcccttgtaagttgg\n\n>chrUn_KI270581v1\n\naaggacagtttgttccacaataaatgctgggaaaacaagtccacattgaa\n\n>chrUn_KI270582v1\n\nGGCCtagatagctcttattattttcagatacgtcccatcatacctaattt\n\n>chrUn_KI270583v1\n\nCACATGATAAGAAaatgataaggattaagaaaatgtgacacatatacacc\n\n>chrUn_KI270584v1\n\nATTgttttgatttgcatttctctgatggccagtgatggtgagcatttctt\n\n>chrUn_KI270587v1\n\nTACAAaaagagtgtttcaaaactgctcaatcaaaagaaaggttctactct\n\n>chrUn_KI270588v1\n\nttggaggcctatggtggaaaggaaatatcttcacataaaaaataggcaga\n\n>chrUn_KI270589v1\n\ngttgatcctatcttttgatacagcagttttgaaactctctttttgtagaa\n\n>chrUn_KI270590v1\n\nCTTAAAGTATAATAAAAaaagaaagtttcaaaactgctgtatcacaagat\n\n>chrUn_KI270591v1\n\nagaagtttctcagaaatctctgtctagtttttatgtgaagatatttcctt\n\n>chrUn_KI270593v1\n\natctgcaagtggacatttggagcgccttgtggactattgtagaataagga\n\n>chrUn_KI270741v1\n\ngtctctaataaaaatacaaaaaaattagccaggcgtgggggagggctcct\n\n>chrUn_KI270742v1\n\nGAATTCTCCAGAGACATGGAGGCATGTTATCTAAGTGCAATGGAGAACAT\n\n>chrUn_KI270743v1\n\nGATCTTTTCATCCTTGTTTTTCTACTAGCTCTCCTTCTCCAAATACACTG\n\n>chrUn_KI270744v1\n\nGAATTCAGAATTAAGTCTGATTTGTAAAAATTTGAAATCATAATTATGCT\n\n>chrUn_KI270745v1\n\ngatctttataagagaatgaggtaggagagtcagaattagagaaagtgatg\n\n>chrUn_KI270746v1\n\nGAATTCAAGAATGCACGTTGTATTAAACCAGGTAAAACATAACCAGACCA\n\n>chrUn_KI270747v1\n\ngatccaattattccaaattgtatttaacttttgtaactgagtgactgcag\n\n>chrUn_KI270748v1\n\ngatcctttggaggagaagaggcgttctggtttttggaattttcagccttt\n\n>chrUn_KI270749v1\n\ngaattccaattgttgtctatgcaggcctaccagatttctaacatctttga\n\n>chrUn_KI270750v1\n\ngaattctcaagagatctgcttgtttaaaagtggtagcacttcccccttca\n\n>chrUn_KI270751v1\n\nGAATTCCTAGTTTCTGAGTCTTATTTTTCCCCTGATTCAAGAAAACTGTG\n\n>chrUn_KI270752v1\n\nGATCACAACTAGCATTCTTATCTGTGTCCACTTTACTGAAGGAATCAAAT\n\n>chrUn_KI270753v1\n\nGAACACCTAAACGCCCTAAATTCTTTCTTTACTCCATTCTGCTCCTGCTC\n\n>chrUn_KI270754v1\n\nGCATAGTCAAGTTTGCAAACCACTGCTCTCGAGTTTTAATTGACATTAAG\n\n>chrUn_KI270755v1\n\nTTAAACGGTTGTTTCACTGCGGGGAAAAGAGTATCCCAAGCTCCTCTCCT\n\n>chrUn_KI270756v1\n\nACGATCTCACTGTGTCACCCAGGTTGGAGTGCGGTGCACAATCTGAGCTC\n\n>chrUn_KI270757v1\n\ngtttttgaactgctaaataaaaagaaaggttcatctctgtgagacgaatg\n\n>chrX_KI270880v1_alt\n\nGAGAGTCCGGAACGCCGCCTCGGGGGCTTGACTCCAGCCCCGGGGATCGA\n\n>chrX_KI270881v1_alt\n\ngatccttgaggaatggccacactgtcttccacaatggttgaaccagttta\n\n>chrX_KI270913v1_alt\n\nagagataggggtttttccgtgctggccaggctggtctcaaactcccgaac\n\n>chrY_KI270740v1_random\n\nTAATAAATTTTGAAGAAAATGAAGACTGTGTTCTCAGTTCCAGGTGCTTC\n\n"
     ]
    }
   ],
   "source": [
    "seg_count = 0\n",
    "line_after = False\n",
    "with open('Human v38 All Variants.fa', 'r') as input:\n",
    "    # with open('bigTest', 'w') as out:\n",
    "        for line in input.readlines():\n",
    "            if line_after:\n",
    "                print(line)\n",
    "                line_after = False\n",
    "            if line and line[0] == '>':\n",
    "                print(line)\n",
    "                line_after = True\n",
    "            \n",
    "                # if seg_count > 2: \n",
    "                #     break\n",
    "            # out.writelines([line])"
   ]
  },
  {
   "cell_type": "code",
   "execution_count": 4,
   "metadata": {},
   "outputs": [
    {
     "name": "stdout",
     "output_type": "stream",
     "text": [
      "File ref_GRCH37_chr9.fa\n"
     ]
    },
    {
     "name": "stdout",
     "output_type": "stream",
     "text": [
      ">gi|224589821|ref|NC_000009.11| Homo sapiens chromosome 9, GRCh37 primary reference assembly\n\n"
     ]
    },
    {
     "name": "stdout",
     "output_type": "stream",
     "text": [
      "File ref_GRCH37_chr9.fa\n"
     ]
    },
    {
     "name": "stdout",
     "output_type": "stream",
     "text": [
      ">gi|224589821|ref|NC_000009.11| Homo sapiens chromosome 9, GRCh37 primary reference assembly\n\n"
     ]
    },
    {
     "name": "stdout",
     "output_type": "stream",
     "text": [
      "File ref_GRCH35_chr9.fa\n"
     ]
    },
    {
     "name": "stdout",
     "output_type": "stream",
     "text": [
      ">gi|51511725|ref|NC_000009.9|NC_000009 Homo sapiens chromosome 9, complete sequence\n\n"
     ]
    }
   ],
   "source": [
    "seg_count = 0\n",
    "line_after = False\n",
    "for filename in ['ref_GRCH37_chr9.fa', 'ref_GRCH37_chr9.fa', 'ref_GRCH35_chr9.fa']:\n",
    "    with open(filename, 'r') as input:\n",
    "        print(\"File\", filename)\n",
    "        for line in input.readlines():\n",
    "            if line and line[0] == '>':\n",
    "                print(line)"
   ]
  },
  {
   "cell_type": "code",
   "execution_count": 21,
   "metadata": {},
   "outputs": [],
   "source": [
    ""
   ]
  },
  {
   "cell_type": "code",
   "execution_count": 21,
   "metadata": {},
   "outputs": [],
   "source": [
    "def fasta_samples():\n",
    "    \"\"\"Take a sample from these chromosomes for testing purposes\"\"\"\n",
    "    for filename in 'ref_GRCH38_chr9.fa ref_GRCH37_chr9.fa ref_GRCH35_chr9.fa'.split():\n",
    "        with open(filename + '__sample.fa', 'w') as out:\n",
    "            print('Opening', filename)\n",
    "            with open(filename, 'r') as infile:\n",
    "                infile.readline()  # skip the title\n",
    "                content = ''.join(infile.read().splitlines())\n",
    "                start = 37650000  # 37,600,000\n",
    "                content = content[start : start + 10000000 // 3]\n",
    "                # N_start = 39665004\n",
    "                # if filename == 'ref_GRCH38_chr9.fa':\n",
    "                #     print('Inserting GAP')\n",
    "                #     content = content[: N_start-start] + 'X' * (39714488-N_start) + content[N_start-start:]\n",
    "                # N_start += 230000\n",
    "                # if filename == 'ref_GRCH37_chr9.fa':\n",
    "                #     print('Inserting GAP')\n",
    "                #     content = content[: N_start-start] + 'X' * 50484 + content[N_start-start:]\n",
    "                out.write(content)\n",
    "    print(\"Done\")"
   ]
  },
  {
   "cell_type": "code",
   "execution_count": 45,
   "metadata": {},
   "outputs": [
    {
     "name": "stdout",
     "output_type": "stream",
     "text": [
      "Opening hg19ToHg38.over.chain\n"
     ]
    }
   ],
   "source": [
    "def sample_chain_file():\n",
    "    filename = 'hg19ToHg38.over.chain'\n",
    "    with open(filename + '__sample.chain', 'w') as out:\n",
    "            print('Opening', filename)\n",
    "            with open(filename, 'r') as infile:\n",
    "                start = 37650000  # 37,600,000\n",
    "                printing = False\n",
    "                # chain file format\n",
    "                \n",
    "                for line in infile.readlines():\n",
    "                    if line.startswith('chain'):\n",
    "                        chain, score, tName, tSize, tStrand, tStart, \\\n",
    "                        tEnd, qName, qSize, qStrand, qStart, qEnd, chain_id = line.split()\n",
    "                        if printing:\n",
    "                            break  # only output the first chain\n",
    "                        printing = 'chr9' in tName and 'chr9' in qName  \n",
    "                        if printing:\n",
    "                            out.write(line)  # discard header\n",
    "                    else:\n",
    "                        pieces = line.split()\n",
    "                        if printing:\n",
    "                            out.write(line)\n",
    "                        # if len(pieces) == 3:\n",
    "                        #     size, gap_reference, gap_query = pieces\n",
    "                        #     if printing:\n",
    "                        #         out.write(line)\n",
    "                        #         # print(size, gap_reference, gap_query)\n",
    "                        # elif len(pieces) == 1:\n",
    "                        #     if printing:\n",
    "                        #         out.writelines(pieces)\n",
    "                        \n",
    "sample_chain_file()"
   ]
  },
  {
   "cell_type": "code",
   "execution_count": 34,
   "metadata": {},
   "outputs": [],
   "source": [
    ""
   ]
  },
  {
   "cell_type": "code",
   "execution_count": 2,
   "metadata": {},
   "outputs": [
    {
     "name": "stdout",
     "output_type": "stream",
     "text": [
      "138394717 138252981 vs 141213431 141143431\n141736\n70000\n113144517\n"
     ]
    }
   ],
   "source": [
    "filename = 'hg38ToHg19.over.chain' + '__sample.chain'\n",
    "ref_count = 0\n",
    "query_count = 0\n",
    "total_size = 0\n",
    "with open(filename, 'r') as chainfile:\n",
    "    for line in chainfile.readlines():\n",
    "        if line.startswith('chain'):\n",
    "            chain, score, tName, tSize, tStrand, tStart, \\\n",
    "            tEnd, qName, qSize, qStrand, qStart, qEnd, chain_id = line.split()\n",
    "        else:\n",
    "            pieces = line.split()\n",
    "            if len(pieces) == 3:\n",
    "                size, gap_reference, gap_query = [int(x) for x in pieces]\n",
    "                ref_count += size + gap_reference\n",
    "                total_size += size\n",
    "                query_count += size + gap_query\n",
    "\n",
    "            elif len(pieces) == 1:\n",
    "                ref_count += int(pieces[0])\n",
    "                query_count += int(pieces[0])\n",
    "print(tSize, ref_count, \"vs\", qSize, query_count)\n",
    "print(int(tSize) - ref_count)\n",
    "print(int(qSize) - query_count)\n",
    "print(total_size)"
   ]
  },
  {
   "cell_type": "code",
   "execution_count": 4,
   "metadata": {},
   "outputs": [],
   "source": [
    ""
   ]
  },
  {
   "cell_type": "code",
   "execution_count": null,
   "metadata": {},
   "outputs": [],
   "source": [
    ""
   ]
  },
  {
   "cell_type": "code",
   "execution_count": null,
   "metadata": {},
   "outputs": [],
   "source": [
    ""
   ]
  },
  {
   "cell_type": "code",
   "execution_count": null,
   "metadata": {},
   "outputs": [],
   "source": [
    ""
   ]
  },
  {
   "cell_type": "code",
   "execution_count": null,
   "outputs": [],
   "source": [
    ""
   ]
  }
 ],
 "metadata": {
  "kernelspec": {
   "display_name": "Python 2",
   "language": "python",
   "name": "python2"
  },
  "language_info": {
   "codemirror_mode": {
    "name": "ipython",
    "version": 2.0
   },
   "file_extension": ".py",
   "mimetype": "text/x-python",
   "name": "python",
   "nbconvert_exporter": "python",
   "pygments_lexer": "ipython2",
   "version": "2.7.6"
  }
 },
 "nbformat": 4,
 "nbformat_minor": 0
}