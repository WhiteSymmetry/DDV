{
 "cells": [
  {
   "cell_type": "markdown",
   "metadata": {
    "collapsed": true
   },
   "source": [
    "Concatenates all fasta files in a folder into a single fasta file.\n",
    "There's special code to compensate for alphabetical sorting between 1, 2, ... 10, ... 20."
   ]
  },
  {
   "cell_type": "code",
   "execution_count": 1,
   "metadata": {},
   "outputs": [],
   "source": [
    "import os\n",
    "import sys\n",
    "from glob import glob\n",
    "from sys import path"
   ]
  },
  {
   "cell_type": "code",
   "execution_count": 2,
   "metadata": {},
   "outputs": [
    {
     "name": "stdout",
     "output_type": "stream",
     "text": [
      "D:\\josiah\\Projects\\DDV\nD:\\Genomes\\Human\\Human All Alternates hg38\n"
     ]
    }
   ],
   "source": [
    "print(os.getcwd())\n",
    "os.chdir(\"D:\\Genomes\\Human\\Human All Alternates hg38\")\n",
    "print(os.getcwd())"
   ]
  },
  {
   "cell_type": "code",
   "execution_count": 3,
   "metadata": {},
   "outputs": [
    {
     "data": {
      "text/plain": [
       "['chr1.fa',\n 'chr10.fa',\n 'chr10_GL383545v1_alt.fa',\n 'chr10_GL383546v1_alt.fa',\n 'chr10_KI270824v1_alt.fa',\n 'chr10_KI270825v1_alt.fa',\n 'chr11.fa',\n 'chr11_GL383547v1_alt.fa',\n 'chr11_JH159136v1_alt.fa',\n 'chr11_JH159137v1_alt.fa',\n 'chr11_KI270721v1_random.fa',\n 'chr11_KI270826v1_alt.fa',\n 'chr11_KI270827v1_alt.fa',\n 'chr11_KI270829v1_alt.fa',\n 'chr11_KI270830v1_alt.fa',\n 'chr11_KI270831v1_alt.fa',\n 'chr11_KI270832v1_alt.fa',\n 'chr11_KI270902v1_alt.fa',\n 'chr11_KI270903v1_alt.fa',\n 'chr11_KI270927v1_alt.fa',\n 'chr12.fa',\n 'chr12_GL383549v1_alt.fa',\n 'chr12_GL383550v2_alt.fa',\n 'chr12_GL383551v1_alt.fa',\n 'chr12_GL383552v1_alt.fa',\n 'chr12_GL383553v2_alt.fa',\n 'chr12_GL877875v1_alt.fa',\n 'chr12_GL877876v1_alt.fa',\n 'chr12_KI270833v1_alt.fa',\n 'chr12_KI270834v1_alt.fa',\n 'chr12_KI270835v1_alt.fa',\n 'chr12_KI270836v1_alt.fa',\n 'chr12_KI270837v1_alt.fa',\n 'chr12_KI270904v1_alt.fa',\n 'chr13.fa',\n 'chr13_KI270838v1_alt.fa',\n 'chr13_KI270839v1_alt.fa',\n 'chr13_KI270840v1_alt.fa',\n 'chr13_KI270841v1_alt.fa',\n 'chr13_KI270842v1_alt.fa',\n 'chr13_KI270843v1_alt.fa',\n 'chr14.fa',\n 'chr14_GL000009v2_random.fa',\n 'chr14_GL000194v1_random.fa',\n 'chr14_GL000225v1_random.fa',\n 'chr14_KI270722v1_random.fa',\n 'chr14_KI270723v1_random.fa',\n 'chr14_KI270724v1_random.fa',\n 'chr14_KI270725v1_random.fa',\n 'chr14_KI270726v1_random.fa',\n 'chr14_KI270844v1_alt.fa',\n 'chr14_KI270845v1_alt.fa',\n 'chr14_KI270846v1_alt.fa',\n 'chr14_KI270847v1_alt.fa',\n 'chr15.fa',\n 'chr15_GL383554v1_alt.fa',\n 'chr15_GL383555v2_alt.fa',\n 'chr15_KI270727v1_random.fa',\n 'chr15_KI270848v1_alt.fa',\n 'chr15_KI270849v1_alt.fa',\n 'chr15_KI270850v1_alt.fa',\n 'chr15_KI270851v1_alt.fa',\n 'chr15_KI270852v1_alt.fa',\n 'chr15_KI270905v1_alt.fa',\n 'chr15_KI270906v1_alt.fa',\n 'chr16.fa',\n 'chr16_GL383556v1_alt.fa',\n 'chr16_GL383557v1_alt.fa',\n 'chr16_KI270728v1_random.fa',\n 'chr16_KI270853v1_alt.fa',\n 'chr16_KI270854v1_alt.fa',\n 'chr16_KI270855v1_alt.fa',\n 'chr16_KI270856v1_alt.fa',\n 'chr17.fa',\n 'chr17_GL000205v2_random.fa',\n 'chr17_GL000258v2_alt.fa',\n 'chr17_GL383563v3_alt.fa',\n 'chr17_GL383564v2_alt.fa',\n 'chr17_GL383565v1_alt.fa',\n 'chr17_GL383566v1_alt.fa',\n 'chr17_JH159146v1_alt.fa',\n 'chr17_JH159147v1_alt.fa',\n 'chr17_JH159148v1_alt.fa',\n 'chr17_KI270729v1_random.fa',\n 'chr17_KI270730v1_random.fa',\n 'chr17_KI270857v1_alt.fa',\n 'chr17_KI270858v1_alt.fa',\n 'chr17_KI270859v1_alt.fa',\n 'chr17_KI270860v1_alt.fa',\n 'chr17_KI270861v1_alt.fa',\n 'chr17_KI270862v1_alt.fa',\n 'chr17_KI270907v1_alt.fa',\n 'chr17_KI270908v1_alt.fa',\n 'chr17_KI270909v1_alt.fa',\n 'chr17_KI270910v1_alt.fa',\n 'chr18.fa',\n 'chr18_GL383567v1_alt.fa',\n 'chr18_GL383568v1_alt.fa',\n 'chr18_GL383569v1_alt.fa',\n 'chr18_GL383570v1_alt.fa',\n 'chr18_GL383571v1_alt.fa',\n 'chr18_GL383572v1_alt.fa',\n 'chr18_KI270863v1_alt.fa',\n 'chr18_KI270864v1_alt.fa',\n 'chr18_KI270911v1_alt.fa',\n 'chr18_KI270912v1_alt.fa',\n 'chr19.fa',\n 'chr19_GL000209v2_alt.fa',\n 'chr19_GL383573v1_alt.fa',\n 'chr19_GL383574v1_alt.fa',\n 'chr19_GL383575v2_alt.fa',\n 'chr19_GL383576v1_alt.fa',\n 'chr19_GL949746v1_alt.fa',\n 'chr19_GL949747v2_alt.fa',\n 'chr19_GL949748v2_alt.fa',\n 'chr19_GL949749v2_alt.fa',\n 'chr19_GL949750v2_alt.fa',\n 'chr19_GL949751v2_alt.fa',\n 'chr19_GL949752v1_alt.fa',\n 'chr19_GL949753v2_alt.fa',\n 'chr19_KI270865v1_alt.fa',\n 'chr19_KI270866v1_alt.fa',\n 'chr19_KI270867v1_alt.fa',\n 'chr19_KI270868v1_alt.fa',\n 'chr19_KI270882v1_alt.fa',\n 'chr19_KI270883v1_alt.fa',\n 'chr19_KI270884v1_alt.fa',\n 'chr19_KI270885v1_alt.fa',\n 'chr19_KI270886v1_alt.fa',\n 'chr19_KI270887v1_alt.fa',\n 'chr19_KI270888v1_alt.fa',\n 'chr19_KI270889v1_alt.fa',\n 'chr19_KI270890v1_alt.fa',\n 'chr19_KI270891v1_alt.fa',\n 'chr19_KI270914v1_alt.fa',\n 'chr19_KI270915v1_alt.fa',\n 'chr19_KI270916v1_alt.fa',\n 'chr19_KI270917v1_alt.fa',\n 'chr19_KI270918v1_alt.fa',\n 'chr19_KI270919v1_alt.fa',\n 'chr19_KI270920v1_alt.fa',\n 'chr19_KI270921v1_alt.fa',\n 'chr19_KI270922v1_alt.fa',\n 'chr19_KI270923v1_alt.fa',\n 'chr19_KI270929v1_alt.fa',\n 'chr19_KI270930v1_alt.fa',\n 'chr19_KI270931v1_alt.fa',\n 'chr19_KI270932v1_alt.fa',\n 'chr19_KI270933v1_alt.fa',\n 'chr19_KI270938v1_alt.fa',\n 'chr1_GL383518v1_alt.fa',\n 'chr1_GL383519v1_alt.fa',\n 'chr1_GL383520v2_alt.fa',\n 'chr1_KI270706v1_random.fa',\n 'chr1_KI270707v1_random.fa',\n 'chr1_KI270708v1_random.fa',\n 'chr1_KI270709v1_random.fa',\n 'chr1_KI270710v1_random.fa',\n 'chr1_KI270711v1_random.fa',\n 'chr1_KI270712v1_random.fa',\n 'chr1_KI270713v1_random.fa',\n 'chr1_KI270714v1_random.fa',\n 'chr1_KI270759v1_alt.fa',\n 'chr1_KI270760v1_alt.fa',\n 'chr1_KI270761v1_alt.fa',\n 'chr1_KI270762v1_alt.fa',\n 'chr1_KI270763v1_alt.fa',\n 'chr1_KI270764v1_alt.fa',\n 'chr1_KI270765v1_alt.fa',\n 'chr1_KI270766v1_alt.fa',\n 'chr1_KI270892v1_alt.fa',\n 'chr2.fa',\n 'chr20.fa',\n 'chr20_GL383577v2_alt.fa',\n 'chr20_KI270869v1_alt.fa',\n 'chr20_KI270870v1_alt.fa',\n 'chr20_KI270871v1_alt.fa',\n 'chr21.fa',\n 'chr21_GL383578v2_alt.fa',\n 'chr21_GL383579v2_alt.fa',\n 'chr21_GL383580v2_alt.fa',\n 'chr21_GL383581v2_alt.fa',\n 'chr21_KI270872v1_alt.fa',\n 'chr21_KI270873v1_alt.fa',\n 'chr21_KI270874v1_alt.fa',\n 'chr22.fa',\n 'chr22_GL383582v2_alt.fa',\n 'chr22_GL383583v2_alt.fa',\n 'chr22_KB663609v1_alt.fa',\n 'chr22_KI270731v1_random.fa',\n 'chr22_KI270732v1_random.fa',\n 'chr22_KI270733v1_random.fa',\n 'chr22_KI270734v1_random.fa',\n 'chr22_KI270735v1_random.fa',\n 'chr22_KI270736v1_random.fa',\n 'chr22_KI270737v1_random.fa',\n 'chr22_KI270738v1_random.fa',\n 'chr22_KI270739v1_random.fa',\n 'chr22_KI270875v1_alt.fa',\n 'chr22_KI270876v1_alt.fa',\n 'chr22_KI270877v1_alt.fa',\n 'chr22_KI270878v1_alt.fa',\n 'chr22_KI270879v1_alt.fa',\n 'chr22_KI270928v1_alt.fa',\n 'chr2_GL383521v1_alt.fa',\n 'chr2_GL383522v1_alt.fa',\n 'chr2_GL582966v2_alt.fa',\n 'chr2_KI270715v1_random.fa',\n 'chr2_KI270716v1_random.fa',\n 'chr2_KI270767v1_alt.fa',\n 'chr2_KI270768v1_alt.fa',\n 'chr2_KI270769v1_alt.fa',\n 'chr2_KI270770v1_alt.fa',\n 'chr2_KI270771v1_alt.fa',\n 'chr2_KI270772v1_alt.fa',\n 'chr2_KI270773v1_alt.fa',\n 'chr2_KI270774v1_alt.fa',\n 'chr2_KI270775v1_alt.fa',\n 'chr2_KI270776v1_alt.fa',\n 'chr2_KI270893v1_alt.fa',\n 'chr2_KI270894v1_alt.fa',\n 'chr3.fa',\n 'chr3_GL000221v1_random.fa',\n 'chr3_GL383526v1_alt.fa',\n 'chr3_JH636055v2_alt.fa',\n 'chr3_KI270777v1_alt.fa',\n 'chr3_KI270778v1_alt.fa',\n 'chr3_KI270779v1_alt.fa',\n 'chr3_KI270780v1_alt.fa',\n 'chr3_KI270781v1_alt.fa',\n 'chr3_KI270782v1_alt.fa',\n 'chr3_KI270783v1_alt.fa',\n 'chr3_KI270784v1_alt.fa',\n 'chr3_KI270895v1_alt.fa',\n 'chr3_KI270924v1_alt.fa',\n 'chr3_KI270934v1_alt.fa',\n 'chr3_KI270935v1_alt.fa',\n 'chr3_KI270936v1_alt.fa',\n 'chr3_KI270937v1_alt.fa',\n 'chr4.fa',\n 'chr4_GL000008v2_random.fa',\n 'chr4_GL000257v2_alt.fa',\n 'chr4_GL383527v1_alt.fa',\n 'chr4_GL383528v1_alt.fa',\n 'chr4_KI270785v1_alt.fa',\n 'chr4_KI270786v1_alt.fa',\n 'chr4_KI270787v1_alt.fa',\n 'chr4_KI270788v1_alt.fa',\n 'chr4_KI270789v1_alt.fa',\n 'chr4_KI270790v1_alt.fa',\n 'chr4_KI270896v1_alt.fa',\n 'chr4_KI270925v1_alt.fa',\n 'chr5.fa',\n 'chr5_GL000208v1_random.fa',\n 'chr5_GL339449v2_alt.fa',\n 'chr5_GL383530v1_alt.fa',\n 'chr5_GL383531v1_alt.fa',\n 'chr5_GL383532v1_alt.fa',\n 'chr5_GL949742v1_alt.fa',\n 'chr5_KI270791v1_alt.fa',\n 'chr5_KI270792v1_alt.fa',\n 'chr5_KI270793v1_alt.fa',\n 'chr5_KI270794v1_alt.fa',\n 'chr5_KI270795v1_alt.fa',\n 'chr5_KI270796v1_alt.fa',\n 'chr5_KI270897v1_alt.fa',\n 'chr5_KI270898v1_alt.fa',\n 'chr6.fa',\n 'chr6_GL000250v2_alt.fa',\n 'chr6_GL000251v2_alt.fa',\n 'chr6_GL000252v2_alt.fa',\n 'chr6_GL000253v2_alt.fa',\n 'chr6_GL000254v2_alt.fa',\n 'chr6_GL000255v2_alt.fa',\n 'chr6_GL000256v2_alt.fa',\n 'chr6_GL383533v1_alt.fa',\n 'chr6_KB021644v2_alt.fa',\n 'chr6_KI270758v1_alt.fa',\n 'chr6_KI270797v1_alt.fa',\n 'chr6_KI270798v1_alt.fa',\n 'chr6_KI270799v1_alt.fa',\n 'chr6_KI270800v1_alt.fa',\n 'chr6_KI270801v1_alt.fa',\n 'chr6_KI270802v1_alt.fa',\n 'chr7.fa',\n 'chr7_GL383534v2_alt.fa',\n 'chr7_KI270803v1_alt.fa',\n 'chr7_KI270804v1_alt.fa',\n 'chr7_KI270805v1_alt.fa',\n 'chr7_KI270806v1_alt.fa',\n 'chr7_KI270807v1_alt.fa',\n 'chr7_KI270808v1_alt.fa',\n 'chr7_KI270809v1_alt.fa',\n 'chr7_KI270899v1_alt.fa',\n 'chr8.fa',\n 'chr8_KI270810v1_alt.fa',\n 'chr8_KI270811v1_alt.fa',\n 'chr8_KI270812v1_alt.fa',\n 'chr8_KI270813v1_alt.fa',\n 'chr8_KI270814v1_alt.fa',\n 'chr8_KI270815v1_alt.fa',\n 'chr8_KI270816v1_alt.fa',\n 'chr8_KI270817v1_alt.fa',\n 'chr8_KI270818v1_alt.fa',\n 'chr8_KI270819v1_alt.fa',\n 'chr8_KI270820v1_alt.fa',\n 'chr8_KI270821v1_alt.fa',\n 'chr8_KI270822v1_alt.fa',\n 'chr8_KI270900v1_alt.fa',\n 'chr8_KI270901v1_alt.fa',\n 'chr8_KI270926v1_alt.fa',\n 'chr9.fa',\n 'chr9_GL383539v1_alt.fa',\n 'chr9_GL383540v1_alt.fa',\n 'chr9_GL383541v1_alt.fa',\n 'chr9_GL383542v1_alt.fa',\n 'chr9_KI270717v1_random.fa',\n 'chr9_KI270718v1_random.fa',\n 'chr9_KI270719v1_random.fa',\n 'chr9_KI270720v1_random.fa',\n 'chr9_KI270823v1_alt.fa',\n 'chrM.fa',\n 'chrUn_GL000195v1.fa',\n 'chrUn_GL000213v1.fa',\n 'chrUn_GL000214v1.fa',\n 'chrUn_GL000216v2.fa',\n 'chrUn_GL000218v1.fa',\n 'chrUn_GL000219v1.fa',\n 'chrUn_GL000220v1.fa',\n 'chrUn_GL000224v1.fa',\n 'chrUn_GL000226v1.fa',\n 'chrUn_KI270302v1.fa',\n 'chrUn_KI270303v1.fa',\n 'chrUn_KI270304v1.fa',\n 'chrUn_KI270305v1.fa',\n 'chrUn_KI270310v1.fa',\n 'chrUn_KI270311v1.fa',\n 'chrUn_KI270312v1.fa',\n 'chrUn_KI270315v1.fa',\n 'chrUn_KI270316v1.fa',\n 'chrUn_KI270317v1.fa',\n 'chrUn_KI270320v1.fa',\n 'chrUn_KI270322v1.fa',\n 'chrUn_KI270329v1.fa',\n 'chrUn_KI270330v1.fa',\n 'chrUn_KI270333v1.fa',\n 'chrUn_KI270334v1.fa',\n 'chrUn_KI270335v1.fa',\n 'chrUn_KI270336v1.fa',\n 'chrUn_KI270337v1.fa',\n 'chrUn_KI270338v1.fa',\n 'chrUn_KI270340v1.fa',\n 'chrUn_KI270362v1.fa',\n 'chrUn_KI270363v1.fa',\n 'chrUn_KI270364v1.fa',\n 'chrUn_KI270366v1.fa',\n 'chrUn_KI270371v1.fa',\n 'chrUn_KI270372v1.fa',\n 'chrUn_KI270373v1.fa',\n 'chrUn_KI270374v1.fa',\n 'chrUn_KI270375v1.fa',\n 'chrUn_KI270376v1.fa',\n 'chrUn_KI270378v1.fa',\n 'chrUn_KI270379v1.fa',\n 'chrUn_KI270381v1.fa',\n 'chrUn_KI270382v1.fa',\n 'chrUn_KI270383v1.fa',\n 'chrUn_KI270384v1.fa',\n 'chrUn_KI270385v1.fa',\n 'chrUn_KI270386v1.fa',\n 'chrUn_KI270387v1.fa',\n 'chrUn_KI270388v1.fa',\n 'chrUn_KI270389v1.fa',\n 'chrUn_KI270390v1.fa',\n 'chrUn_KI270391v1.fa',\n 'chrUn_KI270392v1.fa',\n 'chrUn_KI270393v1.fa',\n 'chrUn_KI270394v1.fa',\n 'chrUn_KI270395v1.fa',\n 'chrUn_KI270396v1.fa',\n 'chrUn_KI270411v1.fa',\n 'chrUn_KI270412v1.fa',\n 'chrUn_KI270414v1.fa',\n 'chrUn_KI270417v1.fa',\n 'chrUn_KI270418v1.fa',\n 'chrUn_KI270419v1.fa',\n 'chrUn_KI270420v1.fa',\n 'chrUn_KI270422v1.fa',\n 'chrUn_KI270423v1.fa',\n 'chrUn_KI270424v1.fa',\n 'chrUn_KI270425v1.fa',\n 'chrUn_KI270429v1.fa',\n 'chrUn_KI270435v1.fa',\n 'chrUn_KI270438v1.fa',\n 'chrUn_KI270442v1.fa',\n 'chrUn_KI270448v1.fa',\n 'chrUn_KI270465v1.fa',\n 'chrUn_KI270466v1.fa',\n 'chrUn_KI270467v1.fa',\n 'chrUn_KI270468v1.fa',\n 'chrUn_KI270507v1.fa',\n 'chrUn_KI270508v1.fa',\n 'chrUn_KI270509v1.fa',\n 'chrUn_KI270510v1.fa',\n 'chrUn_KI270511v1.fa',\n 'chrUn_KI270512v1.fa',\n 'chrUn_KI270515v1.fa',\n 'chrUn_KI270516v1.fa',\n 'chrUn_KI270517v1.fa',\n 'chrUn_KI270518v1.fa',\n 'chrUn_KI270519v1.fa',\n 'chrUn_KI270521v1.fa',\n 'chrUn_KI270522v1.fa',\n 'chrUn_KI270528v1.fa',\n 'chrUn_KI270529v1.fa',\n 'chrUn_KI270530v1.fa',\n 'chrUn_KI270538v1.fa',\n 'chrUn_KI270539v1.fa',\n 'chrUn_KI270544v1.fa',\n 'chrUn_KI270548v1.fa',\n 'chrUn_KI270579v1.fa',\n 'chrUn_KI270580v1.fa',\n 'chrUn_KI270581v1.fa',\n 'chrUn_KI270582v1.fa',\n 'chrUn_KI270583v1.fa',\n 'chrUn_KI270584v1.fa',\n 'chrUn_KI270587v1.fa',\n 'chrUn_KI270588v1.fa',\n 'chrUn_KI270589v1.fa',\n 'chrUn_KI270590v1.fa',\n 'chrUn_KI270591v1.fa',\n 'chrUn_KI270593v1.fa',\n 'chrUn_KI270741v1.fa',\n 'chrUn_KI270742v1.fa',\n 'chrUn_KI270743v1.fa',\n 'chrUn_KI270744v1.fa',\n 'chrUn_KI270745v1.fa',\n 'chrUn_KI270746v1.fa',\n 'chrUn_KI270747v1.fa',\n 'chrUn_KI270748v1.fa',\n 'chrUn_KI270749v1.fa',\n 'chrUn_KI270750v1.fa',\n 'chrUn_KI270751v1.fa',\n 'chrUn_KI270752v1.fa',\n 'chrUn_KI270753v1.fa',\n 'chrUn_KI270754v1.fa',\n 'chrUn_KI270755v1.fa',\n 'chrUn_KI270756v1.fa',\n 'chrUn_KI270757v1.fa',\n 'chrX.fa',\n 'chrX_KI270880v1_alt.fa',\n 'chrX_KI270881v1_alt.fa',\n 'chrX_KI270913v1_alt.fa',\n 'chrY.fa',\n 'chrY_KI270740v1_random.fa']"
      ]
     },
     "execution_count": 3,
     "metadata": {},
     "output_type": "execute_result"
    }
   ],
   "source": [
    "glob('*')"
   ]
  },
  {
   "cell_type": "markdown",
   "metadata": {},
   "source": [
    "### Human sorting logic for single digit numbers"
   ]
  },
  {
   "cell_type": "code",
   "execution_count": 4,
   "metadata": {},
   "outputs": [
    {
     "name": "stdout",
     "output_type": "stream",
     "text": [
      "['elm0', 'elm1', 'Elm2', 'elm9', 'elm10', 'Elm11', 'Elm12', 'elm13']\n"
     ]
    }
   ],
   "source": [
    "from natsort import natsorted, ns\n",
    "x = ['Elm11', 'Elm12', 'Elm2', 'elm0', 'elm1', 'elm10', 'elm13', 'elm9']\n",
    "print(natsorted(x, alg=ns.IGNORECASE))  # or alg=ns.IC\n",
    "# ['elm0', 'elm1', 'Elm2', 'elm9', 'elm10', 'Elm11', 'Elm12', 'elm13']"
   ]
  },
  {
   "cell_type": "code",
   "execution_count": 28,
   "metadata": {},
   "outputs": [
    {
     "name": "stdout",
     "output_type": "stream",
     "text": [
      "['chr1.fa', 'chr2.fa', 'chr3.fa', 'chr4.fa', 'chr5.fa', 'chr6.fa', 'chr7.fa', 'chr8.fa', 'chr9.fa', 'chr10.fa', 'chr11.fa', 'chr12.fa', 'chr13.fa', 'chr14.fa', 'chr15.fa', 'chr16.fa', 'chr17.fa', 'chr18.fa', 'chr19.fa', 'chr20.fa', 'chr21.fa', 'chr22.fa', 'chrM.fa', 'chrX.fa', 'chrY.fa']\n"
     ]
    }
   ],
   "source": [
    "core_chromosomes = natsorted([f for f in glob('*') if '_' not in f], alg=ns.IGNORECASE)\n",
    "#core_chromosomes = ['chr1.fa', 'chr2.fa', 'chr3.fa', 'chr4.fa', 'chr5.fa', 'chr6.fa', 'chr7.fa', 'chr8.fa', 'chr9.fa', 'chr10.fa', 'chr11.fa', 'chr12.fa', 'chr13.fa', 'chr14.fa', 'chr15.fa', 'chr16.fa', 'chr17.fa', 'chr18.fa', 'chr19.fa', 'chr20.fa', 'chr21.fa', 'chr22.fa', 'chrX.fa', 'chrY.fa', 'chrM.fa']\n",
    "print(core_chromosomes)"
   ]
  },
  {
   "cell_type": "code",
   "execution_count": 26,
   "metadata": {},
   "outputs": [
    {
     "name": "stdout",
     "output_type": "stream",
     "text": [
      "['chr1_GL383518v1_alt.fa', 'chr1_GL383519v1_alt.fa', 'chr1_GL383520v2_alt.fa', 'chr1_KI270706v1_random.fa', 'chr1_KI270707v1_random.fa', 'chr1_KI270708v1_random.fa', 'chr1_KI270709v1_random.fa', 'chr1_KI270710v1_random.fa', 'chr1_KI270711v1_random.fa', 'chr1_KI270712v1_random.fa', 'chr1_KI270713v1_random.fa', 'chr1_KI270714v1_random.fa', 'chr1_KI270759v1_alt.fa', 'chr1_KI270760v1_alt.fa', 'chr1_KI270761v1_alt.fa', 'chr1_KI270762v1_alt.fa', 'chr1_KI270763v1_alt.fa', 'chr1_KI270764v1_alt.fa', 'chr1_KI270765v1_alt.fa', 'chr1_KI270766v1_alt.fa', 'chr1_KI270892v1_alt.fa', 'chr2_GL383521v1_alt.fa', 'chr2_GL383522v1_alt.fa', 'chr2_GL582966v2_alt.fa', 'chr2_KI270715v1_random.fa', 'chr2_KI270716v1_random.fa', 'chr2_KI270767v1_alt.fa', 'chr2_KI270768v1_alt.fa', 'chr2_KI270769v1_alt.fa', 'chr2_KI270770v1_alt.fa', 'chr2_KI270771v1_alt.fa', 'chr2_KI270772v1_alt.fa', 'chr2_KI270773v1_alt.fa', 'chr2_KI270774v1_alt.fa', 'chr2_KI270775v1_alt.fa', 'chr2_KI270776v1_alt.fa', 'chr2_KI270893v1_alt.fa', 'chr2_KI270894v1_alt.fa', 'chr3_GL000221v1_random.fa', 'chr3_GL383526v1_alt.fa', 'chr3_JH636055v2_alt.fa', 'chr3_KI270777v1_alt.fa', 'chr3_KI270778v1_alt.fa', 'chr3_KI270779v1_alt.fa', 'chr3_KI270780v1_alt.fa', 'chr3_KI270781v1_alt.fa', 'chr3_KI270782v1_alt.fa', 'chr3_KI270783v1_alt.fa', 'chr3_KI270784v1_alt.fa', 'chr3_KI270895v1_alt.fa', 'chr3_KI270924v1_alt.fa', 'chr3_KI270934v1_alt.fa', 'chr3_KI270935v1_alt.fa', 'chr3_KI270936v1_alt.fa', 'chr3_KI270937v1_alt.fa', 'chr4_GL000008v2_random.fa', 'chr4_GL000257v2_alt.fa', 'chr4_GL383527v1_alt.fa', 'chr4_GL383528v1_alt.fa', 'chr4_KI270785v1_alt.fa', 'chr4_KI270786v1_alt.fa', 'chr4_KI270787v1_alt.fa', 'chr4_KI270788v1_alt.fa', 'chr4_KI270789v1_alt.fa', 'chr4_KI270790v1_alt.fa', 'chr4_KI270896v1_alt.fa', 'chr4_KI270925v1_alt.fa', 'chr5_GL000208v1_random.fa', 'chr5_GL339449v2_alt.fa', 'chr5_GL383530v1_alt.fa', 'chr5_GL383531v1_alt.fa', 'chr5_GL383532v1_alt.fa', 'chr5_GL949742v1_alt.fa', 'chr5_KI270791v1_alt.fa', 'chr5_KI270792v1_alt.fa', 'chr5_KI270793v1_alt.fa', 'chr5_KI270794v1_alt.fa', 'chr5_KI270795v1_alt.fa', 'chr5_KI270796v1_alt.fa', 'chr5_KI270897v1_alt.fa', 'chr5_KI270898v1_alt.fa', 'chr6_GL000250v2_alt.fa', 'chr6_GL000251v2_alt.fa', 'chr6_GL000252v2_alt.fa', 'chr6_GL000253v2_alt.fa', 'chr6_GL000254v2_alt.fa', 'chr6_GL000255v2_alt.fa', 'chr6_GL000256v2_alt.fa', 'chr6_GL383533v1_alt.fa', 'chr6_KB021644v2_alt.fa', 'chr6_KI270758v1_alt.fa', 'chr6_KI270797v1_alt.fa', 'chr6_KI270798v1_alt.fa', 'chr6_KI270799v1_alt.fa', 'chr6_KI270800v1_alt.fa', 'chr6_KI270801v1_alt.fa', 'chr6_KI270802v1_alt.fa', 'chr7_GL383534v2_alt.fa', 'chr7_KI270803v1_alt.fa', 'chr7_KI270804v1_alt.fa', 'chr7_KI270805v1_alt.fa', 'chr7_KI270806v1_alt.fa', 'chr7_KI270807v1_alt.fa', 'chr7_KI270808v1_alt.fa', 'chr7_KI270809v1_alt.fa', 'chr7_KI270899v1_alt.fa', 'chr8_KI270810v1_alt.fa', 'chr8_KI270811v1_alt.fa', 'chr8_KI270812v1_alt.fa', 'chr8_KI270813v1_alt.fa', 'chr8_KI270814v1_alt.fa', 'chr8_KI270815v1_alt.fa', 'chr8_KI270816v1_alt.fa', 'chr8_KI270817v1_alt.fa', 'chr8_KI270818v1_alt.fa', 'chr8_KI270819v1_alt.fa', 'chr8_KI270820v1_alt.fa', 'chr8_KI270821v1_alt.fa', 'chr8_KI270822v1_alt.fa', 'chr8_KI270900v1_alt.fa', 'chr8_KI270901v1_alt.fa', 'chr8_KI270926v1_alt.fa', 'chr9_GL383539v1_alt.fa', 'chr9_GL383540v1_alt.fa', 'chr9_GL383541v1_alt.fa', 'chr9_GL383542v1_alt.fa', 'chr9_KI270717v1_random.fa', 'chr9_KI270718v1_random.fa', 'chr9_KI270719v1_random.fa', 'chr9_KI270720v1_random.fa', 'chr9_KI270823v1_alt.fa', 'chr10_GL383545v1_alt.fa', 'chr10_GL383546v1_alt.fa', 'chr10_KI270824v1_alt.fa', 'chr10_KI270825v1_alt.fa', 'chr11_GL383547v1_alt.fa', 'chr11_JH159136v1_alt.fa', 'chr11_JH159137v1_alt.fa', 'chr11_KI270721v1_random.fa', 'chr11_KI270826v1_alt.fa', 'chr11_KI270827v1_alt.fa', 'chr11_KI270829v1_alt.fa', 'chr11_KI270830v1_alt.fa', 'chr11_KI270831v1_alt.fa', 'chr11_KI270832v1_alt.fa', 'chr11_KI270902v1_alt.fa', 'chr11_KI270903v1_alt.fa', 'chr11_KI270927v1_alt.fa', 'chr12_GL383549v1_alt.fa', 'chr12_GL383550v2_alt.fa', 'chr12_GL383551v1_alt.fa', 'chr12_GL383552v1_alt.fa', 'chr12_GL383553v2_alt.fa', 'chr12_GL877875v1_alt.fa', 'chr12_GL877876v1_alt.fa', 'chr12_KI270833v1_alt.fa', 'chr12_KI270834v1_alt.fa', 'chr12_KI270835v1_alt.fa', 'chr12_KI270836v1_alt.fa', 'chr12_KI270837v1_alt.fa', 'chr12_KI270904v1_alt.fa', 'chr13_KI270838v1_alt.fa', 'chr13_KI270839v1_alt.fa', 'chr13_KI270840v1_alt.fa', 'chr13_KI270841v1_alt.fa', 'chr13_KI270842v1_alt.fa', 'chr13_KI270843v1_alt.fa', 'chr14_GL000009v2_random.fa', 'chr14_GL000194v1_random.fa', 'chr14_GL000225v1_random.fa', 'chr14_KI270722v1_random.fa', 'chr14_KI270723v1_random.fa', 'chr14_KI270724v1_random.fa', 'chr14_KI270725v1_random.fa', 'chr14_KI270726v1_random.fa', 'chr14_KI270844v1_alt.fa', 'chr14_KI270845v1_alt.fa', 'chr14_KI270846v1_alt.fa', 'chr14_KI270847v1_alt.fa', 'chr15_GL383554v1_alt.fa', 'chr15_GL383555v2_alt.fa', 'chr15_KI270727v1_random.fa', 'chr15_KI270848v1_alt.fa', 'chr15_KI270849v1_alt.fa', 'chr15_KI270850v1_alt.fa', 'chr15_KI270851v1_alt.fa', 'chr15_KI270852v1_alt.fa', 'chr15_KI270905v1_alt.fa', 'chr15_KI270906v1_alt.fa', 'chr16_GL383556v1_alt.fa', 'chr16_GL383557v1_alt.fa', 'chr16_KI270728v1_random.fa', 'chr16_KI270853v1_alt.fa', 'chr16_KI270854v1_alt.fa', 'chr16_KI270855v1_alt.fa', 'chr16_KI270856v1_alt.fa', 'chr17_GL000205v2_random.fa', 'chr17_GL000258v2_alt.fa', 'chr17_GL383563v3_alt.fa', 'chr17_GL383564v2_alt.fa', 'chr17_GL383565v1_alt.fa', 'chr17_GL383566v1_alt.fa', 'chr17_JH159146v1_alt.fa', 'chr17_JH159147v1_alt.fa', 'chr17_JH159148v1_alt.fa', 'chr17_KI270729v1_random.fa', 'chr17_KI270730v1_random.fa', 'chr17_KI270857v1_alt.fa', 'chr17_KI270858v1_alt.fa', 'chr17_KI270859v1_alt.fa', 'chr17_KI270860v1_alt.fa', 'chr17_KI270861v1_alt.fa', 'chr17_KI270862v1_alt.fa', 'chr17_KI270907v1_alt.fa', 'chr17_KI270908v1_alt.fa', 'chr17_KI270909v1_alt.fa', 'chr17_KI270910v1_alt.fa', 'chr18_GL383567v1_alt.fa', 'chr18_GL383568v1_alt.fa', 'chr18_GL383569v1_alt.fa', 'chr18_GL383570v1_alt.fa', 'chr18_GL383571v1_alt.fa', 'chr18_GL383572v1_alt.fa', 'chr18_KI270863v1_alt.fa', 'chr18_KI270864v1_alt.fa', 'chr18_KI270911v1_alt.fa', 'chr18_KI270912v1_alt.fa', 'chr19_GL000209v2_alt.fa', 'chr19_GL383573v1_alt.fa', 'chr19_GL383574v1_alt.fa', 'chr19_GL383575v2_alt.fa', 'chr19_GL383576v1_alt.fa', 'chr19_GL949746v1_alt.fa', 'chr19_GL949747v2_alt.fa', 'chr19_GL949748v2_alt.fa', 'chr19_GL949749v2_alt.fa', 'chr19_GL949750v2_alt.fa', 'chr19_GL949751v2_alt.fa', 'chr19_GL949752v1_alt.fa', 'chr19_GL949753v2_alt.fa', 'chr19_KI270865v1_alt.fa', 'chr19_KI270866v1_alt.fa', 'chr19_KI270867v1_alt.fa', 'chr19_KI270868v1_alt.fa', 'chr19_KI270882v1_alt.fa', 'chr19_KI270883v1_alt.fa', 'chr19_KI270884v1_alt.fa', 'chr19_KI270885v1_alt.fa', 'chr19_KI270886v1_alt.fa', 'chr19_KI270887v1_alt.fa', 'chr19_KI270888v1_alt.fa', 'chr19_KI270889v1_alt.fa', 'chr19_KI270890v1_alt.fa', 'chr19_KI270891v1_alt.fa', 'chr19_KI270914v1_alt.fa', 'chr19_KI270915v1_alt.fa', 'chr19_KI270916v1_alt.fa', 'chr19_KI270917v1_alt.fa', 'chr19_KI270918v1_alt.fa', 'chr19_KI270919v1_alt.fa', 'chr19_KI270920v1_alt.fa', 'chr19_KI270921v1_alt.fa', 'chr19_KI270922v1_alt.fa', 'chr19_KI270923v1_alt.fa', 'chr19_KI270929v1_alt.fa', 'chr19_KI270930v1_alt.fa', 'chr19_KI270931v1_alt.fa', 'chr19_KI270932v1_alt.fa', 'chr19_KI270933v1_alt.fa', 'chr19_KI270938v1_alt.fa', 'chr20_GL383577v2_alt.fa', 'chr20_KI270869v1_alt.fa', 'chr20_KI270870v1_alt.fa', 'chr20_KI270871v1_alt.fa', 'chr21_GL383578v2_alt.fa', 'chr21_GL383579v2_alt.fa', 'chr21_GL383580v2_alt.fa', 'chr21_GL383581v2_alt.fa', 'chr21_KI270872v1_alt.fa', 'chr21_KI270873v1_alt.fa', 'chr21_KI270874v1_alt.fa', 'chr22_GL383582v2_alt.fa', 'chr22_GL383583v2_alt.fa', 'chr22_KB663609v1_alt.fa', 'chr22_KI270731v1_random.fa', 'chr22_KI270732v1_random.fa', 'chr22_KI270733v1_random.fa', 'chr22_KI270734v1_random.fa', 'chr22_KI270735v1_random.fa', 'chr22_KI270736v1_random.fa', 'chr22_KI270737v1_random.fa', 'chr22_KI270738v1_random.fa', 'chr22_KI270739v1_random.fa', 'chr22_KI270875v1_alt.fa', 'chr22_KI270876v1_alt.fa', 'chr22_KI270877v1_alt.fa', 'chr22_KI270878v1_alt.fa', 'chr22_KI270879v1_alt.fa', 'chr22_KI270928v1_alt.fa', 'chrUn_GL000195v1.fa', 'chrUn_GL000213v1.fa', 'chrUn_GL000214v1.fa', 'chrUn_GL000216v2.fa', 'chrUn_GL000218v1.fa', 'chrUn_GL000219v1.fa', 'chrUn_GL000220v1.fa', 'chrUn_GL000224v1.fa', 'chrUn_GL000226v1.fa', 'chrUn_KI270302v1.fa', 'chrUn_KI270303v1.fa', 'chrUn_KI270304v1.fa', 'chrUn_KI270305v1.fa', 'chrUn_KI270310v1.fa', 'chrUn_KI270311v1.fa', 'chrUn_KI270312v1.fa', 'chrUn_KI270315v1.fa', 'chrUn_KI270316v1.fa', 'chrUn_KI270317v1.fa', 'chrUn_KI270320v1.fa', 'chrUn_KI270322v1.fa', 'chrUn_KI270329v1.fa', 'chrUn_KI270330v1.fa', 'chrUn_KI270333v1.fa', 'chrUn_KI270334v1.fa', 'chrUn_KI270335v1.fa', 'chrUn_KI270336v1.fa', 'chrUn_KI270337v1.fa', 'chrUn_KI270338v1.fa', 'chrUn_KI270340v1.fa', 'chrUn_KI270362v1.fa', 'chrUn_KI270363v1.fa', 'chrUn_KI270364v1.fa', 'chrUn_KI270366v1.fa', 'chrUn_KI270371v1.fa', 'chrUn_KI270372v1.fa', 'chrUn_KI270373v1.fa', 'chrUn_KI270374v1.fa', 'chrUn_KI270375v1.fa', 'chrUn_KI270376v1.fa', 'chrUn_KI270378v1.fa', 'chrUn_KI270379v1.fa', 'chrUn_KI270381v1.fa', 'chrUn_KI270382v1.fa', 'chrUn_KI270383v1.fa', 'chrUn_KI270384v1.fa', 'chrUn_KI270385v1.fa', 'chrUn_KI270386v1.fa', 'chrUn_KI270387v1.fa', 'chrUn_KI270388v1.fa', 'chrUn_KI270389v1.fa', 'chrUn_KI270390v1.fa', 'chrUn_KI270391v1.fa', 'chrUn_KI270392v1.fa', 'chrUn_KI270393v1.fa', 'chrUn_KI270394v1.fa', 'chrUn_KI270395v1.fa', 'chrUn_KI270396v1.fa', 'chrUn_KI270411v1.fa', 'chrUn_KI270412v1.fa', 'chrUn_KI270414v1.fa', 'chrUn_KI270417v1.fa', 'chrUn_KI270418v1.fa', 'chrUn_KI270419v1.fa', 'chrUn_KI270420v1.fa', 'chrUn_KI270422v1.fa', 'chrUn_KI270423v1.fa', 'chrUn_KI270424v1.fa', 'chrUn_KI270425v1.fa', 'chrUn_KI270429v1.fa', 'chrUn_KI270435v1.fa', 'chrUn_KI270438v1.fa', 'chrUn_KI270442v1.fa', 'chrUn_KI270448v1.fa', 'chrUn_KI270465v1.fa', 'chrUn_KI270466v1.fa', 'chrUn_KI270467v1.fa', 'chrUn_KI270468v1.fa', 'chrUn_KI270507v1.fa', 'chrUn_KI270508v1.fa', 'chrUn_KI270509v1.fa', 'chrUn_KI270510v1.fa', 'chrUn_KI270511v1.fa', 'chrUn_KI270512v1.fa', 'chrUn_KI270515v1.fa', 'chrUn_KI270516v1.fa', 'chrUn_KI270517v1.fa', 'chrUn_KI270518v1.fa', 'chrUn_KI270519v1.fa', 'chrUn_KI270521v1.fa', 'chrUn_KI270522v1.fa', 'chrUn_KI270528v1.fa', 'chrUn_KI270529v1.fa', 'chrUn_KI270530v1.fa', 'chrUn_KI270538v1.fa', 'chrUn_KI270539v1.fa', 'chrUn_KI270544v1.fa', 'chrUn_KI270548v1.fa', 'chrUn_KI270579v1.fa', 'chrUn_KI270580v1.fa', 'chrUn_KI270581v1.fa', 'chrUn_KI270582v1.fa', 'chrUn_KI270583v1.fa', 'chrUn_KI270584v1.fa', 'chrUn_KI270587v1.fa', 'chrUn_KI270588v1.fa', 'chrUn_KI270589v1.fa', 'chrUn_KI270590v1.fa', 'chrUn_KI270591v1.fa', 'chrUn_KI270593v1.fa', 'chrUn_KI270741v1.fa', 'chrUn_KI270742v1.fa', 'chrUn_KI270743v1.fa', 'chrUn_KI270744v1.fa', 'chrUn_KI270745v1.fa', 'chrUn_KI270746v1.fa', 'chrUn_KI270747v1.fa', 'chrUn_KI270748v1.fa', 'chrUn_KI270749v1.fa', 'chrUn_KI270750v1.fa', 'chrUn_KI270751v1.fa', 'chrUn_KI270752v1.fa', 'chrUn_KI270753v1.fa', 'chrUn_KI270754v1.fa', 'chrUn_KI270755v1.fa', 'chrUn_KI270756v1.fa', 'chrUn_KI270757v1.fa', 'chrX_KI270880v1_alt.fa', 'chrX_KI270881v1_alt.fa', 'chrX_KI270913v1_alt.fa', 'chrY_KI270740v1_random.fa']\n"
     ]
    }
   ],
   "source": [
    "extra_contigs = natsorted([f for f in glob('*') if '_' in f], alg=ns.IGNORECASE)\n",
    "print(extra_contigs)"
   ]
  },
  {
   "cell_type": "code",
   "execution_count": 31,
   "metadata": {},
   "outputs": [
    {
     "name": "stdout",
     "output_type": "stream",
     "text": [
      "\rOpening chr1.fa"
     ]
    },
    {
     "name": "stdout",
     "output_type": "stream",
     "text": [
      "\rOpening chr2.fa"
     ]
    },
    {
     "name": "stdout",
     "output_type": "stream",
     "text": [
      "\rOpening chr3.fa"
     ]
    },
    {
     "name": "stdout",
     "output_type": "stream",
     "text": [
      "\rOpening chr4.fa"
     ]
    },
    {
     "name": "stdout",
     "output_type": "stream",
     "text": [
      "\rOpening chr5.fa"
     ]
    },
    {
     "name": "stdout",
     "output_type": "stream",
     "text": [
      "\rOpening chr6.fa"
     ]
    },
    {
     "name": "stdout",
     "output_type": "stream",
     "text": [
      "\rOpening chr7.fa"
     ]
    },
    {
     "name": "stdout",
     "output_type": "stream",
     "text": [
      "\rOpening chr8.fa"
     ]
    },
    {
     "name": "stdout",
     "output_type": "stream",
     "text": [
      "\rOpening chr9.fa"
     ]
    },
    {
     "name": "stdout",
     "output_type": "stream",
     "text": [
      "\rOpening chr10.fa"
     ]
    },
    {
     "name": "stdout",
     "output_type": "stream",
     "text": [
      "\rOpening chr11.fa"
     ]
    },
    {
     "name": "stdout",
     "output_type": "stream",
     "text": [
      "\rOpening chr12.fa"
     ]
    },
    {
     "name": "stdout",
     "output_type": "stream",
     "text": [
      "\rOpening chr13.fa"
     ]
    },
    {
     "name": "stdout",
     "output_type": "stream",
     "text": [
      "\rOpening chr14.fa"
     ]
    },
    {
     "name": "stdout",
     "output_type": "stream",
     "text": [
      "\rOpening chr15.fa"
     ]
    },
    {
     "name": "stdout",
     "output_type": "stream",
     "text": [
      "\rOpening chr16.fa"
     ]
    },
    {
     "name": "stdout",
     "output_type": "stream",
     "text": [
      "\rOpening chr17.fa"
     ]
    },
    {
     "name": "stdout",
     "output_type": "stream",
     "text": [
      "\rOpening chr18.fa"
     ]
    },
    {
     "name": "stdout",
     "output_type": "stream",
     "text": [
      "\rOpening chr19.fa"
     ]
    },
    {
     "name": "stdout",
     "output_type": "stream",
     "text": [
      "\rOpening chr20.fa"
     ]
    },
    {
     "name": "stdout",
     "output_type": "stream",
     "text": [
      "\rOpening chr21.fa"
     ]
    },
    {
     "name": "stdout",
     "output_type": "stream",
     "text": [
      "\rOpening chr22.fa"
     ]
    },
    {
     "name": "stdout",
     "output_type": "stream",
     "text": [
      "\rOpening chrM.fa\rOpening chrX.fa"
     ]
    },
    {
     "name": "stdout",
     "output_type": "stream",
     "text": [
      "\rOpening chrY.fa"
     ]
    },
    {
     "name": "stdout",
     "output_type": "stream",
     "text": [
      "\rOpening chr1_GL383518v1_alt.fa\rOpening chr1_GL383519v1_alt.fa\rOpening chr1_GL383520v2_alt.fa\rOpening chr1_KI270706v1_random.fa\rOpening chr1_KI270707v1_random.fa"
     ]
    },
    {
     "name": "stdout",
     "output_type": "stream",
     "text": [
      "\rOpening chr1_KI270708v1_random.fa\rOpening chr1_KI270709v1_random.fa\rOpening chr1_KI270710v1_random.fa\rOpening chr1_KI270711v1_random.fa\rOpening chr1_KI270712v1_random.fa\rOpening chr1_KI270713v1_random.fa\rOpening chr1_KI270714v1_random.fa\rOpening chr1_KI270759v1_alt.fa\rOpening chr1_KI270760v1_alt.fa\rOpening chr1_KI270761v1_alt.fa"
     ]
    },
    {
     "name": "stdout",
     "output_type": "stream",
     "text": [
      "\rOpening chr1_KI270762v1_alt.fa\rOpening chr1_KI270763v1_alt.fa\rOpening chr1_KI270764v1_alt.fa\rOpening chr1_KI270765v1_alt.fa\rOpening chr1_KI270766v1_alt.fa"
     ]
    },
    {
     "name": "stdout",
     "output_type": "stream",
     "text": [
      "\rOpening chr1_KI270892v1_alt.fa"
     ]
    },
    {
     "name": "stdout",
     "output_type": "stream",
     "text": [
      "\rOpening chr2_GL383521v1_alt.fa\rOpening chr2_GL383522v1_alt.fa\rOpening chr2_GL582966v2_alt.fa\rOpening chr2_KI270715v1_random.fa\rOpening chr2_KI270716v1_random.fa\rOpening chr2_KI270767v1_alt.fa\rOpening chr2_KI270768v1_alt.fa"
     ]
    },
    {
     "name": "stdout",
     "output_type": "stream",
     "text": [
      "\rOpening chr2_KI270769v1_alt.fa\rOpening chr2_KI270770v1_alt.fa\rOpening chr2_KI270771v1_alt.fa\rOpening chr2_KI270772v1_alt.fa\rOpening chr2_KI270773v1_alt.fa\rOpening chr2_KI270774v1_alt.fa"
     ]
    },
    {
     "name": "stdout",
     "output_type": "stream",
     "text": [
      "\rOpening chr2_KI270775v1_alt.fa\rOpening chr2_KI270776v1_alt.fa\rOpening chr2_KI270893v1_alt.fa\rOpening chr2_KI270894v1_alt.fa"
     ]
    },
    {
     "name": "stdout",
     "output_type": "stream",
     "text": [
      "\rOpening chr3_GL000221v1_random.fa\rOpening chr3_GL383526v1_alt.fa\rOpening chr3_JH636055v2_alt.fa"
     ]
    },
    {
     "name": "stdout",
     "output_type": "stream",
     "text": [
      "\rOpening chr3_KI270777v1_alt.fa\rOpening chr3_KI270778v1_alt.fa\rOpening chr3_KI270779v1_alt.fa\rOpening chr3_KI270780v1_alt.fa"
     ]
    },
    {
     "name": "stdout",
     "output_type": "stream",
     "text": [
      "\rOpening chr3_KI270781v1_alt.fa\rOpening chr3_KI270782v1_alt.fa\rOpening chr3_KI270783v1_alt.fa\rOpening chr3_KI270784v1_alt.fa\rOpening chr3_KI270895v1_alt.fa\rOpening chr3_KI270924v1_alt.fa\rOpening chr3_KI270934v1_alt.fa"
     ]
    },
    {
     "name": "stdout",
     "output_type": "stream",
     "text": [
      "\rOpening chr3_KI270935v1_alt.fa\rOpening chr3_KI270936v1_alt.fa\rOpening chr3_KI270937v1_alt.fa\rOpening chr4_GL000008v2_random.fa\rOpening chr4_GL000257v2_alt.fa\rOpening chr4_GL383527v1_alt.fa\rOpening chr4_GL383528v1_alt.fa"
     ]
    },
    {
     "name": "stdout",
     "output_type": "stream",
     "text": [
      "\rOpening chr4_KI270785v1_alt.fa\rOpening chr4_KI270786v1_alt.fa\rOpening chr4_KI270787v1_alt.fa\rOpening chr4_KI270788v1_alt.fa\rOpening chr4_KI270789v1_alt.fa\rOpening chr4_KI270790v1_alt.fa\rOpening chr4_KI270896v1_alt.fa"
     ]
    },
    {
     "name": "stdout",
     "output_type": "stream",
     "text": [
      "\rOpening chr4_KI270925v1_alt.fa\rOpening chr5_GL000208v1_random.fa\rOpening chr5_GL339449v2_alt.fa\rOpening chr5_GL383530v1_alt.fa"
     ]
    },
    {
     "name": "stdout",
     "output_type": "stream",
     "text": [
      "\rOpening chr5_GL383531v1_alt.fa\rOpening chr5_GL383532v1_alt.fa\rOpening chr5_GL949742v1_alt.fa\rOpening chr5_KI270791v1_alt.fa\rOpening chr5_KI270792v1_alt.fa\rOpening chr5_KI270793v1_alt.fa\rOpening chr5_KI270794v1_alt.fa"
     ]
    },
    {
     "name": "stdout",
     "output_type": "stream",
     "text": [
      "\rOpening chr5_KI270795v1_alt.fa\rOpening chr5_KI270796v1_alt.fa\rOpening chr5_KI270897v1_alt.fa"
     ]
    },
    {
     "name": "stdout",
     "output_type": "stream",
     "text": [
      "\rOpening chr5_KI270898v1_alt.fa\rOpening chr6_GL000250v2_alt.fa"
     ]
    },
    {
     "name": "stdout",
     "output_type": "stream",
     "text": [
      "\rOpening chr6_GL000251v2_alt.fa"
     ]
    },
    {
     "name": "stdout",
     "output_type": "stream",
     "text": [
      "\rOpening chr6_GL000252v2_alt.fa"
     ]
    },
    {
     "name": "stdout",
     "output_type": "stream",
     "text": [
      "\rOpening chr6_GL000253v2_alt.fa"
     ]
    },
    {
     "name": "stdout",
     "output_type": "stream",
     "text": [
      "\rOpening chr6_GL000254v2_alt.fa"
     ]
    },
    {
     "name": "stdout",
     "output_type": "stream",
     "text": [
      "\rOpening chr6_GL000255v2_alt.fa"
     ]
    },
    {
     "name": "stdout",
     "output_type": "stream",
     "text": [
      "\rOpening chr6_GL000256v2_alt.fa"
     ]
    },
    {
     "name": "stdout",
     "output_type": "stream",
     "text": [
      "\rOpening chr6_GL383533v1_alt.fa\rOpening chr6_KB021644v2_alt.fa\rOpening chr6_KI270758v1_alt.fa\rOpening chr6_KI270797v1_alt.fa\rOpening chr6_KI270798v1_alt.fa\rOpening chr6_KI270799v1_alt.fa\rOpening chr6_KI270800v1_alt.fa"
     ]
    },
    {
     "name": "stdout",
     "output_type": "stream",
     "text": [
      "\rOpening chr6_KI270801v1_alt.fa\rOpening chr6_KI270802v1_alt.fa\rOpening chr7_GL383534v2_alt.fa\rOpening chr7_KI270803v1_alt.fa\rOpening chr7_KI270804v1_alt.fa"
     ]
    },
    {
     "name": "stdout",
     "output_type": "stream",
     "text": [
      "\rOpening chr7_KI270805v1_alt.fa\rOpening chr7_KI270806v1_alt.fa\rOpening chr7_KI270807v1_alt.fa\rOpening chr7_KI270808v1_alt.fa\rOpening chr7_KI270809v1_alt.fa\rOpening chr7_KI270899v1_alt.fa"
     ]
    },
    {
     "name": "stdout",
     "output_type": "stream",
     "text": [
      "\rOpening chr8_KI270810v1_alt.fa\rOpening chr8_KI270811v1_alt.fa\rOpening chr8_KI270812v1_alt.fa\rOpening chr8_KI270813v1_alt.fa\rOpening chr8_KI270814v1_alt.fa\rOpening chr8_KI270815v1_alt.fa\rOpening chr8_KI270816v1_alt.fa"
     ]
    },
    {
     "name": "stdout",
     "output_type": "stream",
     "text": [
      "\rOpening chr8_KI270817v1_alt.fa\rOpening chr8_KI270818v1_alt.fa\rOpening chr8_KI270819v1_alt.fa\rOpening chr8_KI270820v1_alt.fa\rOpening chr8_KI270821v1_alt.fa\rOpening chr8_KI270822v1_alt.fa\rOpening chr8_KI270900v1_alt.fa"
     ]
    },
    {
     "name": "stdout",
     "output_type": "stream",
     "text": [
      "\rOpening chr8_KI270901v1_alt.fa\rOpening chr8_KI270926v1_alt.fa\rOpening chr9_GL383539v1_alt.fa\rOpening chr9_GL383540v1_alt.fa\rOpening chr9_GL383541v1_alt.fa\rOpening chr9_GL383542v1_alt.fa\rOpening chr9_KI270717v1_random.fa\rOpening chr9_KI270718v1_random.fa\rOpening chr9_KI270719v1_random.fa"
     ]
    },
    {
     "name": "stdout",
     "output_type": "stream",
     "text": [
      "\rOpening chr9_KI270720v1_random.fa\rOpening chr9_KI270823v1_alt.fa\rOpening chr10_GL383545v1_alt.fa\rOpening chr10_GL383546v1_alt.fa\rOpening chr10_KI270824v1_alt.fa\rOpening chr10_KI270825v1_alt.fa"
     ]
    },
    {
     "name": "stdout",
     "output_type": "stream",
     "text": [
      "\rOpening chr11_GL383547v1_alt.fa\rOpening chr11_JH159136v1_alt.fa"
     ]
    },
    {
     "name": "stdout",
     "output_type": "stream",
     "text": [
      "\rOpening chr11_JH159137v1_alt.fa\rOpening chr11_KI270721v1_random.fa\rOpening chr11_KI270826v1_alt.fa\rOpening chr11_KI270827v1_alt.fa\rOpening chr11_KI270829v1_alt.fa\rOpening chr11_KI270830v1_alt.fa\rOpening chr11_KI270831v1_alt.fa\rOpening chr11_KI270832v1_alt.fa"
     ]
    },
    {
     "name": "stdout",
     "output_type": "stream",
     "text": [
      "\rOpening chr11_KI270902v1_alt.fa\rOpening chr11_KI270903v1_alt.fa\rOpening chr11_KI270927v1_alt.fa\rOpening chr12_GL383549v1_alt.fa\rOpening chr12_GL383550v2_alt.fa\rOpening chr12_GL383551v1_alt.fa"
     ]
    },
    {
     "name": "stdout",
     "output_type": "stream",
     "text": [
      "\rOpening chr12_GL383552v1_alt.fa\rOpening chr12_GL383553v2_alt.fa\rOpening chr12_GL877875v1_alt.fa\rOpening chr12_GL877876v1_alt.fa\rOpening chr12_KI270833v1_alt.fa\rOpening chr12_KI270834v1_alt.fa\rOpening chr12_KI270835v1_alt.fa\rOpening chr12_KI270836v1_alt.fa\rOpening chr12_KI270837v1_alt.fa\rOpening chr12_KI270904v1_alt.fa"
     ]
    },
    {
     "name": "stdout",
     "output_type": "stream",
     "text": [
      "\rOpening chr13_KI270838v1_alt.fa\rOpening chr13_KI270839v1_alt.fa\rOpening chr13_KI270840v1_alt.fa\rOpening chr13_KI270841v1_alt.fa\rOpening chr13_KI270842v1_alt.fa\rOpening chr13_KI270843v1_alt.fa\rOpening chr14_GL000009v2_random.fa\rOpening chr14_GL000194v1_random.fa"
     ]
    },
    {
     "name": "stdout",
     "output_type": "stream",
     "text": [
      "\rOpening chr14_GL000225v1_random.fa\rOpening chr14_KI270722v1_random.fa\rOpening chr14_KI270723v1_random.fa\rOpening chr14_KI270724v1_random.fa\rOpening chr14_KI270725v1_random.fa\rOpening chr14_KI270726v1_random.fa\rOpening chr14_KI270844v1_alt.fa"
     ]
    },
    {
     "name": "stdout",
     "output_type": "stream",
     "text": [
      "\rOpening chr14_KI270845v1_alt.fa\rOpening chr14_KI270846v1_alt.fa\rOpening chr14_KI270847v1_alt.fa"
     ]
    },
    {
     "name": "stdout",
     "output_type": "stream",
     "text": [
      "\rOpening chr15_GL383554v1_alt.fa\rOpening chr15_GL383555v2_alt.fa\rOpening chr15_KI270727v1_random.fa\rOpening chr15_KI270848v1_alt.fa"
     ]
    },
    {
     "name": "stdout",
     "output_type": "stream",
     "text": [
      "\rOpening chr15_KI270849v1_alt.fa\rOpening chr15_KI270850v1_alt.fa\rOpening chr15_KI270851v1_alt.fa\rOpening chr15_KI270852v1_alt.fa\rOpening chr15_KI270905v1_alt.fa"
     ]
    },
    {
     "name": "stdout",
     "output_type": "stream",
     "text": [
      "\rOpening chr15_KI270906v1_alt.fa\rOpening chr16_GL383556v1_alt.fa\rOpening chr16_GL383557v1_alt.fa\rOpening chr16_KI270728v1_random.fa"
     ]
    },
    {
     "name": "stdout",
     "output_type": "stream",
     "text": [
      "\rOpening chr16_KI270853v1_alt.fa\rOpening chr16_KI270854v1_alt.fa"
     ]
    },
    {
     "name": "stdout",
     "output_type": "stream",
     "text": [
      "\rOpening chr16_KI270855v1_alt.fa\rOpening chr16_KI270856v1_alt.fa\rOpening chr17_GL000205v2_random.fa\rOpening chr17_GL000258v2_alt.fa"
     ]
    },
    {
     "name": "stdout",
     "output_type": "stream",
     "text": [
      "\rOpening chr17_GL383563v3_alt.fa\rOpening chr17_GL383564v2_alt.fa\rOpening chr17_GL383565v1_alt.fa\rOpening chr17_GL383566v1_alt.fa\rOpening chr17_JH159146v1_alt.fa\rOpening chr17_JH159147v1_alt.fa\rOpening chr17_JH159148v1_alt.fa"
     ]
    },
    {
     "name": "stdout",
     "output_type": "stream",
     "text": [
      "\rOpening chr17_KI270729v1_random.fa\rOpening chr17_KI270730v1_random.fa\rOpening chr17_KI270857v1_alt.fa"
     ]
    },
    {
     "name": "stdout",
     "output_type": "stream",
     "text": [
      "\rOpening chr17_KI270858v1_alt.fa\rOpening chr17_KI270859v1_alt.fa\rOpening chr17_KI270860v1_alt.fa\rOpening chr17_KI270861v1_alt.fa\rOpening chr17_KI270862v1_alt.fa\rOpening chr17_KI270907v1_alt.fa\rOpening chr17_KI270908v1_alt.fa"
     ]
    },
    {
     "name": "stdout",
     "output_type": "stream",
     "text": [
      "\rOpening chr17_KI270909v1_alt.fa\rOpening chr17_KI270910v1_alt.fa\rOpening chr18_GL383567v1_alt.fa\rOpening chr18_GL383568v1_alt.fa\rOpening chr18_GL383569v1_alt.fa"
     ]
    },
    {
     "name": "stdout",
     "output_type": "stream",
     "text": [
      "\rOpening chr18_GL383570v1_alt.fa\rOpening chr18_GL383571v1_alt.fa\rOpening chr18_GL383572v1_alt.fa"
     ]
    },
    {
     "name": "stdout",
     "output_type": "stream",
     "text": [
      "\rOpening chr18_KI270863v1_alt.fa\rOpening chr18_KI270864v1_alt.fa\rOpening chr18_KI270911v1_alt.fa\rOpening chr18_KI270912v1_alt.fa\rOpening chr19_GL000209v2_alt.fa\rOpening chr19_GL383573v1_alt.fa"
     ]
    },
    {
     "name": "stdout",
     "output_type": "stream",
     "text": [
      "\rOpening chr19_GL383574v1_alt.fa\rOpening chr19_GL383575v2_alt.fa\rOpening chr19_GL383576v1_alt.fa\rOpening chr19_GL949746v1_alt.fa\rOpening chr19_GL949747v2_alt.fa"
     ]
    },
    {
     "name": "stdout",
     "output_type": "stream",
     "text": [
      "\rOpening chr19_GL949748v2_alt.fa\rOpening chr19_GL949749v2_alt.fa\rOpening chr19_GL949750v2_alt.fa\rOpening chr19_GL949751v2_alt.fa"
     ]
    },
    {
     "name": "stdout",
     "output_type": "stream",
     "text": [
      "\rOpening chr19_GL949752v1_alt.fa\rOpening chr19_GL949753v2_alt.fa\rOpening chr19_KI270865v1_alt.fa\rOpening chr19_KI270866v1_alt.fa\rOpening chr19_KI270867v1_alt.fa\rOpening chr19_KI270868v1_alt.fa"
     ]
    },
    {
     "name": "stdout",
     "output_type": "stream",
     "text": [
      "\rOpening chr19_KI270882v1_alt.fa\rOpening chr19_KI270883v1_alt.fa\rOpening chr19_KI270884v1_alt.fa\rOpening chr19_KI270885v1_alt.fa\rOpening chr19_KI270886v1_alt.fa\rOpening chr19_KI270887v1_alt.fa\rOpening chr19_KI270888v1_alt.fa\rOpening chr19_KI270889v1_alt.fa\rOpening chr19_KI270890v1_alt.fa"
     ]
    },
    {
     "name": "stdout",
     "output_type": "stream",
     "text": [
      "\rOpening chr19_KI270891v1_alt.fa\rOpening chr19_KI270914v1_alt.fa\rOpening chr19_KI270915v1_alt.fa\rOpening chr19_KI270916v1_alt.fa\rOpening chr19_KI270917v1_alt.fa"
     ]
    },
    {
     "name": "stdout",
     "output_type": "stream",
     "text": [
      "\rOpening chr19_KI270918v1_alt.fa\rOpening chr19_KI270919v1_alt.fa\rOpening chr19_KI270920v1_alt.fa\rOpening chr19_KI270921v1_alt.fa\rOpening chr19_KI270922v1_alt.fa\rOpening chr19_KI270923v1_alt.fa\rOpening chr19_KI270929v1_alt.fa\rOpening chr19_KI270930v1_alt.fa"
     ]
    },
    {
     "name": "stdout",
     "output_type": "stream",
     "text": [
      "\rOpening chr19_KI270931v1_alt.fa\rOpening chr19_KI270932v1_alt.fa\rOpening chr19_KI270933v1_alt.fa\rOpening chr19_KI270938v1_alt.fa\rOpening chr20_GL383577v2_alt.fa"
     ]
    },
    {
     "name": "stdout",
     "output_type": "stream",
     "text": [
      "\rOpening chr20_KI270869v1_alt.fa\rOpening chr20_KI270870v1_alt.fa\rOpening chr20_KI270871v1_alt.fa\rOpening chr21_GL383578v2_alt.fa\rOpening chr21_GL383579v2_alt.fa\rOpening chr21_GL383580v2_alt.fa\rOpening chr21_GL383581v2_alt.fa\rOpening chr21_KI270872v1_alt.fa\rOpening chr21_KI270873v1_alt.fa"
     ]
    },
    {
     "name": "stdout",
     "output_type": "stream",
     "text": [
      "\rOpening chr21_KI270874v1_alt.fa\rOpening chr22_GL383582v2_alt.fa\rOpening chr22_GL383583v2_alt.fa\rOpening chr22_KB663609v1_alt.fa\rOpening chr22_KI270731v1_random.fa\rOpening chr22_KI270732v1_random.fa\rOpening chr22_KI270733v1_random.fa\rOpening chr22_KI270734v1_random.fa"
     ]
    },
    {
     "name": "stdout",
     "output_type": "stream",
     "text": [
      "\rOpening chr22_KI270735v1_random.fa\rOpening chr22_KI270736v1_random.fa\rOpening chr22_KI270737v1_random.fa\rOpening chr22_KI270738v1_random.fa\rOpening chr22_KI270739v1_random.fa\rOpening chr22_KI270875v1_alt.fa\rOpening chr22_KI270876v1_alt.fa\rOpening chr22_KI270877v1_alt.fa"
     ]
    },
    {
     "name": "stdout",
     "output_type": "stream",
     "text": [
      "\rOpening chr22_KI270878v1_alt.fa\rOpening chr22_KI270879v1_alt.fa\rOpening chr22_KI270928v1_alt.fa\rOpening chrUn_GL000195v1.fa\rOpening chrUn_GL000213v1.fa\rOpening chrUn_GL000214v1.fa\rOpening chrUn_GL000216v2.fa\rOpening chrUn_GL000218v1.fa"
     ]
    },
    {
     "name": "stdout",
     "output_type": "stream",
     "text": [
      "\rOpening chrUn_GL000219v1.fa\rOpening chrUn_GL000220v1.fa\rOpening chrUn_GL000224v1.fa\rOpening chrUn_GL000226v1.fa\rOpening chrUn_KI270302v1.fa\rOpening chrUn_KI270303v1.fa\rOpening chrUn_KI270304v1.fa\rOpening chrUn_KI270305v1.fa\rOpening chrUn_KI270310v1.fa\rOpening chrUn_KI270311v1.fa\rOpening chrUn_KI270312v1.fa\rOpening chrUn_KI270315v1.fa\rOpening chrUn_KI270316v1.fa"
     ]
    },
    {
     "name": "stdout",
     "output_type": "stream",
     "text": [
      "\rOpening chrUn_KI270317v1.fa\rOpening chrUn_KI270320v1.fa\rOpening chrUn_KI270322v1.fa\rOpening chrUn_KI270329v1.fa\rOpening chrUn_KI270330v1.fa\rOpening chrUn_KI270333v1.fa\rOpening chrUn_KI270334v1.fa\rOpening chrUn_KI270335v1.fa\rOpening chrUn_KI270336v1.fa\rOpening chrUn_KI270337v1.fa\rOpening chrUn_KI270338v1.fa\rOpening chrUn_KI270340v1.fa\rOpening chrUn_KI270362v1.fa\rOpening chrUn_KI270363v1.fa\rOpening chrUn_KI270364v1.fa\rOpening chrUn_KI270366v1.fa\rOpening chrUn_KI270371v1.fa\rOpening chrUn_KI270372v1.fa"
     ]
    },
    {
     "name": "stdout",
     "output_type": "stream",
     "text": [
      "\rOpening chrUn_KI270373v1.fa\rOpening chrUn_KI270374v1.fa\rOpening chrUn_KI270375v1.fa\rOpening chrUn_KI270376v1.fa\rOpening chrUn_KI270378v1.fa\rOpening chrUn_KI270379v1.fa\rOpening chrUn_KI270381v1.fa\rOpening chrUn_KI270382v1.fa\rOpening chrUn_KI270383v1.fa\rOpening chrUn_KI270384v1.fa\rOpening chrUn_KI270385v1.fa\rOpening chrUn_KI270386v1.fa\rOpening chrUn_KI270387v1.fa\rOpening chrUn_KI270388v1.fa\rOpening chrUn_KI270389v1.fa\rOpening chrUn_KI270390v1.fa\rOpening chrUn_KI270391v1.fa\rOpening chrUn_KI270392v1.fa\rOpening chrUn_KI270393v1.fa\rOpening chrUn_KI270394v1.fa\rOpening chrUn_KI270395v1.fa\rOpening chrUn_KI270396v1.fa\rOpening chrUn_KI270411v1.fa\rOpening chrUn_KI270412v1.fa\rOpening chrUn_KI270414v1.fa\rOpening chrUn_KI270417v1.fa\rOpening chrUn_KI270418v1.fa\rOpening chrUn_KI270419v1.fa\rOpening chrUn_KI270420v1.fa\rOpening chrUn_KI270422v1.fa\rOpening chrUn_KI270423v1.fa"
     ]
    },
    {
     "name": "stdout",
     "output_type": "stream",
     "text": [
      "\rOpening chrUn_KI270424v1.fa\rOpening chrUn_KI270425v1.fa\rOpening chrUn_KI270429v1.fa\rOpening chrUn_KI270435v1.fa\rOpening chrUn_KI270438v1.fa\rOpening chrUn_KI270442v1.fa\rOpening chrUn_KI270448v1.fa\rOpening chrUn_KI270465v1.fa\rOpening chrUn_KI270466v1.fa\rOpening chrUn_KI270467v1.fa\rOpening chrUn_KI270468v1.fa\rOpening chrUn_KI270507v1.fa\rOpening chrUn_KI270508v1.fa\rOpening chrUn_KI270509v1.fa"
     ]
    },
    {
     "name": "stdout",
     "output_type": "stream",
     "text": [
      "\rOpening chrUn_KI270510v1.fa\rOpening chrUn_KI270511v1.fa\rOpening chrUn_KI270512v1.fa\rOpening chrUn_KI270515v1.fa\rOpening chrUn_KI270516v1.fa\rOpening chrUn_KI270517v1.fa\rOpening chrUn_KI270518v1.fa\rOpening chrUn_KI270519v1.fa\rOpening chrUn_KI270521v1.fa"
     ]
    },
    {
     "name": "stdout",
     "output_type": "stream",
     "text": [
      "\rOpening chrUn_KI270522v1.fa\rOpening chrUn_KI270528v1.fa\rOpening chrUn_KI270529v1.fa\rOpening chrUn_KI270530v1.fa\rOpening chrUn_KI270538v1.fa\rOpening chrUn_KI270539v1.fa\rOpening chrUn_KI270544v1.fa\rOpening chrUn_KI270548v1.fa\rOpening chrUn_KI270579v1.fa\rOpening chrUn_KI270580v1.fa\rOpening chrUn_KI270581v1.fa\rOpening chrUn_KI270582v1.fa"
     ]
    },
    {
     "name": "stdout",
     "output_type": "stream",
     "text": [
      "\rOpening chrUn_KI270583v1.fa\rOpening chrUn_KI270584v1.fa\rOpening chrUn_KI270587v1.fa\rOpening chrUn_KI270588v1.fa\rOpening chrUn_KI270589v1.fa\rOpening chrUn_KI270590v1.fa\rOpening chrUn_KI270591v1.fa\rOpening chrUn_KI270593v1.fa\rOpening chrUn_KI270741v1.fa\rOpening chrUn_KI270742v1.fa\rOpening chrUn_KI270743v1.fa\rOpening chrUn_KI270744v1.fa"
     ]
    },
    {
     "name": "stdout",
     "output_type": "stream",
     "text": [
      "\rOpening chrUn_KI270745v1.fa\rOpening chrUn_KI270746v1.fa\rOpening chrUn_KI270747v1.fa\rOpening chrUn_KI270748v1.fa\rOpening chrUn_KI270749v1.fa\rOpening chrUn_KI270750v1.fa\rOpening chrUn_KI270751v1.fa\rOpening chrUn_KI270752v1.fa\rOpening chrUn_KI270753v1.fa\rOpening chrUn_KI270754v1.fa\rOpening chrUn_KI270755v1.fa\rOpening chrUn_KI270756v1.fa"
     ]
    },
    {
     "name": "stdout",
     "output_type": "stream",
     "text": [
      "\rOpening chrUn_KI270757v1.fa\rOpening chrX_KI270880v1_alt.fa\rOpening chrX_KI270881v1_alt.fa\rOpening chrX_KI270913v1_alt.fa\rOpening chrY_KI270740v1_random.faDone concatting files\n"
     ]
    }
   ],
   "source": [
    "with open('Human v38 All Variants.fa', 'w') as out:\n",
    "    for filename in core_chromosomes + extra_contigs:\n",
    "        print('Opening', filename)\n",
    "        with open(filename, 'r') as infile:\n",
    "            for line in infile.readlines():\n",
    "                out.writelines([line])\n",
    "print('Done concatting files')"
   ]
  },
  {
   "cell_type": "code",
   "execution_count": 29,
   "metadata": {},
   "outputs": [
    {
     "data": {
      "text/plain": [
       "\"seg_count = 0\\nwith open('human_g1k_v37.fasta', 'r') as input:\\n    with open('bigTest', 'w') as out:\\n        for line in input.readlines():\\n            if line and line[0] == '>':\\n                seg_count += 1\\n                if seg_count > 2: \\n                    break\\n            out.writelines([line])\""
      ]
     },
     "execution_count": 29,
     "metadata": {},
     "output_type": "execute_result"
    }
   ],
   "source": [
    "\"\"\"seg_count = 0\n",
    "with open('human_g1k_v37.fasta', 'r') as input:\n",
    "    with open('bigTest', 'w') as out:\n",
    "        for line in input.readlines():\n",
    "            if line and line[0] == '>':\n",
    "                seg_count += 1\n",
    "                if seg_count > 2: \n",
    "                    break\n",
    "            out.writelines([line])\"\"\""
   ]
  },
  {
   "cell_type": "code",
   "execution_count": null,
   "metadata": {},
   "outputs": [],
   "source": [
    ""
   ]
  }
 ],
 "metadata": {
  "kernelspec": {
   "display_name": "Python 2",
   "language": "python",
   "name": "python2"
  },
  "language_info": {
   "codemirror_mode": {
    "name": "ipython",
    "version": 2.0
   },
   "file_extension": ".py",
   "mimetype": "text/x-python",
   "name": "python",
   "nbconvert_exporter": "python",
   "pygments_lexer": "ipython2",
   "version": "2.7.6"
  }
 },
 "nbformat": 4,
 "nbformat_minor": 0
}