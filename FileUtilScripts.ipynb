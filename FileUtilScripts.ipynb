{
 "cells": [
  {
   "cell_type": "markdown",
   "metadata": {
    "collapsed": true
   },
   "source": [
    "Concatenates all fasta files in a folder into a single fasta file.\n",
    "There's special code to compensate for alphabetical sorting between 1, 2, ... 10, ... 20."
   ]
  },
  {
   "cell_type": "code",
   "execution_count": 1,
   "metadata": {},
   "outputs": [],
   "source": [
    "import os\n",
    "import sys\n",
    "from glob import glob\n",
    "from sys import path"
   ]
  },
  {
   "cell_type": "code",
   "execution_count": 36,
   "metadata": {},
   "outputs": [
    {
     "name": "stdout",
     "output_type": "stream",
     "text": [
      "D:\\Genomes\\Chimpanzee panTro\\panTro3 May 2016\nD:\\Genomes\\Human\\Human All Alternates hg38\n"
     ]
    }
   ],
   "source": [
    "print(os.getcwd())\n",
    "os.chdir(\"D:\\Genomes\\Human\\Human All Alternates hg38\")\n",
    "# os.chdir(\"D:\\Genomes\\Chimpanzee panTro\\panTro3 May 2016\")\n",
    "print(os.getcwd())"
   ]
  },
  {
   "cell_type": "code",
   "execution_count": 35,
   "metadata": {},
   "outputs": [
    {
     "data": {
      "text/plain": [
       "['Chr1 - Chimpanzee - NC_006468.4.fasta',\n 'Chr10 - Chimpanzee - NC_006477.4',\n 'Chr11 - Chimpanzee - NC_006478.4',\n 'Chr12 - Chimpanzee - NC_006479.4',\n 'Chr13 - Chimpanzee - NC_006480.4',\n 'Chr14 - Chimpanzee - NC_006481.4',\n 'Chr15 - Chimpanzee - NC_006482.4',\n 'Chr16 - Chimpanzee - NC_006483.4',\n 'Chr17 - Chimpanzee - NC_006484.4',\n 'Chr18 - Chimpanzee - NC_006485.4',\n 'Chr19 - Chimpanzee - NC_006486.4',\n 'Chr2 - Chimpanzee - adjoined.fasta',\n 'Chr2 - Chimpanzee - Combined.fasta',\n 'Chr20 - Chimpanzee - NC_006487.4',\n 'Chr21 - Chimpanzee - NC_006488.4',\n 'Chr22 - Chimpanzee - NC_006489.4',\n 'Chr2A - Chimpanzee - CM000315.3.fasta',\n 'Chr2B - Chimpanzee - NC_006470.4.fasta',\n 'Chr3 - Chimpanzee - NC_006490.4.fasta',\n 'Chr4 - Chimpanzee - NC_006471.4.fasta',\n 'Chr5 - Chimpanzee - NC_006472.4.fasta',\n 'Chr6 - Chimpanzee - NC_006473.4.fasta',\n 'Chr7 - Chimpanzee - NC_006474.4.fasta',\n 'Chr8 - Chimpanzee - NC_006475.4.fasta',\n 'Chr9 - Chimpanzee - NC_006476.4.fasta',\n 'ChrMT - Chimpanzee - NC_001643.1.fasta',\n 'ChrX - Chimpanzee - NC_006491.4',\n 'ChrY - Chimpanzee - NC_006492.4']"
      ]
     },
     "execution_count": 35,
     "metadata": {},
     "output_type": "execute_result"
    }
   ],
   "source": [
    "glob('*')"
   ]
  },
  {
   "cell_type": "markdown",
   "metadata": {},
   "source": [
    "### Human sorting logic for single digit numbers"
   ]
  },
  {
   "cell_type": "code",
   "execution_count": 4,
   "metadata": {},
   "outputs": [
    {
     "name": "stdout",
     "output_type": "stream",
     "text": [
      "['elm0', 'elm1', 'Elm2', 'elm9', 'elm10', 'Elm11', 'Elm12', 'elm13']\n"
     ]
    }
   ],
   "source": [
    "from natsort import natsorted, ns\n",
    "x = ['Elm11', 'Elm12', 'Elm2', 'elm0', 'elm1', 'elm10', 'elm13', 'elm9']\n",
    "print(natsorted(x, alg=ns.IGNORECASE))  # or alg=ns.IC\n",
    "# ['elm0', 'elm1', 'Elm2', 'elm9', 'elm10', 'Elm11', 'Elm12', 'elm13']"
   ]
  },
  {
   "cell_type": "code",
   "execution_count": 28,
   "metadata": {},
   "outputs": [
    {
     "name": "stdout",
     "output_type": "stream",
     "text": [
      "['chr1.fa', 'chr2.fa', 'chr3.fa', 'chr4.fa', 'chr5.fa', 'chr6.fa', 'chr7.fa', 'chr8.fa', 'chr9.fa', 'chr10.fa', 'chr11.fa', 'chr12.fa', 'chr13.fa', 'chr14.fa', 'chr15.fa', 'chr16.fa', 'chr17.fa', 'chr18.fa', 'chr19.fa', 'chr20.fa', 'chr21.fa', 'chr22.fa', 'chrM.fa', 'chrX.fa', 'chrY.fa']\n"
     ]
    }
   ],
   "source": [
    "core_chromosomes = natsorted([f for f in glob('*') if '_' not in f], alg=ns.IGNORECASE)\n",
    "#core_chromosomes = ['chr1.fa', 'chr2.fa', 'chr3.fa', 'chr4.fa', 'chr5.fa', 'chr6.fa', 'chr7.fa', 'chr8.fa', 'chr9.fa', 'chr10.fa', 'chr11.fa', 'chr12.fa', 'chr13.fa', 'chr14.fa', 'chr15.fa', 'chr16.fa', 'chr17.fa', 'chr18.fa', 'chr19.fa', 'chr20.fa', 'chr21.fa', 'chr22.fa', 'chrX.fa', 'chrY.fa', 'chrM.fa']\n",
    "print(core_chromosomes)"
   ]
  },
  {
   "cell_type": "code",
   "execution_count": 33,
   "metadata": {},
   "outputs": [
    {
     "name": "stdout",
     "output_type": "stream",
     "text": [
      "['chr1_GL383518v1_alt.fa', 'chr1_GL383519v1_alt.fa', 'chr1_GL383520v2_alt.fa', 'chr1_KI270706v1_random.fa', 'chr1_KI270707v1_random.fa', 'chr1_KI270708v1_random.fa', 'chr1_KI270709v1_random.fa', 'chr1_KI270710v1_random.fa', 'chr1_KI270711v1_random.fa', 'chr1_KI270712v1_random.fa', 'chr1_KI270713v1_random.fa', 'chr1_KI270714v1_random.fa', 'chr1_KI270759v1_alt.fa', 'chr1_KI270760v1_alt.fa', 'chr1_KI270761v1_alt.fa', 'chr1_KI270762v1_alt.fa', 'chr1_KI270763v1_alt.fa', 'chr1_KI270764v1_alt.fa', 'chr1_KI270765v1_alt.fa', 'chr1_KI270766v1_alt.fa', 'chr1_KI270892v1_alt.fa', 'chr2_GL383521v1_alt.fa', 'chr2_GL383522v1_alt.fa', 'chr2_GL582966v2_alt.fa', 'chr2_KI270715v1_random.fa', 'chr2_KI270716v1_random.fa', 'chr2_KI270767v1_alt.fa', 'chr2_KI270768v1_alt.fa', 'chr2_KI270769v1_alt.fa', 'chr2_KI270770v1_alt.fa', 'chr2_KI270771v1_alt.fa', 'chr2_KI270772v1_alt.fa', 'chr2_KI270773v1_alt.fa', 'chr2_KI270774v1_alt.fa', 'chr2_KI270775v1_alt.fa', 'chr2_KI270776v1_alt.fa', 'chr2_KI270893v1_alt.fa', 'chr2_KI270894v1_alt.fa', 'chr3_GL000221v1_random.fa', 'chr3_GL383526v1_alt.fa', 'chr3_JH636055v2_alt.fa', 'chr3_KI270777v1_alt.fa', 'chr3_KI270778v1_alt.fa', 'chr3_KI270779v1_alt.fa', 'chr3_KI270780v1_alt.fa', 'chr3_KI270781v1_alt.fa', 'chr3_KI270782v1_alt.fa', 'chr3_KI270783v1_alt.fa', 'chr3_KI270784v1_alt.fa', 'chr3_KI270895v1_alt.fa', 'chr3_KI270924v1_alt.fa', 'chr3_KI270934v1_alt.fa', 'chr3_KI270935v1_alt.fa', 'chr3_KI270936v1_alt.fa', 'chr3_KI270937v1_alt.fa', 'chr4_GL000008v2_random.fa', 'chr4_GL000257v2_alt.fa', 'chr4_GL383527v1_alt.fa', 'chr4_GL383528v1_alt.fa', 'chr4_KI270785v1_alt.fa', 'chr4_KI270786v1_alt.fa', 'chr4_KI270787v1_alt.fa', 'chr4_KI270788v1_alt.fa', 'chr4_KI270789v1_alt.fa', 'chr4_KI270790v1_alt.fa', 'chr4_KI270896v1_alt.fa', 'chr4_KI270925v1_alt.fa', 'chr5_GL000208v1_random.fa', 'chr5_GL339449v2_alt.fa', 'chr5_GL383530v1_alt.fa', 'chr5_GL383531v1_alt.fa', 'chr5_GL383532v1_alt.fa', 'chr5_GL949742v1_alt.fa', 'chr5_KI270791v1_alt.fa', 'chr5_KI270792v1_alt.fa', 'chr5_KI270793v1_alt.fa', 'chr5_KI270794v1_alt.fa', 'chr5_KI270795v1_alt.fa', 'chr5_KI270796v1_alt.fa', 'chr5_KI270897v1_alt.fa', 'chr5_KI270898v1_alt.fa', 'chr6_GL000250v2_alt.fa', 'chr6_GL000251v2_alt.fa', 'chr6_GL000252v2_alt.fa', 'chr6_GL000253v2_alt.fa', 'chr6_GL000254v2_alt.fa', 'chr6_GL000255v2_alt.fa', 'chr6_GL000256v2_alt.fa', 'chr6_GL383533v1_alt.fa', 'chr6_KB021644v2_alt.fa', 'chr6_KI270758v1_alt.fa', 'chr6_KI270797v1_alt.fa', 'chr6_KI270798v1_alt.fa', 'chr6_KI270799v1_alt.fa', 'chr6_KI270800v1_alt.fa', 'chr6_KI270801v1_alt.fa', 'chr6_KI270802v1_alt.fa', 'chr7_GL383534v2_alt.fa', 'chr7_KI270803v1_alt.fa', 'chr7_KI270804v1_alt.fa']\n"
     ]
    }
   ],
   "source": [
    "extra_contigs = natsorted([f for f in glob('*') if '_' in f], alg=ns.IGNORECASE)\n",
    "print(extra_contigs[:100])"
   ]
  },
  {
   "cell_type": "markdown",
   "metadata": {},
   "source": [
    "with open('Human v38 All Variants.fa', 'w') as out:\n",
    "    for filename in core_chromosomes + extra_contigs:\n",
    "        print('Opening', filename)\n",
    "        with open(filename, 'r') as infile:\n",
    "            for line in infile.readlines():\n",
    "                out.writelines([line])\n",
    "print('Done concatting files')"
   ]
  },
  {
   "cell_type": "code",
   "execution_count": null,
   "metadata": {},
   "outputs": [],
   "source": [
    "seg_count = 0\n",
    "with open('Human v38 All Variants.fa', 'r') as input:\n",
    "    # with open('bigTest', 'w') as out:\n",
    "        for line in input.readlines():\n",
    "            if line and line[0] == '>':\n",
    "                print(line)\n",
    "                # if seg_count > 2: \n",
    "                #     break\n",
    "            # out.writelines([line])"
   ]
  },
  {
   "cell_type": "code",
   "execution_count": null,
   "metadata": {},
   "outputs": [],
   "source": [
    ""
   ]
  }
 ],
 "metadata": {
  "kernelspec": {
   "display_name": "Python 2",
   "language": "python",
   "name": "python2"
  },
  "language_info": {
   "codemirror_mode": {
    "name": "ipython",
    "version": 2.0
   },
   "file_extension": ".py",
   "mimetype": "text/x-python",
   "name": "python",
   "nbconvert_exporter": "python",
   "pygments_lexer": "ipython2",
   "version": "2.7.6"
  }
 },
 "nbformat": 4,
 "nbformat_minor": 0
}