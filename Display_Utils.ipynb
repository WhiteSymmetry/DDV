{
 "cells": [
  {
   "cell_type": "code",
   "execution_count": 1,
   "metadata": {
    "collapsed": false
   },
   "outputs": [],
   "source": [
    "%matplotlib inline\n",
    "# from pylab import *\n",
    "# from math import ceil\n",
    "# from PIL import Image"
   ]
  },
  {
   "cell_type": "code",
   "execution_count": 51,
   "metadata": {
    "collapsed": true
   },
   "outputs": [],
   "source": [
    "from ipywidgets import interact, interactive, fixed, widgets\n",
    "from ipywidgets.widgets import IntSlider\n",
    "import matplotlib.pyplot as plt\n",
    "from matplotlib.pyplot import imshow\n",
    "from IPython.display import clear_output, display, HTML\n",
    "from PIL import Image\n",
    "from matplotlib import cm"
   ]
  },
  {
   "cell_type": "code",
   "execution_count": 190,
   "metadata": {
    "collapsed": false
   },
   "outputs": [],
   "source": [
    "class Pic():\n",
    "    \n",
    "    def __init__(self, data, width=None, height=None, start=None, show_plot=True):\n",
    "        self.width = width if width else int(sqrt(len(data))) #TODO: 2D arrays\n",
    "        self.height = height if height else int(ceil(len(data) / self.width))\n",
    "        self.start = start if start else 0\n",
    "        self.data = data\n",
    "        self.show_plot = show_plot\n",
    "        \n",
    "    def set_width(self, width):\n",
    "        self.width = width\n",
    "        self.height = int(ceil(len(self.data) / width))\n",
    "        #you could clip the data...  self.data = self.data[:width*self.height]\n",
    "        \n",
    "    def show(self):\n",
    "        im = Image.new('L', (self.width, self.height))\n",
    "        im.putdata(self.data[self.start:])\n",
    "        if self.show_plot:\n",
    "            imshow(im ) # cmap=cm.Greys_r, interpolation='nearest'\n",
    "        return im\n",
    "        \n",
    "    def __repr__(self):\n",
    "        self.show()  #this actually get the graph out there\n",
    "        return str((self.width, self.height))\n",
    "    \n",
    "    def update(self, sequence='', width=None, start=None): # for use with interact(update, ...)\n",
    "        if sequence: self.data = sequence\n",
    "        if width: self.set_width(width)\n",
    "        if start or start == 0: self.start = start  \n",
    "        if self.show_plot:\n",
    "            self.show() #display to screen\n",
    "        \n",
    "    def gui(self):\n",
    "        length = len(self.data)\n",
    "        return interactive(self.update, \n",
    "                           sequence=self.data, \n",
    "                           width=IntSlider(min=1, max=length//2, value=self.width), \n",
    "                           start=IntSlider(min=0, max=length,    value=self.start))"
   ]
  },
  {
   "cell_type": "code",
   "execution_count": 191,
   "metadata": {
    "collapsed": true
   },
   "outputs": [],
   "source": [
    "from collections import defaultdict\n",
    "from math import sqrt, ceil\n",
    "\n",
    "class NucleotideDisplay(Pic):\n",
    "    color_map = defaultdict(lambda: (255, 255, 255), A=(255, 0, 0), G=(0,255,0), C=(0, 0, 255), T=(250, 240, 114)) #color RGB\n",
    "    def __init__(self, data, show_plot=True):\n",
    "        width = int(sqrt(len(data)))\n",
    "        super().__init__(data, width=width, show_plot=show_plot)\n",
    "        \n",
    "    def show(self):\n",
    "        im = Image.new('RGB', (self.width, self.height), \"white\")\n",
    "        im.putdata(self.nucleotide_to_color(self.data[self.start:]))\n",
    "        if self.show_plot:\n",
    "            imshow(im, interpolation='nearest')\n",
    "        return im\n",
    "        \n",
    "    def nucleotide_to_color(self, sequence):\n",
    "        #Pad with extra gray pixels?\n",
    "        return [self.color_map[nucleotide] for nucleotide in sequence]"
   ]
  },
  {
   "cell_type": "code",
   "execution_count": 192,
   "metadata": {
    "collapsed": false
   },
   "outputs": [],
   "source": [
    "nd = NucleotideDisplay(human_sample)"
   ]
  },
  {
   "cell_type": "code",
   "execution_count": 193,
   "metadata": {
    "collapsed": false
   },
   "outputs": [
    {
     "data": {
      "image/png": "[encoded data removed]",
      "text/plain": [
       "<matplotlib.figure.Figure at 0x804cf98>"
      ]
     },
     "metadata": {},
     "output_type": "display_data"
    }
   ],
   "source": [
    "nd.gui()"
   ]
  },
  {
   "cell_type": "code",
   "execution_count": null,
   "metadata": {
    "collapsed": true
   },
   "outputs": [],
   "source": []
  },
  {
   "cell_type": "code",
   "execution_count": 194,
   "metadata": {
    "collapsed": false
   },
   "outputs": [],
   "source": [
    "\"\"\"From tonysyu.github.io\"\"\"\n",
    "def imshow_pair(image_pair, titles=('', ''), figsize=(20, 5), **kwargs):\n",
    "    from IPython.display import clear_output\n",
    "#     clear_output(True)\n",
    "    fig, axes = plt.subplots(ncols=len(image_pair), figsize=figsize)\n",
    "    for ax, img, label in zip(axes.ravel(), image_pair, titles):\n",
    "        ax.imshow(img, interpolation='nearest', **kwargs)\n",
    "        ax.set_title(label)\n",
    "        \n",
    "#     plt.close(fig)\n",
    "        \n",
    "# def interactive_convolution_demo(image, kernel, **kwargs):\n",
    "#     stepper = make_convolution_step_function(image, kernel, **kwargs)\n",
    "#     start_slider = IntSliderWidget(min=0, max=100, value=0)\n",
    "#     widgets.interact(stepper, i_step=start_slider)"
   ]
  },
  {
   "cell_type": "code",
   "execution_count": 195,
   "metadata": {
    "collapsed": true
   },
   "outputs": [],
   "source": [
    "def print_only_unique(chimp, human):\n",
    "    from array import array\n",
    "    ref_array = array('u', human)\n",
    "    que_array = array('u', chimp)\n",
    "    shortest_sequence = min(len(chimp), len(human))\n",
    "    for i in range(shortest_sequence):\n",
    "        # only overlapping section\n",
    "        if human[i] == chimp[i]:\n",
    "            ref_array[i] = 'X'\n",
    "            que_array[i] = 'X'\n",
    "    return ''.join(que_array), ''.join(ref_array)"
   ]
  },
  {
   "cell_type": "code",
   "execution_count": 200,
   "metadata": {
    "collapsed": true
   },
   "outputs": [],
   "source": [
    "class AlignmentDisplay():\n",
    "    def __init__(self, A, B):\n",
    "        self.start = 0\n",
    "        self.A = A\n",
    "        self.B = B\n",
    "        self.chimp = NucleotideDisplay(A, show_plot=False)\n",
    "        self.human = NucleotideDisplay(B, show_plot=False)\n",
    "        \n",
    "    def update(self, start=None):\n",
    "        c_start = max(0, -start)\n",
    "        h_start = max(0, start)\n",
    "        self.human.update(start=h_start)\n",
    "        self.chimp.update(start=c_start)\n",
    "        c1 = self.chimp.show()\n",
    "        h1 = self.human.show()\n",
    "        chimp_unique, human_unique = print_only_unique(self.A[c_start:], self.B[h_start:])\n",
    "        chimp_unique = NucleotideDisplay(chimp_unique, show_plot=False).show()\n",
    "        human_unique = NucleotideDisplay(human_unique, show_plot=False).show()\n",
    "        imshow_pair((c1, chimp_unique, human_unique, h1), ('Chimp', 'Chimp Unique', 'Human Unique', 'Human'))\n",
    "#         human_unique = NucleotideDisplay()\n",
    "        \n",
    "    def gui(self):\n",
    "        length = len(human_sample)\n",
    "        return interactive(self.update, \n",
    "                           start=IntSlider(min=-400, max=400,    value=self.start))"
   ]
  },
  {
   "cell_type": "code",
   "execution_count": 201,
   "metadata": {
    "collapsed": false,
    "scrolled": true
   },
   "outputs": [
    {
     "data": {
      "image/png": "[encoded data removed]",
      "text/plain": [
       "<matplotlib.figure.Figure at 0xa175ba8>"
      ]
     },
     "metadata": {},
     "output_type": "display_data"
    }
   ],
   "source": [
    "align = AlignmentDisplay(aligned_chimp, aligned_human)\n",
    "# for i in range(-5, 5):\n",
    "#     align.update(i)\n",
    "align.gui()"
   ]
  },
  {
   "cell_type": "code",
   "execution_count": 118,
   "metadata": {
    "collapsed": false
   },
   "outputs": [
    {
     "name": "stdout",
     "output_type": "stream",
     "text": [
      "75 0.6810768323835724\n",
      "157 0.6803890744743565\n",
      "158 0.5755551188838671\n",
      "159 0.5505993318923168\n",
      "160 0.6023776773432894\n",
      "161 0.6829436038514443\n",
      "163 0.5649439968559639\n",
      "169 0.6846138730595401\n",
      "186 0.686382393397524\n",
      "194 0.6826488504617804\n",
      "197 0.6857928866181962\n",
      "199 0.6857928866181962\n"
     ]
    },
    {
     "data": {
      "text/plain": [
       "(400, 20)"
      ]
     },
     "execution_count": 118,
     "metadata": {},
     "output_type": "execute_result"
    },
    {
     "data": {
      "image/png": "[encoded data removed]",
      "text/plain": [
       "<matplotlib.figure.Figure at 0x8645390>"
      ]
     },
     "metadata": {},
     "output_type": "display_data"
    }
   ],
   "source": [
    "def count_differences(A, B):\n",
    "    count = 0\n",
    "    for i in range(min(len(A), len(B))):\n",
    "        if A[i].upper() != B[i].upper():\n",
    "            count += 1\n",
    "    return count\n",
    "\n",
    "start = 200\n",
    "scores = []\n",
    "for offset in range(-start, start):\n",
    "    score = count_differences(human_sample[start + offset:], chimp_sample[start:])\n",
    "    if score < 7000:\n",
    "        print(offset, score/len(human_sample))\n",
    "    scores.append(score/len(human_sample))\n",
    "Pic(scores, width=len(scores), height=20)\n"
   ]
  },
  {
   "cell_type": "code",
   "execution_count": 92,
   "metadata": {
    "collapsed": false
   },
   "outputs": [
    {
     "data": {
      "text/plain": [
       "(10, 10)"
      ]
     },
     "execution_count": 92,
     "metadata": {},
     "output_type": "execute_result"
    },
    {
     "data": {
      "image/png": "[encoded data removed]",
      "text/plain": [
       "<matplotlib.figure.Figure at 0x1459a20>"
      ]
     },
     "metadata": {},
     "output_type": "display_data"
    }
   ],
   "source": [
    "Pic([x/10 for x in range(100)])"
   ]
  },
  {
   "cell_type": "code",
   "execution_count": 108,
   "metadata": {
    "collapsed": false
   },
   "outputs": [
    {
     "data": {
      "text/plain": [
       "(0.95386390125050269, 0.95386390125050269, 0.95386390125050269, 1.0)"
      ]
     },
     "execution_count": 108,
     "metadata": {},
     "output_type": "execute_result"
    }
   ],
   "source": [
    "cm.Greys_r(.9)"
   ]
  },
  {
   "cell_type": "code",
   "execution_count": 8,
   "metadata": {
    "collapsed": false
   },
   "outputs": [
    {
     "data": {
      "text/plain": [
       "['Accordion',\n",
       " 'BoundedFloatText',\n",
       " 'BoundedIntText',\n",
       " 'Box',\n",
       " 'Button',\n",
       " 'CallbackDispatcher',\n",
       " 'Checkbox',\n",
       " 'Color',\n",
       " 'ColorPicker',\n",
       " 'Controller',\n",
       " 'DOMWidget',\n",
       " 'Dropdown',\n",
       " 'EventfulDict',\n",
       " 'EventfulList',\n",
       " 'FlexBox',\n",
       " 'FloatProgress',\n",
       " 'FloatRangeSlider',\n",
       " 'FloatSlider',\n",
       " 'FloatText',\n",
       " 'HBox',\n",
       " 'HTML',\n",
       " 'Image',\n",
       " 'IntProgress',\n",
       " 'IntRangeSlider',\n",
       " 'IntSlider',\n",
       " 'IntText',\n",
       " 'Label',\n",
       " 'Latex',\n",
       " 'Layout',\n",
       " 'Output',\n",
       " 'PlaceProxy',\n",
       " 'Proxy',\n",
       " 'RadioButtons',\n",
       " 'Select',\n",
       " 'SelectMultiple',\n",
       " 'SelectionSlider',\n",
       " 'Tab',\n",
       " 'Text',\n",
       " 'Textarea',\n",
       " 'ToggleButton',\n",
       " 'ToggleButtons',\n",
       " 'VBox',\n",
       " 'Valid',\n",
       " 'Widget',\n",
       " '__builtins__',\n",
       " '__cached__',\n",
       " '__doc__',\n",
       " '__file__',\n",
       " '__loader__',\n",
       " '__name__',\n",
       " '__package__',\n",
       " '__path__',\n",
       " '__spec__',\n",
       " 'domwidget',\n",
       " 'eventful',\n",
       " 'fixed',\n",
       " 'handle_version_comm_opened',\n",
       " 'interact',\n",
       " 'interact_manual',\n",
       " 'interaction',\n",
       " 'interactive',\n",
       " 'jsdlink',\n",
       " 'jslink',\n",
       " 'register',\n",
       " 'trait_types',\n",
       " 'widget',\n",
       " 'widget_bool',\n",
       " 'widget_box',\n",
       " 'widget_button',\n",
       " 'widget_color',\n",
       " 'widget_controller',\n",
       " 'widget_float',\n",
       " 'widget_image',\n",
       " 'widget_int',\n",
       " 'widget_layout',\n",
       " 'widget_link',\n",
       " 'widget_output',\n",
       " 'widget_selection',\n",
       " 'widget_selectioncontainer',\n",
       " 'widget_serialization',\n",
       " 'widget_string']"
      ]
     },
     "execution_count": 8,
     "metadata": {},
     "output_type": "execute_result"
    }
   ],
   "source": [
    "[widget for widget in dir(widgets)]"
   ]
  },
  {
   "cell_type": "code",
   "execution_count": 6,
   "metadata": {
    "collapsed": true
   },
   "outputs": [],
   "source": [
    "human_sample = \"\"\"ATATAGTAGGTTTTGAAGGAACATACTTCAATAATAAGAGCCATCTACCTATGACAAACTCACAGCCAACATCATACTGAATGGGCAAAAGCTGAAAACA\n",
    "CTCCCCTTCAACATCAGCACAAAACAAAGATGCCCTCTCTCATCACTCCTATTCACCATAGTATTGGAAGTCCTGACCAGGGCAATGAAGCAAGAGAGAA\n",
    "AAAATAAACGTATTGAAATAAGAAGAGAAGAAGTCAAACTATCCCTGTGTGCAGACAACATGATCCTGTATTCAGAAAACCCCCATAGCCTCAGCCCAAA\n",
    "TGCTTCTTCAGCTGATAAGCAATTTCAGCAAAGGCTCAGAATAGAAAATCAATGTGCAAAATCACTTATATTTTTATACACCAACAACAGTTAATTTGAG\n",
    "AGCCAAATCAGAAAGGCAATTTCATTCACAATTGCCACAAAAAATAAAATACCTAGAAATACAGCTATCCAGGGAGCTGAAAGATCTCTACAAGGAGAAC\n",
    "TACAAACCACTGCTCAAAGAAATCAGAGATAACACAAATAAATGAAAATAAAATTCCATGATCACGGAGAGGAAGAATCAATATTGTTAAAATGGCCATA\n",
    "CTGCCCAAAGCAATTTACAGACTCAATGCTATTCCTATTAAACTAACATTGACATTCCTCACAGAACTAGAAAAAACTATTTTAAAAATCATATGGACCT\n",
    "GAAAAAGAGCCCAAATAGCCAGGGTAATCCTAAGCAAAAGAAAAAAGCTGAAAACATCATGCTTCCCAACTTAAAACTATATGACATGACTGCACTCTAG\n",
    "CCTGGGTGACATAGCGAGACTCTGTCTAAAAAAAAAGAAAAAAAGAAAAAAAGAAAAAAACTATATGACATGGCTACAGTAATCAAAACAGCATGGTACT\n",
    "GATGCAAAAACAGACACATAGACAAATGGAAAAAATAGAATACCCAGAAATAAGGTCACACACCTACAAGTACTCGATCTTCAACAATCCTGACAAAAAC\n",
    "AAGGAATAGGAAAAGAAACCCCTATTCAATAAATGGTGCTGGGGTAACTGGCTAGCTATATGCAGAAGATTAAATTTGGAGCCCTTCCTTACACCATACA\n",
    "CAAAAATTAACTCAAGATGGATAAAAACTTAAATGTAAAACCCCAAACTATAAAAACCCTGGAAGGTAACCTAAGCAGTGCCATTCTGGACATTGGAACA\n",
    "AACAAGGATTTCATGATGAAGACACCAAAAGCCATTGCAACAAAGGCAAAAATTCACAAATGAGATTTAATTAAACTAAAGAGCTTCTGTGCAGCAAAGG\n",
    "AAACTATCAACAGAGTAAACAGACAACTTACAGAATGGAAGAAAATTTTTGCAAACTATGCATCTGACAAAGGTCTAATATCCAGTATCTATCAGGAACT\n",
    "TAAATTTATAAAGAAAAGAGCCAAACAATTCCATTAAAATAGGCAAAAATCATGAAGAGACACTTTTCAAAAGAAGACATACATGTGGCCAATGATCATA\n",
    "TGGAAAAAATCTCAACATCACTGATTATTAGAGAAATGCAAATGAAAACTACAATGAGATACCGTCTTATACCAGTCAGAATGGCTATTATTAAAAAGTC\n",
    "AAAAAATTAAAGATGCTGCAGAGGTTGCAGAGAAAAGAATGCTTATACACTGTTGGTGGGAGTGTAAATTATTTCAACCACTGTGGAAAACAGTGTGGTG\n",
    "ATTCCTCAAAGACCTAAAGACAAAAATACCACTTGATCCAGCAATCCTATTACTGGGTATATACCCAAAGTTATATAAATCATTCTATTATAAAGATACA\n",
    "TGCATACATATGTTCTTTCCAGTACTATTCAAAATAGCAAAGACATGAAAGGAATGTAAACACCCATCAATGGTAGACTGGATAAAGAAAATATGGTACA\n",
    "TATACACAATGGAATACTATGCAGTCATAGAAAAGAATGAGGTTATGTTCTTTGCAGGAACATGGATAGAGCTGGAGGCCATTATCCTTAGCAAACGAAT\n",
    "GCAGGGTCAGAAAACCAAATACCACATGTTTTCACTGATAAGTGGGGGCTAAATGATAAGAACACATGGACACATAGAGGGAAACAACACACACTGGGTC\n",
    "TATTGCAGGGTGGAGGGTGGGACAAGGGAGTGGGTCAGCAAAAATAACTAATCGGTACTAGGCTTAATAGCTGGGTGATGAAACAATCTATACAACAAAC\n",
    "CACCATGACACAAGTTTACCTACATAAGAAACCTGTGCATGTACACCTGAACTTAAAATATAAGTTAAAAAGTGAATTATTGGACAGGGCGTGGTGGCTC\n",
    "ACGCTTGTAGTTCCATCACTTTGGGAGGCCAAGGCAGGCAGATCACAAGGTCAGGAGTTCGAGACAAGCCTGACCAACATGGTGAAACCCCATCTCTACT\n",
    "AAAAATACAAAAATTAGCCAGGCATGGTGGTGCATGCCTGTAATCCCAGCTTCTCAAGAGGCAAGCCTCATGGTAATTACAAAGAAAAACCTACAATAGA\n",
    "CACAAAAAAGAAAAAAAGAAAAGAGTCAAAGTGTATCACTACAAAAATAATAAAATCACAAATACAGATAGCAAGAGAGGAAGACAGAAACAGAAGAACT\n",
    "ACAAAACGGACAGAAAATAATTAGTAAAATGGCAATAAGAAGTTCTTACTTTTTTCATTATACTTTAAGTTTTAGGGTACATGTGCACAACGTGCAGGTT\n",
    "AGTTACATATGTATACATGTGCCATGTTGGTGTGCTGCACCCATTAACTCGTCAATTAACATTAGATATATCTCCTAATGCTTTCCCTCCCCTCTCCCCA\n",
    "CACCCCACAACAGGCCCCGGTGTGTGATGTTCCCCTTCCTGTGTCCATGTGTTCTCATTGTTCAATTCCCACCTGTGAGTGAGAATATGCGGTGTTTGGT\n",
    "TTTTTGTCCTTGCGATAGTTTGCTGAGAATTATGGTTTCCAGCTTCATCCATGTCCCTACAAAGCACATAAACTCATCCTTTTTTATGGCTGCATATATT\n",
    "CCATGGTATATATGTGCCACATTTTCTTAATCCAGTCTATCATTGTTGGATATTTGGGTTGGTTCCAAGTCTTTGCCATTGTGAATAGTGCCGCAATAAA\n",
    "CATACATGTGCATGTGTCTTTATATCAGCATGATTTATAATCCTCAGGGAATATACCCAGTAATGGGATGGCTGGGTCAAATGGTAATTCTAGTTCTAGA\n",
    "TCCCTGAGGAATCGCCACACTGAGTTCCACGATGGTTGAACTAGTTTACAGTCCCACCAACAGTGTAAAAGTGTTCCTATTTCTCCACATCCTCTCCAGC\n",
    "ACCTGTTGTTTCCTGACTTTTTAATGATCGCCATTCTAACTGGTGTGAGATGGTATCTCATTGTGGTGTTGATTTGCATTTCTCTGATGACCAGTAATGA\n",
    "TGAGCATTTTTTCATGTTTTTTGGCTGCATAAATGTCTTCTTTGGAGAAGCATCTGTTCATATCCTTCGCCCACTTTTTGATGTGGTTGTTTGTTTTTTT\n",
    "GTTGTACATTTGTTTGAGTTCTTTGTAGATTCTGGATATTAGCTCTTTGTCAGATGGGTGGATTGCAAAAATTTTCTCCCATTCTGTAGGTTGCCTGTTC\n",
    "ACTCTGATGGTAGTTTCTTTTGCTGTGCAGAAGCTCTTTAGTCCAATTAGATCCCATTTGTCAATTTTGTCTTTTGTTGCCATTGCTTTTGGTGTTTTAG\n",
    "ACATGAAGTCCTTGCCCATGCCTATGTCCTGAATTGTATTGCCTATGTTTTCTTCTAGGGTTTTTATGGTTTTAGGTTTAACATTGAAGTCTTTAATCCA\n",
    "TCTTGAATTAACTTTAGTATAAGGTGTAAGAAAGGGATCCAGTTTCAGCTTTCTCCATGTGGCTAGCCAGTTTTCCCAAGCACCATTTATTAAATAGGGA\n",
    "ATCCTTTCCCCATTTCTTGTTTTTGTCAGGTTTGTCAAAGATCAGATAGTTGTAGATATGCGGCATTATTTCTGAGGGCTTTGTTCTGTTCCATTGGTCT\n",
    "ATATCTCTGTTTTGGTACAAGTACCATGCTGTTTTGGTTACTGTAGTCTTATAGTATAGTTTGAAATCAGGTAGCGTGATGCCTCCAGCTTTGTTCTTTT\n",
    "GGCTTAGGATGGACTTGGCAATGTGGGCTCTTTTTTAGTTCCATATGAACTTTAAAGTAGTTTTTTCCGATTCTGTAAAGAAAGTCATTGGTAGCTTGAT\n",
    "GGGGATGGCTTTGAATCTATAAATTACCTTGGGCAGTATGGCCATTTTCATGATATAGGTTCTTCCTACTCATGAGCATGGAATGTTCTTCCATTCGTTT\n",
    "GTATCCTCTTTTATTTCATTGAGCAATGGTTTGTAGTTCTCCTTGAAGAGGTCCTTCACATCCCTTGTAAGTTGGATTTCTAGGTATTTTATTCTCTTTG\n",
    "GAGCAATTGTGAATGGAAGTTCACTCATGATTTGGCTCTCTGTTTGTCTCTTATTGGTGTATAAGAACGCTTGTGATTTTTGCATGTTGATTTTGTATCT\n",
    "TGAGACTTTGCTGAAGTTGCCTATCAGCTTAAGGAGATTTTGGGCTGAGAAGATGGGGTTTTGTAGATATACAATCATGTCAGCTGCAAATAGGGACAAT\n",
    "TTGACTTCCTCTTTTCCTAATTGAATACCGTTTATTTCCTTCTCCTGACTGATTGCCCTGGCCAGAACTTCCAATACTATGTTGAATAGGAGTGGTGAGA\n",
    "GAGGGCATCTGTGTCTTGTGCCAGTTTTCAAAGGGAATGCTTCCAGTTTTTGCCCATTCAGTATGACATTGGCTGTGGGTTTGTCATAGATAGCTATTAT\n",
    "TATTTTAAGACATGTCCCATCAATACCTAATTTATTGGGAGATTTTAGCATGAAGCACTGTTGAATTTTGTCAAAGGCCTTTTCTGCATCTATTGAGATA\n",
    "ATCATGTGGTTTTTGTCTTTCGTTCTGTTTATATGCTGGATTACATTTATTGATTTGTGTATGTTGAACCAGCCTTGCATCCCAGGGATGAAGCCCGATT\n",
    "GATCACGGTGGATAAGCTTTTTGATGTGCTGCTGGATTCGGTTTGCCAGTATTTTATTGAGGATTTTTGCATTGATGTTCATCAGGGATATTGGTCTAAA\n",
    "ATTCTCTTTTTTTTGTTGTGTCTCTGCCAGGCTTTGGTATCAGAATGTTGCTGGCCTCATAAAATGAGTTAGGGAGGATTACCTCTTTTTCCATTTATTG\n",
    "GAATAGTTTCAGAAGGAATGGTACCAGCTCCTCCTTGTACCTCTGGTAGAATTCTGCTGTGAATCCATCTGGTCCTGGACTTTTTTTGGTTGGTAAGCTA\n",
    "TTAATTATTGCCTCACTTTCAGAGCCTGTTATTGGTCTATTCAGAGATTCAACTTCTTCCTGGTTTAGTCTTGGGATGGTGTATGTGTCAAGGAATTTAT\n",
    "TCATTTCTTCTAGATTTTCTAGTTTATTTGCATAGAGGTGTTTATAGTATTCTCTGATGGTAGTTTGTATTTCTGTGGGATCGGTGGTGATATCCCCTTT\n",
    "ATCATTTTTTATTGCGTCTATTTGATTCTTCTCTGTTTTCTTCTTTATTAGTCTTGCTGGTGGTCTATCAATTTTGTTGATCTTTTCAAAAAACCAGCTC\n",
    "CTAGATTCATTGATTTTTTGAAGGGTTTTTTGTGTCTCTATTTCCTTCAGTTCTGCTCTGATCTTAGTTATTTCTTGCCTTCTGCTAGCTTTTGAATGTG\n",
    "TTTGCTCTTGCTTCTCTAGTTCTTTTAATTATGATATTATGGTGTCAATTTTAGTTATTTCCTGCTTTCTCTTGTGGGCATTTAGTGCTATAAATTTCCC\n",
    "TCTACACACTGCTTTGAATGTGTCCCAGAGATTCCGGTATATTGTGTCTCTGTTCTCGTTGGTTTCAAAGAACATCTTTATTTCTGCCTTCATTTCATTA\n",
    "TGTATCCAGTAGTCATTCAGGAGCAGGTTTTTCAGTTTCCATGTAGTTGAGTGGTTTTGAGTGATTTTCTTAATCCTGAGTTCTAGTTTGATTGCACTGT\n",
    "GGTCTGAGAGAGAGTTTGTTATAATTTCTGTTGTTTTACATTTGCTGAGGAGTGCTTTACTTCTAACTATGTGGTCAATTTTGGAATAGGTGTGGTGTGG\n",
    "TGCTGAAAAGAATGTATATTCTGTTGATTTGGGGTGGAGAGTTCTGTAGATGTCTATTAGGTCCACTTGGGTGCAGAGATGAGTTCAATTCCTGCATATC\n",
    "ATTGTTAACTTTCTGTCTCGTTGATCTGTCTAATGTTGACAGTGGTGTCAAAGTCTCCCATTATTATTGTGTGCAAGTCTAAGTCTCTTTCTAGGTCTCT\n",
    "AAGGACTTGCTTTATGAATCTGGGTGCTCCTGTATTGGGTGCATATATATTTAGGATAGTTAGCTCTTCTTGTTGAATTGATCCCTTTACCATTATGTAA\n",
    "TGGCCTTCTTTGTCTCTTTTGATCTTCATTGGTTTGAAGTCTTTTTTATCAGAGACTAGGATTGCAACCCCTGCCTTTTTTTGTTTCCCATTTACTTGGT\n",
    "AGATCTTCCTCCATCCCTTTATTTTGAGCCTATGTGTGTCTCTGCACATGAGATGGGTTTCCTGAATACAGCACACTGATGGGTCTTGACTCTTTATCCA\n",
    "ATTTGTCAGTCTGTGTCTTTTAATTGGAGCATTTAGCCCATTTACATTTAAGGTTAATATTGTTCTGTGTGAATGTGATCCTGTTGTTATGATGTTAGCT\n",
    "GGTTATTTTGCTCATTAGTTGATGCAATTTCTTCCTAGCCTCAATGGTCTTTACAATTTGGCATGTTTTTGCAGTGGCTGGTACCAGTTGTTCCTTTCTA\n",
    "TGTTTAGTGCTTCCTTCAGGAGCTCTGTTAGGGCAGGCCTGATGGTGACAAAATCTGTCAGCATTTGCTTGTCTGTAAAGGATTTTATTTCTCCTTCACT\n",
    "TATGAATGTTAGTTTGGCTGGATATGAAATTCTGGGTTGAAAATTCTTTTCTTTAAGAATGATGAATATTGGCCCCCACTCTCTTCTGGCTTGTAGAGTT\n",
    "TCTGCCGAGAGATCCACTGTTATTCTGATGGGCTTCCCTTTGTGCATAACCCGACCTTTCTCTCTAGCTGCCCTTAACATTTTTTTCCTTCATTTCAACT\n",
    "TTGGTGAATCTGACAATTATATCTTGGAGTTGCTCTTCTCAAGGAGCATCTTTTTGGCATTCTCTGTGTTTCCTGAATTTGAATATTGGCCTGCCTTGTT\n",
    "AGATTGGGGAAGTTCTCCTGGATAATGTCCTGCAGAGTGTTTTCCAACTTGGTCCCATTCTCCCCGTCACTTTCAGGTACACCAATCAGAAGTAGATTTG\n",
    "GTCTTTTCACATAGTCCCATATTTCTTGGTGGCTTTGTTCATTTCTTTTTGTTCTTTTTTCTCTAAACTTCTCTTCTCACTTCATTTCATTCATTTGATC\n",
    "TTCCATCACTGATACTCTTTCTTCCAGTTGATCGAATCAGCTACTGAGGCTTGTGGATTTGTCACACAGTTCTCATGCCATGGTTTTCAGCTCCATCAGG\n",
    "TCCTTTAAGGACTTCTCTGCATTTGTTATTCTAGTTAGCCATTCATCTAATTTTTTGAAGGTTTTTAACTTCTTTGCCATGGGTTCGAACTTGCTCCTTT\n",
    "AGCTTGGAGTAGTTTGATCATCTGAAGCCTTCTTCTCTCAACTCATCAAAGTCGTTCTCCTTCCAGGTTTGTTCTGTTGCTGGTGAGAAGCTGTGTTCCT\n",
    "TTGGAGGAGGAGAGGCACTCTGATTTTTAGAGCTTCCCGTTTTTCTGCTCTGTTTTTTCCCCATCTTTGTGGTTTTATCTACCTTTGGTCTTTGATGATG\n",
    "GTGACATACCGACAGGGTTTTGGTATGGATGTCCTTTCTGTTTGTTAGTCTTTGAGGTCCACTCCAGACCCTGTTTACCTGGGTATCCGCAGCAGAGGCT\n",
    "GCATAACAGCAGATATTGGTGAACAGCAAATGTTGCTGCTTGATTTTTCCTCTGGAAGTTTTGTCTCAGAGGAGTACCCGGCTGTGTGAAGTGTCAGTCT\n",
    "GCCACTACTGGGGGGTGCCTCCCAGTTAGGCTACTCTGGGGTCATTGACCCACGTGAGGAGACTGTCTGTCCATTCTCAGATCTCAAGCTGCATGCTGGG\n",
    "AGAACCACTACTCTCTTCAAAGCTGTCAGACAGGGACCTTTAAGTCTGCAGAGGTTTCTGCTGCCTTTTGTTTGGCTATGCCCTGCCCCCAGAGGTGGAG\n",
    "TCTACAGAGGCACGCAGGCCTCCTTGAGCTGTGGTGGGCTCCACCCAGTTTGAGCTTCCTGGCTGCTTTGTTTACCTACTCAAGCCTCAGTAATGGCGGG\n",
    "CGCCCCTCCTCCAGCCTTGCTGCCTCCTTGCAGTTTGATCTCAGACTGCTGTTCTAGCAATGAGTGAGGCTCTGTGGGCATAGGACCCTCCAAGCCATGC\n",
    "GTGGGATATAATCTCCTGGTGTGCTGTTTGCTAAGACCATTGGAAAAACACAGTATTGTGGGGGGAGTGACCCAATTTTCCAGTTGCTGTCTGTCACCCC\n",
    "TTTCTTTGACTAGGAAAGGGAATTCCCTGACCCCTTGAGCTTCCCAGGTGAGGTGATGCCTCACCCTGCTTTGGCTCATGCTCGGTGCACTCCACCCACT\n",
    "GTCCTGCACCCACTATCTGACACTCCCCAGTGAGATGAACCCAGTACCTCAGTTGGAAATGCAGAAATCACCCATATTCTGCCAGAAGTTCTTACATTGT\n",
    "AATAATTACTTTATGTAAAAATGAATTACAGTTTATATAGAGTGAATAGATAGAAAACAAGATCAAGCTCTATGCTGTCTACCAGAGACTCATTTTTGAT\n",
    "TTAAGTACACACTTAAGCTGAAAGTGAAAATGTAGAATAAAATATGATTGCAAATGGTATTTAAAAGGGAGCGGGGGGGCTCTATCTATATCAGACATAA\n",
    "TAGACCTCAAGCCATAAACTCACAAGGGCCTAAGAAGGTCATCACATAATGAAAATAGGGTTAGTTCAGCAAGGTGATATAACAATTGTAAATATATATG\n",
    "CATCCAATATCAAAATGTCTAGTTATATAAAGAAAAGATTGACATGTCCATAAGAAGAAATAGGCAATAAAATAAGTATAGAAGACTTTAATACCCCACT\n",
    "ATCAACAATGGACATAGTAGGCAGTTTTTCCCTAACAGTGCTAGGTCTGGGAGGTGTGGACTGGGTAGAATTAATCACAGTGCGGTGAAGCAGCTGTGGC\n",
    "CAGACTGCTTCTCTAGATTCCTCCTCACTGGGCAGGGAGTCTCTTTAAGAAAGGTAACAACCCCAGTCAGGGGCTTACAGATAAACTCCCATCTCCCTGG\n",
    "GACAGAGCGCTTAAAAGAAGGGGAAGCTGTGGGCACAGTTTCAGAGGACTTAATCTCTCCTGCCTGCCAGCTCTGAAGAGAGCATCTAATCCTGGCAAGA\n",
    "GGGATTCTCCCAGCACAGTGTACCAGCTTTGCTAAGGGACAGACTGCCTCCTCAAATGGGTTCCAGATACTCATGCCTTGTGACTAGGAAAGACTTCCCA\n",
    "AAATGGGTCAACAGGCACCTCATACAGGAGAGCTTCAGCTGGCATCAGGCTCGTGTCCCTCTGGGATTAAGCTTCCAGAGGAAGGAGCAGACAGCAATCT\n",
    "TTGCTGTTCTGAAGCCTCCACTGATGATACCCAGGCAAACTAGTTCTGGAGTGGACCTCCAGCAAACTATAGCGGACCTGCAGAAGATGGGCCTCTCTGT\n",
    "CAGAAGAAAAACTAACAAACAGAAAGCAACAGCATCAACAACAACAATAAGAACCTCCACAAGAAACTCCATGCAAAGGTCTTTAGCCTCAAAGATCAAA\n",
    "GGTAAATAAATCCACAAAGATAAAGAAAAACCAGTGCAAAAACACTGAAAATTCCAAACACCGGAATGGCTCTTCTCCAAATGATAACAACTCCTCTCTA\n",
    "GCAAGGGTACAAAACTGGATGGAGAGTGAGAGTGACAAATTGACAGAAGTAGGCTTCAGAAGGTGGGTAATAACAAACTCCTCTGAGTCAAAGAGGCATG\n",
    "TTCTAACCCAATGCAAGGAAGCTAAGAACAATGATAAAAGGTTACAGGCACAGATAACTAGAATAACCAGATTAGAGAAGAAAATAAATGACCTGATGGG\n",
    "GCTGAAAAACACAGCAAGAGAAATTCATGAAGCAGACACAAGTATCAATAGCCAAATTGTTCAAGTGGAACAAACGAT\"\"\".replace('\\n','')"
   ]
  },
  {
   "cell_type": "code",
   "execution_count": 7,
   "metadata": {
    "collapsed": true
   },
   "outputs": [],
   "source": [
    "chimp_sample = \"\"\"CCAAATGCTTCTTCAGCTGATAAACAACTTCAGCAAAGGCTCAGAATAGAAAATCAATGTGCAAAATCATTTATATTTTTATACACCAACAACAGTTAAT\n",
    "TTGAGAGCCAAATCAGAAAGGCAATTTCATTCACAATTGCCACAAAAAATAAAATACCTAGAAATACAGCTATCCAGGGAGCTGAAAGATCTCTACAAGG\n",
    "AGAACTACAAACCACTGCTCAAAGAAATCAGAGATAACACAAATAAATGAAAATAAAATTCCATGCTCACGGAGAGGAAGAATCAATATTGTTAAAATGG\n",
    "CCATACTGCCCAAAGCAATTTATAGACTCAATGCTATTCCTATTAAACCAACATTGACATTCCTCACAGAACTAGAAAAAACTATTTTAAAAATCATATG\n",
    "GACCTGAAAAAGAGCCCAAATAGCCAGGGTAATCCTGAGCAAAAGAAAAAAGCTGAAAACATCATGCTTCCCAACTTAAAACTATATGACATGACTGCAC\n",
    "TCTAGCCTGGGTGACATAGCGAGACTCTGTCTAAAAAAAAAATAAAAAAGAAAAAAAGAAAAAAACTATATGACATGGCTACAGTAATCAAAACAGCATG\n",
    "GTACTGATGCAAAAACAGACACATAGACAAATGGAAAAAATAGAATACCCAGAAATAAGGTCACACACCTACAAGTACTCGATCTTCAACAATCCTGACA\n",
    "AAAACAAGGAATAGGAAAAGAAGCCCCTATTCAATAAATGGTGCTGGGGTAACTGGCTAGCTATACGCAGAAGATTAAATTTGGAGCCCTTCCTTACACC\n",
    "ATACACAAAAATTAACTCAAGATGGATAAAAACTTAAATGTAAAACCCCAAACTATAAAAACCCTGGAAGGTAAACTAAGCAGTGCCATTCTGGACATTG\n",
    "GAACAAACAAGGATTTCATGATGAAGACACCAAAAGCCATTGCAACAAAGGCAAAAATTCACAAATGAGATTTAATTAAACTAAAGAGCTTCTGTGCAGC\n",
    "AAAGGAAACTATCAACAGAGTAAACAGACAACTTACAGAATGGAAGAAAATTTTTGCAAACTATGCATCTGACAAAGGTCTAATATCCAGTATCTATCAG\n",
    "GAACTTAAATTTATAAAGAAAAGAGCCCAACAATTCCATTAAAATAGGCAAAAATCATGAAGAGACACTTTTCAAAAGAAGACATACATGTGGCCAATGA\n",
    "TCATATGGAAAAAATCTCAACATCACTGATTATTAGAGAAATGCAAATGAAAACTACAATGAGATACCGTCTTATACCAGTCAGAATGGCTATTATTAAA\n",
    "AAGTCAAAAAATTAAAGATGCTGCAGAGGTTGCAGAGAAAAGAATGCTTATACACTGTTGGTGGGAGTGAAAATTACTTCAACCACTGTGGAAAACAGTG\n",
    "TGGTGATTCCTCAAAGACCTAAAGACAAAAATACCACTTGATCCAGCAATCCTATTACTGGGTATATACCCAAAGTTATATAAATCATTCTATTATAAAG\n",
    "ATACATGCATACATATGTTCTTTCCAGTACTATTCAAAATAGCAAAGACATGAAAGGAACGTAAACACCCATCAATGGTAGACTGGATAAAGAAAATATG\n",
    "GTACATATACACAATGGAATACTATGCAGTCATAGAAAAGAATGAGGTTATGTTCTTTGCAGGAACATGGATAGAGCTGGAGGCCATTATCCTTAGCAAA\n",
    "CGAATGCAGGGTCAGAAAACCAAATACCACATGTTTTCACTGATAAGTGTGGGCTAAATGATAAGAACACATGGACACATAGAGGGAAACAACACACACT\n",
    "GGGTCTATTGCAGGGTGGAGGGTGGGACAAGGGAGTGGGTCAGCAAAAATAACTAATCGGTACTAGGCTTAATAGCTGGGTGATGAAACAATCTATACAA\n",
    "CAAATCACCATGACACAAGTTTACCTACATAAGAAACCTGTGCATGTACACCTGAACTTAAAATATAAGTTAAAAAGTGAATTATTGGACAGGGCGTGGT\n",
    "GGCTCACGCTTGTAGTTCCATCACTTTGGGAGGCCAAGGCGGGCAGATCACAAGGTCAGGAGTTCGAGACAAGCCTGACCAACATGGTGAAAACCCGTCT\n",
    "CTACTAAAAATACAAAAATTAGCCAGGCATGGTGGTGCATGCCTGTAATCCCAGCTTCTCAAGAGGCAAGCCTCATGGTAATTACAAAGAAAAACCTACA\n",
    "ATAGACACAAAAAAGAAAAAAAGAAAAGAGTCAAAGTGTATCACTACAAAAATAATAAAATCACAAATACAGATGGCAAGAGAGGAAGACAGAAACAGAA\n",
    "GAACTACAAAACAGACAGAAAATAATTAGTAAAATGGCAATAAGAAGTTCTTACTCTTTTCATTATACTTTAAGTTTTAGGGTACATGTGCACAACGTGC\n",
    "AGGTTAGTTACATATGTATACATGTGCCAATGTGCCATGTTGGTGTGCTGCACCCATTAATTCATCAATTAACATTAGGTATATCTCCTAATGCTTTCCC\n",
    "TCCCCTCTCCCCACACCCCACAACAGGCCCCGGTGTGTGATGTTCCCCTTCCTGTGTCCATGTGTTCTCATTGTTCAATTCCCACCTGTGAGTGAGAACA\n",
    "TGCGGTGTTTGGTTTTTTGTCCTTGCGATAGTTTGCTGAGAATGATGGTTTCCAGCTTCATCCATGTCCCTACAAAGCACATAAACTCATCCTTTTTTAT\n",
    "GGCTGCATAGTATTCCATGGTGTATATGTGCCACATTTTCTTAATCCAGTCTATCATTGTTGGATATTTGGCTTGGTTCCAAGTCTTTGCCATTGTGAAT\n",
    "AGTGCCGCAATAAACATACATGTGCATGTGTCTTTATATCAGCATGATTTATAATCCTCTGGGAATATACCCAGTAATGGGATGGCTGGGTCAAATGGTA\n",
    "ATTCTAGTTCTAGATCCCTGAGGAATCGCCACACTGACTTCCACAATGGTTGAACTAGTTTACAGTCCCACCAACAGTGTAAAAGTGTTCCTATTTCTCC\n",
    "ACATCCTCTCCAGCACCTGTTGTTTCCTGACTTTTTAGTGATCACCATTCTAACTGGTGTGAGATGGTATCTCATTGTGGTGTTGATTTGCATTTCTCTG\n",
    "ATGACCAGTGATGATGAGCATTTTTTCATGTTTTTTGGCTGCATAAATGTCTTCTTTTGAGAAGTGTCTGTTCATATCCATCGCCCACCTTTTGATGGGG\n",
    "NNNNNNNNNNTTGATTTGCATTTCTCTGATGACCAGTGATGATGAGCATTTTTTCATGTTTTTTGGCTGCATAAATGTCTTCTTTTGAGAAGTGTCTGTT\n",
    "CATATCCTTCGCCCACTTTTTGATGTGGTTGTTTGTTTTTTTCTTGTAAATTTGTTTGAGTTCATTGTAGATTCTGGATATTAGCTCTTTGTCAGATGGG\n",
    "TGGATTGCAAAAATTTTCTCCCATTCTGTAGGTTGCCTGTTCATTCTGATGGTAGTTTCTTTTGCTGTGCAAAAGCTCTTTAGTCCAATTAGATCCCATT\n",
    "TGTCAATTTTGGCTTTTGTTGCCATTGCTTTTGGTGTTTTAGACATGAAGTCCTTGCCCATGCCTATGTCCTGAATTGTATTGCCTATGTTTTCTTCTAG\n",
    "GGTTTTTATGGTTTTAGGTTTAACATTGAAGTCTTTAATCCATCTTGAATTAATTTTTGTATAAGGTTTAAGAAAGGGATCCAGTTTCAGCTTTCTCCAT\n",
    "GTGGCTAGCCAGTTTTCCCAAGCACCATTTATTAAATAGGGAATCCTTTCCCCATTTCTTGTTTTTGTCAGGTTTGTCAAAGATCAGATAGTTGTAGATA\n",
    "TGCGGCATTATTTCTGAGGGCTTTGTTCTGTTCCATTGGTCTATATCTCTGTTTTGGTACAAGTACCATGCTGTTTTGGTTACTGTAGCCTTGTAGTATA\n",
    "GTTTGAAATCAGGTAGCGTGATGCCTCCAGCTTTGTTCTTTTGGCTTAGGATGGACTTGGCAATGTGGGCTCTTTTTTAGTTCCATATGAACTTTAAAGT\n",
    "AGTTTTTTCCGATTCTGAAAAGAAAGTCATTGGTAGCTTGATGGGGACGGCTTTGAATCTATAAATTACCTTGGGCAGTATGACCATTTTCACCATATTG\n",
    "GTTCTTCCTACTCATGAGCATGGAATGTTCTTCCATTTGTTTGTATCCTCTTTTATTTCATTGAGCAGTGGTTTGTAGTTCTCCTTGAAGAGGTCCTTCA\n",
    "CATCCCTTGTAAGTTGGATTTCTAGGTATTTTATTCTCTTTGGAGCAATTGTGAATGGAAGTTCACTCATGATTTGCCTCTCTGTTTGTCTCTTATTGGT\n",
    "GTATAAGAAAGCTTGTGATTTTTGCACGTTCATTTTGTATCTTGAGATTTTGCTGAAGTTGCCTATCAGGTTAAGGAGATTTTGGGCTGAGAAGATGGGG\n",
    "TTTTCTAGATATACAATCATGTCATCTGCAAATAGGGACAATTTGACTTCCTCTTTTCCTAATTGAATACCCTTTATTTCCTTCTCCTGACTGATTGCCC\n",
    "TGGCCAGAACTTCCAATACTATGTTGAATAGGAGTGGTGAGAGAGGGCATCCCTGTCTTGTGCCAGTTTTCAAAGGGAATGCTTCCAGTTTTTGCCCATT\n",
    "CAGTATGACATTGGCTGTGGGTTTGTCATAGAGAGCTATTATTATTTTAAGACATGTCCCATCAATACCTAATTTATTCAGAGTTTTTAGCATGAAGCAC\n",
    "TGTTGAATTTTGTCAAAGGACTTTTCTGCATCTATTGAGATAATCATGTGGTTTTTGTCTTTGGTTCGGTTTATATGCTGGATTACATTTATTGATTTGT\n",
    "GTATGTTGAACCAGCCTTGCATCCTAGGTATGAAGCCCACTTGATCATGGTGGATAAGCTTTTTGATGTGCTGCTGGATTTGGTTTGCCAGTATTTTATT\n",
    "GAGGATTTTTGCATCGATGTTCATCAGGGATATTGGTCTAAAATTCTCTTTTTTTGTTGTGTCTCTGCCAGGCTTTGGTATCAGAATGTTGCTGGCCTCA\n",
    "TAAAATGAGTTAGGGAGGATTCCCTCTTTTTCTATTGACTGGAATAGTTTCAGAAGGAATGGTACCAGCTCCTCCTTGTACCTCTGGTAGAATTTGGCTG\n",
    "TGAATCCATCTGGTCCTGGACTTTTTTTGGTTGGTAAGCTATTAATTATTGCCTCACTTTCAGAGCCTGTTATTGGTCTATTCAGAGATTCAACTTCTTC\n",
    "CTGGTTTAGTCTTGGGAGGGTGTATGTGTCAAGGAATTTATTCATTTCTTCTAGATTTTCTAGTTTTTTTGCATAGAGGTGTTTATAGTATTCTCTGATG\n",
    "GTAGTTTGTATTTCTGTGGGATAGGTGGTGATATCCCCTTTATCATTTTTTACTGCGTCTATTTGATTCTTCTCTCTTTTCTTCTTTATTAGTCTTGCTG\n",
    "GTGGTCTATCAATTTTGTTGATCTTTTAAAAAAACCAGCTCCTGGATTCATTGATTTTTTGAAGGGTTTTTTGTGTCTCTATTTCCTTCAGTTCTGCTCT\n",
    "GATCTTAGTTATTTCTTGCCTTCTGCTACCTTTTGAATGCGTTTGCTCTTGCTTCTCTAGTTCTTTTAATTATGATATTAGGGTGTCAATTTTAGTTCTT\n",
    "TCCTGCTTTCTCTTGTGGGCATTTAGTGCTATAAATTTCCCTCTACACACTGCTTTGAATGTGTCCCAGAGATTCTGGTATATTGTGTCTCTGTTCTCGT\n",
    "TGGTTTCAAAGAACATCTTTATTTCTGCCTTCATTTCGTTACATACCCAGTAGTCATTCAGGAGCAGGTTTTTCAGTTTCCATGTAGTTGAGTGGTTTTG\n",
    "AGTGATTTTCTTAATCCTGAGTTCTAGTTCGATTGCACTGTGGTCTGAGAGACAGTTTGTTATAATTTCTGTTCTTTTACATTTGCTGAGGAGTGCTTTA\n",
    "CTTCTAACTATGTGCTCAATTTTGGAATAGGTGTGGTGTGGTGCTGAAAAGAATGTATATTCTGTTGATTTGGGGTGGAGAGTTCTGTAGATGTCTATTA\n",
    "GGTCCACTTGGGTGCAGAGATGAGTTCAATTCCTGCATATCGTTGTTAACTTTCTGTCTCGTTGATCTGTCTAATGTTGACAGTGGTGTTAAAGTCTCCC\n",
    "ATTATTATTGTGTGGGATTCTAAGTCTCTTTGTAGGTCTCTAAGGACTTGCTTTATGAATCTGGGTGCTCCTGTATTGGGTGCATATATATTTAGGATAG\n",
    "TTAGCTCTTCTTGTTGAATTGATCCCTTTACCATTATGTAATGGCCTTCTTTGTCTCTTTTGATCTTCATTGGTTTGAAGTCTTTTTTATCAGAGACTAG\n",
    "GATTGCAACCCCTGCCTTTTTTTGTTTCCCATTTACTTGGTAGATCTTCCTCCATCCCTTTATTTTCAGCCTGTGTGTGTCTCTGCACGTGAGATGGGTT\n",
    "TCCTGAATACAGCACACTGATGGGTCTTGACTCTTTATCCAATTTGTCAGTCTGTGTCTTTTAATTGGAGCATTTAGCCCATTTACATTTAAGGTTAATA\n",
    "TTGTTCTGTGTGAATGTGATCCTGTCATTATGATGTTAGCTGGTTATTTTGCTGGTTAGTTGATGCAGTTTCTTCCTTGCCTCGATGGTCTTTACAATTT\n",
    "GGCATGTTTTTGCAGTGGCTGGTACCAGTTGTTCCTTTCCATGTTTAGTGCTTCCTTCAGGAGCTCTGTTAGGGCAGGCCTGATGGTGACAAAATCTGTC\n",
    "AGCATTTGCTTATCTGTAAAGGATTTTATTTCTCCTTCACTTATGAAGCTTAGTTTGGCTGGATATGAAATTCTGGGTTGAAAATTCTTTTCTTTAAGAA\n",
    "TGATGAATATTGGCTCCCACTGTCTTCTGGCTTGTAGAGTTTCTGCCAAGAGATCCGCTGTTATTCTGATGGGCTTCCCTTTGTGCATAACCCGACCTTT\n",
    "CTCTCTGGTTGCCCTTAACATTTTTTCCTTCATTTCAACTCTGGTGAATCTGACAATTATATCTTGGAGTTGCTCTTCTCGAGGAGCATCTTTCTGGCAT\n",
    "TCTCTGTATTTCCTGAATTTGAATATTGGCCTGCCTTGTGAGATTGGGGAAGTTCTCCTGGATAATGTCCTGCAGAGTGTTTTCCAACTTGGTTCCATTC\n",
    "TCCCCGTCACTTTCAGGTACACCAATCAGATGTAGATTTGGTCTTTTCACATAGTCCCATATTTCTTGGTGGCTTTGTTCATTTCTTTTTGTTCTTTTTT\n",
    "CTCTAAACTTCTCTTCTCGCTTCATTTCATTCATTTGATCTTCCATCACTGATACTCTTTCTTCCAGTTGATCGAATCAGCCACTGAGGCTTGTGGATTT\n",
    "GTCACATAGTTCTCATGCCATGGTTTTCAGCTCCATCAGGTCCTTTAAGGACTTCTCTGCCTTCGTTATTCTAGTTAGCCATTCATCTAATTTTTTCAAG\n",
    "GTTTTTAACTTCTTTGCCATGGGTTCGAACTTGCTCCTTTAGCTTGGAGTAGTTTGATCATCTGAAGCCTTCTTCTCTCAACTCATCAAAGTCGTTCTCC\n",
    "TTCCAGGTTTGTTCTGTTGCTGGTGAGAAGCTGTGTTCTTTTGGAGGAGGAGAGGCACTCTGATTTTTAGAGTTTCCAGTTTTTCTGCTCTGTTTTTTCC\n",
    "CCATCTTTGTGGTTTTATCTACCTTTGGTCTTTGATGATGGTGACATACAGACAGGGTTTTGGTATGGATGTCCTTTCTGTTTGTTAGTCTTTGAGGTCC\n",
    "ACTCCAGACCCTGTTTACCTGGGTATCCGCAGCAGAGGCTGCATAACAGCAGATATTGGTGAACAGCAAATGTTGCTGCTTGATCGTTCCTCTGGAAGTT\n",
    "TTGTCTCAGAGGAGTACCCGGCTGTGTGAGGTGTCAGTCTGCCCCTACTCTGGGGTGCCTCCCAGTTAGGCTACTCTGGGGCCATTGACCCACGTGAGGA\n",
    "GGCTGTCTGTCCATTCTCAGATCTCAAGCTGCATGCTGGGAGAACCACTACTCTCTTCAAAGCTGTCAGACAGGGACCTTTAATTCTGCAGAGGTTTCTG\n",
    "CTGCCATTTGTTTGGCTATGCCCTGCCCCCAGAGGTGGAGTCTACAGAGGCACGCAGGCCTCCTTGAGCTGTGGTGGGCTCCACCCAGTTTGAGCTTCCT\n",
    "GGCTGCTTTGTTTACCTACTCAAGCCTCAGTAATGGCAGGCGCCCCTCCTCCAGGCTTGCTGCCTCCTTGCAGTTTGATCTCAGACTGCTGTTCTAGCAA\n",
    "TGAGTGAGGCTCTGTGGGCATAGGACCCTCCAAGCCAGACGTGGGATATAATCTGGTGTGCTGTTTGCTAAGACCATTGGAAAAACACAGTATTAGGGTT\n",
    "GGAGTGACCCAATTTTCCAGTTGCTGTCTGTCACCCCTTTCTTTGACTAGGAAAGGGAATTCCCTGACCCCTTGAGCTTCCCAGGTGAGGTGATGCCTCA\n",
    "CCCTGCTTTGGCTCATGCTCGGTGCACTCCACCCACTGTCCTGCACCCACTATCTGACACTCCCCAGTGAGATGAACCCAGTACCTCAGTTGGAAATGCA\n",
    "GAAATCACCCATATTCTGCCAGAAGTTCTTACATTGTAATAATTACTTTATGTAAAAATGAATTACAGTTTATATAGAGTGAATAGATAGAAAACAAGAT\n",
    "CAAGCTCTATGCTGTCTACCAGAGACTCATTTTTGATTTAAGTACACACTTAAGCTGAAAGTGAAAATGTAGAATAAAGTATGATTGCAAATGGTATTTA\n",
    "AAAGGGAGTGGGGGGGCTCTATCTATATCAGACATAATAGACCTCAAGCCATAAACTCACAAGGGCCTAAGAAGGTCATCACATAATGAAAATAGGGTTA\n",
    "GTTCAGCAAGGTGATATAACAATTGTAAATATATATGCATCCAATATCAAAGTGCCTAGTTATATAAAGAAAAGATTGACATGTCCATAAGAAGAAATGG\n",
    "GCAATAAAATAAGTACAGGAGACTTTAATACCCCACTATCAACAATGGACAAAGTAGGCAGTTTTTCCCTAACAGTGCTAGGTCTGGGAGGTGTGGGCTG\n",
    "GGTAGAATTAATCACAGTGCGGTGAAGCAGCTGTGGCCAGACTGCTTCTCTAGATGCCTCCTCACTGGGCAGGGAGTCTCTTTAAGAAAGGTAACAACCC\n",
    "CAGTTAGGGGCTTACAGATAAACTCCCATCTCCCTGGGACAGAGCACTTAAAAGAACGGGAAGCTGTGGGCACAGTTTCAGAGGACTTAATCTCTCCTGC\n",
    "CTGCCAGCTCTGAAGAGAGCATCTAATCCTGGCAAGAGGGATTCTCCCAGCACAGTGTACCAGCTTTGCTAAGGGACAGACTACCTCCTCAAATGGGTTC\n",
    "CAGATACTCATGCCTTGTGACTAGGAAAGACTTCCCAAAATGGGTCAACAGGCACCTCATACAGGAGAGCTTCAGTTGGCATCAGGCTGGTGTCCCTCTG\n",
    "GGATGAAGCTTCCAGAGGAAGGAGCAGACAGCAATCTTTGCTGTTCTGAAGCCTCCACTGATGATACCCAGGCAAACTAGGTCTGGAGTGGACCTCCAGC\n",
    "AAACTATAGCAGACCTGCAGAAGATGGGCCTCTCTGTCAGAAGAAAAACTAACAAACAGAAAGCAACAGCATCAACAACAACAATAAGAACCTCCACAAG\n",
    "AAACTCCATGCAAAGGTCTTTAGCCTCAAAGATCAAAGGTAAATAAATCCACAAAGATAAGGAAAAACCAGTGCAAAAACACTGAAAATTCCAAACACCA\n",
    "GAATGGCTCTTCTCCAAATGATAACAACTCCTCTCTAGCAAGGGCACAAAACTGGATGGAGAGTGAGAGTGACAAATTGACAGAAGTAGGCTTCAGAAGG\n",
    "TGGGTAATAACAAACTCCTCTGAGTCAAAGAGGCATGTTCTAACCCAATGCAAGGAAGCTAAGAACAATGATAAAAGGTTACAGGCACAGATAACTAGAA\n",
    "TAACCAGATTAGAGAAGAAAATAAATGACCTGATGGGGCTGAAAAACACAGCAAGAGAAATTCATGAAGCAGACACAAGTATCAATAGCCAAATTGTTCA\n",
    "AGTGGAACAAACGATATCCGAGATTGAAGATCAACTTACTGAAATAAGGTATGAAGACAGGATTGGAGAAAAAAGAATGTAAAGGAACAAACGAAGCCTC\n",
    "CAAGAAATGTGGGACTCTTTGAAAAGACCAAACCTATGACTGATTGTTGTACCAGAAAATGACAGGGAGATTGGAACC\"\"\".replace('\\n', '')"
   ]
  },
  {
   "cell_type": "code",
   "execution_count": 135,
   "metadata": {
    "collapsed": true
   },
   "outputs": [],
   "source": [
    "aligned_chimp = 'CCTTGGAGCCCATAGGAAGTTATCCTTGAGAAAGGAGCATCATCCTCATCCTCATTAAGAGAGCACTGACTGGACTGAAAAACAAAGCTGACTCCCCGCCCAGCCAGCTTGGTCCCCAGAGGCAGCGACACTCTATTTTTAAAGATGAGGTTACCCGCTGGGCACCCTAAGCTGACTTGACGTCAAACTGAGTGGCCCCCTGTGACACCAGAACACCTCACCTCTGCCGCCCTCCTGCCCGCATCCTGCTCTCTGCCCCGGCCTCCAGCCCCAGCTCCACCTTTCCCAAGGGACCCATGTGGGTGCCCCAAAGAATGACAAACGCTGGTGCTGAGTGCCAAGGAATGGCTGGACCTCATCAATTTTCCATTGTCGAGTTGTATTTCCACCTACTGTGGCGGCTGCGCCAGTCAGGGTTCCTGCCCCACCCTTCTTCCCCGCAAAACACACCCAGCTCTAAGATTAGCTCAGGACAGCTTTCCGGGGGGACCAAGACAAGGGGGAAGGCAGAGAGAGTGGAGGGAGGGAGACAGAAAAACCAAGACCGGAAGGGGACAGGGAGAGAGACACCAAGAGACAGAGGAGGAGAAATGCAGAGAGACATGAACAGAGACAGAAAGAGGGAGAGAGAAGAGAAACAGAGAAAAGAGAGAGAGAATGAGATAAAGAGGAGGAGGGAGGGAGAGGAGAAAGAGAGAGGGCCTCGTCCCACACTGTCCTTCCAAATTCAGGCTTTCCTCGTGGGCCCTTCCTCAAGGTCTAAGTGGCAAAGAGGTCACTGAAGGAAGCTAAGTCCCCTCTTCCTCAGCGGTTCTAAAGGCCCCXCTGGCTATGCCCGCTGGTCTTCCTAAGCCATAAGCTATGGCCTCGAGCCCTTGGGCTTCCCAGCCCAGCTTCCTCCTTTCCAAAATGAGGACAAACAGGAGTTAGAGGGCCTGAGAGCCGACGCCTCACCAACACACCCAGGACAGCCCCCTCTACTCTCCCATTTATTTTCTTGACAGCCAACACCCCACTTAGCCATACGGAGTCCCTAAGAGGCACAGGCGGGCCGATGACAACTGTTTAAATCCAGCGCCCATGTTCAGTTGGGATATTCTGACCCACTCAGGGCTGCTCCATAAAGCAGCGCGTGTCCGGATGCAAGCGCACCGAGAACTCGAAACGTCTCTGTCAAGCTGCCCATTCGGGGTTAAGTTCAAAGACAGAGGACAAAGGAAACGGATAAAGCGTCCGATACAAGAATTACCCATTTCAGAGGCACAAGACGAAGAGCACAGGCGGTGTCAGGACATGTTAGGATCCGTCCCCAGCGCTGCCGTCCTCGTCCCCACAGCGCCCCGGGACACCTGTCCCCCACAGCCCAGCTGCTCCTGCAGCCCCTGGAGAAATCTGTACATTCCCTGCCGCTGGGCACACGGGGAGGCTGGCCTAGGGGAGGCCTGCAGGGGTCTTCGCACCCCGTGCCAGTGTCCCTGGGGCCGCTGCCAGGGAGGGAGCACGAGGTCCCCCAGGCGAGGTGACCCGCAGGAGGTTTTGTGACGTCGGACGGCCCAGGCCCCAGAGTGCTGTGTGTGCTGGGGGCGGAGGGTGGTCTCCGAGAGGAGCCGTCGGCATTTCAGGTTAGGCACCCGGCCGGTCGGGGGTACTTGCCTGGGCTGGGGGGCTGGGGAGTGCGCTCCACCCGGGAAGACCCGGGGCGCAGGTGCAGCCCCGCACGGGGACTCCGAGCCGAAGTAGCGGGTCAGGGCCCTCCCCAGGAGGTCGGCACCCAGGGCCCTTTGTCCTACTACAACGTCCCGGCCACGCCGCGCGCCCCTGTGGGCCGAGTCCCCGCCCGCACTCACTCACCCACGGTGGCCAGCGTGTCAAAGTCCTGCAGGCTGTACGCAGGCGGCTCCGGCGACAGCGCCTCAGGGCTGGGGCAGAGCGCGGGCGCCCCGTCGGGGGTCTCCTCCGCCACCTTGCGGGAGTCGCTCTCCGCCGCGGCCGCCTGGGCCAGCCCGGGCGCCTCCATGGGGACGCACTCAGGTCCGGGGCACCGGGCCAGGCCGGAGTGCTCGGGGAGCCGGGCTTCCCGGGACGCAGCCTCGGAGGGCGGCGCGGCGGCGGCATCAACAGAGGCTCCCCATGCGCGCTCTCGCCTCCTGGTGCGCGGTCCGGCGCGGCTGACGGAGCGACGGGGACAATGGCTGGGCGGCGCTCACGGCACAAGCAGCAACGGCCCCGAGTGGGAGCAGCCGCCGGCCTCGGGGGGCGGGCACCGAGTGCGGGACGACTGCGGGGAAGGCGGGGGCCGCGGCCCGGGCTGGGGGGGGCGAGGCGGGGGCCCTGCGCATTCCCGGTCTCGCGCCCGCCGCCTCCTCCAGCTCGGTAGCCGCGTGCGCGCTGTTGGGGCGGGCGGAAGCCGCCTGGGCGTGACCGCGCCTCTCCCCGCCCTAACCCGGCCGCGGGGCTGGGGGCGTCTCCTTCGCGCGCGCTCCGGCCCCGCCCCGACCCAGCCCAGGGGCCAGAGACCCGGGCGTGCGGCGCTXGGGAGGTGCCCACGCCCCCTCCGCGCCCGGGGCACCCCTGGGGTGGGACCCAGGCTGACTTCTCCTCGGGGACGCACTGGCGGGCCACCCGCGTCGCTGCACCCAAGCCCGGAAGATGGGGAGGCGAGGGGGCCCGGGGACAGGGAGGGCGTAGCTCAGCAGAAGTGAAGTTCAAAACTAAAAAGTGAAATTGGCGTTTGGTGAAGAGAGGGGCTCGGATTAGCCCGGCTAATTTTTGTATTTTCTCAGTAGAGACAGGGTTTCACCATGTTGGCCAGGCTGGTCTGGAACTCCTGAGCACAAGTGAACCGCCTGCCTCGTTCTCCCAAAGTGCTGGGACTACAGGTATGAGCCACCACGCCCAGCCTGTGATTGGCTTTAAGTCATAGAAAATAGGATTGCTCAGCTGGCAATCTGCATACAGATCCCCTCTGCCCACCCCCCAAAAAGTTCAGTACTCCTGCGGGTGCTTGTTTGGGACCTGAGAGAATTTGGAATGAGGGCGGATCCCCAAGAGGGGCTGCCGGGTCTTCGGGATGAGTTCAGCGTCCTGGTTTTGCTGTAGGACTCTGGTGATTCTAGATTTCTACTTGGAAGGGGCGGGGAAGGGCGGGCTCGACCCTGTGCGTTTCTTTGCAGCTTCCTGTGGATCTAGAATTCTTTACAAATAAACATTTCTTTAAAAAACTAGGGAAAGACAGATTTGAGAGATCGCCCGACCAAATGTAGTGCGTGAAACTTGATTCGTCACTGTTTCAAACACCCCGGCGACAACCCTATAAAGAATTGTGCAGAGGCATTTCAATTTCAGAAAXCGCAAAGATTTTTTTTTCCTGGCTTAAGTGTGGCTCAGGCAATAGTTGGACATACTTATATTTAAAACCCATATCCGTGTGGATTTGAAATGCAAATATAGCTAGATATTTGGTCACCCCTTTCCCCAGGTAAATGCAGACAGTGCTTAACTTGCGGGCCTGGCACGGCCTGGACGCTGCGCCCCTGACCCGCGACCAGGGCGGCCCAGGCTGCCGGTTCGCCGAACACAGTTTGAGCAGCAAGGGGTCAAACTGCAAACGCCTTTGTTTTGAGGGATCTCAGCGATTCTGCGATTGGAGGGGGTCTCCAGTCCCTCAGTCCGCAGGTCAGGGGGGCTTTCCGAGAGCCAAA'\n",
    "aligned_human = 'CGTTGGAGCTCACAGGAAGTTATCCTTGAGAAAGGAGCATCATCCTCATCCTCATTAAGAGAGCACTGACTGGACTGAAAAAAAAAGCTGACTCCCCGCCCAGCCAGCTTGGTCCCCAGAGGCAGCGACACTCTATTTTTAAAGATGAGGTTACCCGCTGGGCACCCTAAGCTGACTTGACGTCAAACTGAGTGGCCCCCTGTGACACCAGAACCCCTCACCTCTGCCGCCCTCCTGCCCGCATCCTGCTCTCTGCCCCGGCCTCCAGCCCCAGCTCCACCTTTCCCAAGGGACCCATGTGGGTGCCCCAAAGAATGACAAACGCTGGTGCTGAGTGCCAAGGAACGGCTGGACCTCATCAATTTTCCATTGTCGAGTTGTATTTCCACCTACTGTGGCGGCTGCGCCAGTCAGGGTTCCTGCCCCACCCTTCTTCCGCGCAAAACACACCCAGCTCTAAGATTAGACCAGGACAGCTTTCCGGGGGGACCAAGACAAGGGGGAAGGCAGAGAGAGAGGAGGGAGGGAGACAGAAAAACCAAGACCGGAAGGGGACAGGGAGAGAGACACCAAGAGACAGAGGAGGAGAAATGCAGAGAGACTTGAACAGAGACAGAAAGAGGGAGAGAGAAGAGAAACAGAGAAAAGAGAGAGAGAATGAGATAAAGAGGAGGAGGGAGGGAGAGGAGAAAGAGAGAGGGCCTCCTCCCACTCTGTCCTTCCAAATTCAGGCTTTCCTCGTGGGCCCTTCCTCAAGGTCTAAGTGGCAAAGAGGTCACTGAAGGAAGCTAAGTCCCCTCTTCCTCAGCGGTTCTAAAGGCCCCACTGGCTATGCCCGCTGGTCTTCCTAAGTCATAAGCTATGGCCTCGAGCCCTTGGGCTTCCCAGCCCAGCTTCCTCCTTTCCAAAATGAGGACAAACAGGAGTTAGAGGGCCTGAGAGCCGACGCCTCACCAACACACCCAGGACAGCCCCCTCTACTCTCCCATTTATTTTCTTGACAGCCAACACCCCACTTAGCCATACGGAGTCCCTAAGTGGCACAGGCGGGCCGATGACAACTGTTTAAATCCAGCGCCCACGTTCAGTTGGGATATTCTGACCCACTCAGGGCTGCTCCATAAAGCAGCGCGTGTCCGGATGCAAGAGCACCGAGAACTCGAAACCTCTCTGTCAAGCTGCCCATTCGGGGTTAAGTTCAAAGACAGAGGACAAAGGAAACGGATAAAGCGTCCGATACAAGAATTACCCATTTCAGAGGCACAAGACGAAGAGCACAGGCGGTGTCAGGACATGTTAGGATCCGTCCCCAGCGCTGCCGTCCTCGTCCCCACAGCGCCCCGGGACACCTGTCCCCCACAGCCCAGCTGCTCCTGCAGCCCCTGGAGAAATCTGTACATTCCCTGCCTCTGGGCACACAGGGAGGCTGGCCTAGGGGAGGCCTGCAGGGGTCTTCGCACCCCGCGCCAGTGTCCCTGGGGCCGCTGCCAGGGAGGGAGCACGAGGTCCCCCAGGCGAGGTGACCCGCAGGAGGTTTTGTGACGTCGGACGGCCCAGGCCCCAGAGTGCTGTGTGTGCTGGGGGTGGAGGGTGGTCTCCGAGAGGAGCCGTCGGCATTTCAGGTTAGGCACCCGGCCGGTCGGGGGTACTTGCCTGGGCTGGGGGGCTGGGGAGTGCGCTCCACCCGGGAAGACCCGGGGCGCAGGTGCAGCCCCGCACGGGGACTCCGAGCCGAAGTAGCGGGTCAGGGCCCTCCCCAGGAGGTCGGCACCCAGGGCCCTTTGTCCTACTACAACGTCCCGGCCACGCCGCGCGCCCCTGTGGGCCGAGTCCCCGCCCGCACTCACTCACCCACGGTGGCCAGCGTGTCAAAGTCCTGCAGGCTGTACACAGGCGGCTCCGGCGACAGCGCCTCAGGGCTGGGGCAGAGCGCGGGCGCCCCGTCGGGGGTCTCCTCCGCCACCTTGCGGGAGTCGCTCTCCGCCGCGGCCGCCTGGGCCAGCCCGGGCGCCTCCATGGGGACGCACTCAGGTCCGGGGCACCGGGCCAGGCCGGAGCGCTCGGGGAGCCGGGCTTCCCGGGACGCAGCCTCGGAGGGCGGCGCGGCGGCGGCATCAACAGAGGCTCCCCATGCGCGCTCTCGCCTCCTGGTGCGCGGTCCGGCGCGGCTGACGGAGCGACGGGGACAATGGCTGGGCGGCGCTCACGGCACAAGCAGCAACGGCCCCGAGTGGGAGCAGCCGCCGGCCTCGGGGGGCGGGCACCGAGTGCGGGACGACTGCGGGGAAGGCGGGGGCCGCGGCCCGGGCTGGGGGGGGCGAGGCGGGGGCCCTGCGCATTCCGGGTCTCGCGCCCGCCGCCTCCTCCAGCTCGGTAGCCGCGTGCGCGCTGTTGGGGCGGGCGGAAGCCGCCTGGGCGTGACCGCGCCTCTCCCCGCCCTAACCCGGCCGCGGGGCTGGGGGCGTCGCCTTCGCGCGCGCTCCGCCCCCGCCCCGACCCAGCCCAGGAGCCGGAGACCCGGGCGTGCGGCGCTGGGGAGGTGCCCACGCCCCCTCCGCGCCCGGGGCACCCCTGGGGTGGGACCCAGGCTGACTTCTCCTCGGGGACGCACTGGCGGGCCACCCGCGTCGCTGCACCCAAGCCCGGAAGATGGGGAGGCGAGGGGGCCCGGGGACAGGGAGGGCGTAGCTCAGCAGAAGTGAAGTTCAAAACTAAAAAGTGAAACTGGCGTTTGGTGAAGAGAGGGGCTCGGATTAGCCCGGCTAATTTTTGTATTTTCTCAGTAGAGACAGGGTTTCACCATGTTGGCCAGGCTGGTCTGGAACTCCTGAGCACAAGTGAACCGCCTGCCTCGTTCTCCCAAAGTGCTGGGACTACAGGTATAAGCCACCACGCCCAGCCTCTGATTGGCTTTAAGTCATAGAAAATAGGATTGCTCAGCTGGCAATCTGCATACAGATCCCCTCTGCCCTCCCCCCAAAAAGTTCAGTACTCCTGCGGGTGCTTGTTTGGGACCTGAGAGAATTTGGAATGAGGGCGGATCCCCAAGAGGGGCTGCCGGGTCTTCGGGATGAGTTCAGCGTCCTGGTTTTGCTGTAGGACTCTGGTGATTCTAGATTTCTACTTGGAAGGGGCGGGGAAGGGCGGGCTCGACCCTGTGCGTTTCTTTGCAGCTTCCTGTGGATCTAGAATTCTTTACAAATAAACATTCCTTTAAAAAACTAGGGAAAGACAGATTTGAGAGATCGCCCGACCAAATGTAGTGCGTGAAACTTGATTGGTCACTGTTTCAAACACCCCGGCGACAACCCTATAAAGAATTGTGCAGAGGCATTTCAATTTCAGAAACCCCAAAGATTTTTTTTTCCTGGCTTAAGTGTGGCTCAGGCAATAGTTGGACATACTTATATTTAAAACCCATATCCGTGTGGATTTGAAATGCAAATATAGCTAGATATTTGGTCACCCCTTTCCCCAGGGAAATGCAGACAGTGCTTAACTTGCGGGCCTGGCACGGCCTGGACGCTGCGCCCCTGACCCGCGACCAGGGCGGCCCAGGCTGCCGGTTCGCCGACCACAGTTTGAGCAGCAAGGGGTCAAACTGCAAACGCCTTTGTTTTGAGGGATCTCAGCGATTCTGCGATTGGAGGGGGTCTCCAGTCCCTCAGTCCGCAGGTCAGGGGGGCTTTCCGAGAGCCAAA'"
   ]
  },
  {
   "cell_type": "markdown",
   "metadata": {},
   "source": [
    "Is there anything in Skittle Research we could use iso-surfaces for?\n",
    "* threshholding boundaries between DNA elements\n",
    "   * ...in Nucleotide Display when it's very zoomed out"
   ]
  }
 ],
 "metadata": {
  "kernelspec": {
   "display_name": "Python 3",
   "language": "python",
   "name": "python3"
  },
  "language_info": {
   "codemirror_mode": {
    "name": "ipython",
    "version": 3
   },
   "file_extension": ".py",
   "mimetype": "text/x-python",
   "name": "python",
   "nbconvert_exporter": "python",
   "pygments_lexer": "ipython3",
   "version": "3.4.3"
  },
  "name": "",
  "widgets": {
   "state": {
    "020964ee38394f2781a3545930202bb7": {
     "views": []
    },
    "025e109ed03b4cf0954b8b34dc174e53": {
     "views": []
    },
    "02945a1e32cd49ca8f959d2741c29117": {
     "views": [
      {
       "cell_index": 10
      }
     ]
    },
    "02e87129cb4d40b088c122a6f9bec103": {
     "views": []
    },
    "059f177d78b24b6285aa4a1d118f815a": {
     "views": []
    },
    "07a22ba640a0463780259ae83ee1e1d8": {
     "views": []
    },
    "08477110868c484c9e7c112872b399e7": {
     "views": []
    },
    "097cc5416e524548b1fe5955e4c18d5c": {
     "views": []
    },
    "0ca4511b76c744ff813e58ecca277897": {
     "views": []
    },
    "0d3fe78a44ce46f3b13c46a3c092c159": {
     "views": []
    },
    "0f9ede2ef3224af2b92d44fb1a6cd4fd": {
     "views": []
    },
    "114f23dbf8ed4ad09f5d3a6a67173535": {
     "views": []
    },
    "11ec0525681d4a0eafc4b9c03a69bb11": {
     "views": []
    },
    "18024954d9374271835543f70e66ff02": {
     "views": []
    },
    "1a01495b21454e4fac8301883764e564": {
     "views": []
    },
    "1c8ed33053f14b9797798004c7ea1dfe": {
     "views": []
    },
    "1d9588c447614b4ebaa465d6a06543bb": {
     "views": []
    },
    "1df0f1ba6adf453eb3d8b0673602d80a": {
     "views": []
    },
    "1f00f3149c7c4988b3746b7c6d6fd7b8": {
     "views": []
    },
    "1f60ac9ed80b4ecea2e59880ec8857d8": {
     "views": []
    },
    "218a05b85e6a427fba63080f45518538": {
     "views": []
    },
    "221f5fae14b641afa1de49d6604e658a": {
     "views": []
    },
    "25719aa69906498da288f2e6483e1516": {
     "views": []
    },
    "27c20959fddc4adcaae703681cd0a401": {
     "views": []
    },
    "27f0aaa113b54cfaa19a6d1d389b0372": {
     "views": []
    },
    "2bb93b29076d4736b74ecdc2c2b2fae0": {
     "views": []
    },
    "2e659bdb52f547ff883039c5a4ecbbb3": {
     "views": []
    },
    "2fb0cf6d96574b4a8c2902364a57a917": {
     "views": []
    },
    "2ff89cd9f2fa43f0a5fb1451555eb849": {
     "views": []
    },
    "31dcb76a14944f9091bac991af4594ad": {
     "views": []
    },
    "373983ca01274723a9ce45127737b255": {
     "views": []
    },
    "37b0d04ee6544b68be1944dfdd58629f": {
     "views": []
    },
    "39ee4fcad53c43daaa0efcf1f005bd16": {
     "views": []
    },
    "3bce0bf488404b22be8609b615c78791": {
     "views": []
    },
    "3cb3de7018a5497c9bd0de2887567e9d": {
     "views": []
    },
    "3cd97171ca7e42a5895015764a0ed434": {
     "views": []
    },
    "3dcb6f6cd08d44008bfb2e1bb8b9f687": {
     "views": []
    },
    "3ee3ae497b834054a30ba509f3560ac7": {
     "views": []
    },
    "407ab5d35f884f55a35fca1d460c73a7": {
     "views": []
    },
    "411865beb11b4944a20f633af7b3a085": {
     "views": []
    },
    "425973105b354608ac3d97d608a919b1": {
     "views": []
    },
    "4304c222134f499082fe028c7f9465ab": {
     "views": []
    },
    "43868291928e4ccd9701a10c3add0a17": {
     "views": []
    },
    "45fef7bace67409eb94180659d0fe78d": {
     "views": []
    },
    "4724c6c5fdcf4a358092ef6a85cc7e49": {
     "views": []
    },
    "49c020af854b48ccbbf50bf0c1022092": {
     "views": []
    },
    "4a44da132bec4764b6f401075643cf4a": {
     "views": []
    },
    "4a63758dcbaf484288e0252cab7f1c60": {
     "views": []
    },
    "4c739ec2042d43ae859b034a12f403ab": {
     "views": []
    },
    "4d0ef73f8e2c4c8980a20ff108fe88ea": {
     "views": []
    },
    "4e8f1c9ca98c4543b1cbf1db91ed5d67": {
     "views": []
    },
    "553eb3d4adb84872938401700d6684d7": {
     "views": []
    },
    "559dc38865334ce09f39e6095daab767": {
     "views": []
    },
    "5675e26f191d4a248fb19b2a010d4ae4": {
     "views": []
    },
    "58955cb7ca0344548a912eb3a105bff0": {
     "views": []
    },
    "59093c8ce9154eb0ae74d9fc400f2408": {
     "views": []
    },
    "5b0b441b21be4968bbff9fac008ff8ef": {
     "views": []
    },
    "5b88a425ee2e472db22469b78c2c9612": {
     "views": []
    },
    "61100d27e658410f9ae837cc46e3bc45": {
     "views": []
    },
    "61528b2cf33d4e1d8d31614dedce8fbe": {
     "views": []
    },
    "619a0e7ff30b46d4aac5012eacfb595c": {
     "views": []
    },
    "61e1d0dbb94242cdaff82b75852f5568": {
     "views": []
    },
    "61eb030c56ed43c8bafde152b0213f24": {
     "views": []
    },
    "639aac23ccd84eb6a8250f9309897d39": {
     "views": []
    },
    "660dd219651d4987824bd806e1328a19": {
     "views": []
    },
    "6a13ae3a5ae94dccb599d7ddcbae5f68": {
     "views": []
    },
    "6a790a58118a4bf0afb907194f95e7e8": {
     "views": []
    },
    "6ab0b72615ff4551824207befdd574d2": {
     "views": []
    },
    "6c4879277583452ba39c2e8d791b4202": {
     "views": []
    },
    "6fecbe4629f247d4b5b51d651a894f4d": {
     "views": []
    },
    "70279ac6ade54b1aaf600f336b43704f": {
     "views": []
    },
    "7512c1ab7eea4742a1f2071f54251ba3": {
     "views": []
    },
    "7737d93deb464360a64e34fa79ffc25b": {
     "views": []
    },
    "78355fcafc984b35962ec44dae0ca4ea": {
     "views": []
    },
    "79d9e497e10c4f23abe1dda56c0e7665": {
     "views": []
    },
    "7b14f04c1884492cad8a9e17ca6085c7": {
     "views": []
    },
    "7eb05a63a97d440fb0bec8926c7fc5b2": {
     "views": []
    },
    "8105ec2c5d194ac8a75491f68588e89c": {
     "views": []
    },
    "816fa6a9cb69478ba0405a411747ad14": {
     "views": []
    },
    "8397861a03af42a1a2274fad644910da": {
     "views": []
    },
    "83f98164ad784fa1a0d60c5f0e7c45c7": {
     "views": []
    },
    "86463e860ca941a2911b74a280017de4": {
     "views": []
    },
    "866e0326b4824890902e8ae10092ebcf": {
     "views": []
    },
    "8bdc374644a24728ae16330bf73f32c4": {
     "views": []
    },
    "8c4059e6106a4dc7a421f52aa0a6ae0a": {
     "views": []
    },
    "9194c959ac834f47a4d7d3f39679a31a": {
     "views": []
    },
    "94d1ba85c0394a289548751a1e566b39": {
     "views": []
    },
    "97c378e6b05946ea9f7f79e50b21cf8d": {
     "views": []
    },
    "97ed3d8c2f85466fa8117a09cffec8aa": {
     "views": []
    },
    "9859db014daa4a39a90d31c6469cff07": {
     "views": []
    },
    "98dd12d3cc2a430a90135aea459e54a3": {
     "views": []
    },
    "9abb69032eed4dc1b7e1b122521cc24f": {
     "views": [
      {
       "cell_index": 5
      }
     ]
    },
    "9c1c4c7b6cce4bb89a78cd1b6310a33e": {
     "views": []
    },
    "9d667c25f7394c0fb8069966c6a348a3": {
     "views": []
    },
    "9d8dc54484f5429e848942fb913cafbd": {
     "views": []
    },
    "9ffd71cb33274bb18d067d3644f59156": {
     "views": []
    },
    "a38c46b0cb5544efabd7322686820078": {
     "views": []
    },
    "a6bde4efd8204c048d9ad463a5ad4d37": {
     "views": []
    },
    "a6cbb06ff1e145848a7b91ec27ca8e89": {
     "views": []
    },
    "a733d3db5aba432ca7ad3caef0a22be7": {
     "views": []
    },
    "a75df62bb7be41cf88e21b00b556a17b": {
     "views": []
    },
    "a84cb05accf84f159476b1be206359f3": {
     "views": []
    },
    "a8db51de70444aeda65e77d799c1ca1d": {
     "views": []
    },
    "a8f12e80a6b44c5783502cf90222f6d0": {
     "views": []
    },
    "a8fd0c5dfa764fb3a8177676e4fed428": {
     "views": []
    },
    "aaee7494d90a4a92a0c180b317aeb155": {
     "views": []
    },
    "ae7388742dc84f3198453be8b35aa4d4": {
     "views": []
    },
    "afaedf7e855e4a209b3cde45796498ec": {
     "views": []
    },
    "afe3e64903444690904cfaccd9ee6fbe": {
     "views": []
    },
    "b0da858e11cc43c0a0876190f5420a5e": {
     "views": []
    },
    "b1c7428c92bd447aac9929cc1e74cef6": {
     "views": []
    },
    "b2e02e978a074b6ebefc42e3e74fcea5": {
     "views": []
    },
    "b557d9ed9afd44d4b2052ac4f843ecbe": {
     "views": []
    },
    "b634f7db6e0d480aaa85e754055c0cff": {
     "views": []
    },
    "b73a18ef9ab74615b41e04e5ac315806": {
     "views": []
    },
    "b8affb4d24fb405680c9c7ec6f2103b1": {
     "views": []
    },
    "bb6f7fca880a4f5d97d70e5affcdf97d": {
     "views": []
    },
    "bf06bc5a80734a5d897bfc3ba0d6ee1f": {
     "views": []
    },
    "bfa9bc1b9caf45638a82633984c3a373": {
     "views": []
    },
    "c275b5dd1fe040eb89e1d16cfe229395": {
     "views": []
    },
    "c2a3b17f40f8497ba62ef678a12cc28d": {
     "views": []
    },
    "c2f61bddb16e46a4a15e458679ed1df5": {
     "views": []
    },
    "c3e987e9a6024d86a86819f9602f4998": {
     "views": []
    },
    "c48b89bf01554049884d9e7d05bd28ba": {
     "views": []
    },
    "c899f90166df4b0fb9eaecd9a43a793f": {
     "views": []
    },
    "c8e5d4fab0fd4299a691af8f38861aea": {
     "views": []
    },
    "c9bf484d87f349c5841f737b4d1482b4": {
     "views": []
    },
    "cc06464a784044afa7abbbc6f30d91c2": {
     "views": []
    },
    "cd9c6b1c6b804722ba9cf6589fd55698": {
     "views": []
    },
    "cedee98f1bdb4a059a929adac62816bc": {
     "views": []
    },
    "cfc7d061482b46b5abf4a51b365d8655": {
     "views": []
    },
    "cfe0ec2e8abb474082250df65bf6a854": {
     "views": []
    },
    "d2c22e6f244243bcab747a4985af9279": {
     "views": []
    },
    "d2d186c2c91b4c68bba43db71b9cfa6f": {
     "views": []
    },
    "d4330046f9734083b634359ec941edce": {
     "views": []
    },
    "d7ca5ec1335a4ba2abdfab8a4c8a5aa8": {
     "views": []
    },
    "d8c9a134f8124e8db241d3a0557590ee": {
     "views": []
    },
    "da4ee218d42d450291921b3f21883284": {
     "views": []
    },
    "dc1a30152b744453acb46c4086face88": {
     "views": []
    },
    "dc6837d0b89147efa41a79eea2e8c5ee": {
     "views": []
    },
    "ddb0c7b4c6dc441c8c40f4064a5debfb": {
     "views": []
    },
    "e1cf98958c024af8a84aedefcb00c840": {
     "views": []
    },
    "e412289cae574941806f9b83642f5baf": {
     "views": []
    },
    "e993ee9e9ae744dcbba572ca76df4676": {
     "views": []
    },
    "eb40c75038374b26b132adc433390e7a": {
     "views": []
    },
    "eb49c491e5fd4045a4d0d682c0c47927": {
     "views": []
    },
    "ebceca655087491caf253b9f918990bf": {
     "views": []
    },
    "edb485e8f5af47899b6f9a3b55781807": {
     "views": []
    },
    "eeadf24f099843f8b2a5a9b26ac73917": {
     "views": []
    },
    "eee1b2b950784212a4d12777336bf24a": {
     "views": []
    },
    "f035cedac43747ae8d9a094b825f1500": {
     "views": []
    },
    "f1ae0593e9bf478fa9523a89a1dc206a": {
     "views": []
    },
    "f640aeffd91a4bf08b3b24ed5f9bccae": {
     "views": []
    },
    "f692ab17ff674a5daa766d094af5299a": {
     "views": []
    },
    "f7efe6ed8cfb43f689c95b938c7457f1": {
     "views": []
    },
    "fbae962b04b840a6b74249c18af4202f": {
     "views": []
    },
    "fcbb52ca2b424860a9cbebfc01c68458": {
     "views": []
    },
    "fea2d0c2f8aa4ebda4960783aca6622d": {
     "views": []
    },
    "fee868e0a6d7463db439cbe9d70ef306": {
     "views": []
    },
    "ff6b44debdb0468882f7087920ab15a9": {
     "views": []
    }
   },
   "version": "1.1.2"
  }
 },
 "nbformat": 4,
 "nbformat_minor": 0
}
