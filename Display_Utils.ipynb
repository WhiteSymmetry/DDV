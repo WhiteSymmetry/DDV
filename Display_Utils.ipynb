{
 "cells": [
  {
   "cell_type": "code",
   "execution_count": 1,
   "metadata": {
    "collapsed": false
   },
   "outputs": [],
   "source": [
    "%matplotlib inline\n",
    "# from pylab import *\n",
    "# from math import ceil\n",
    "# from PIL import Image"
   ]
  },
  {
   "cell_type": "code",
   "execution_count": 27,
   "metadata": {
    "collapsed": true
   },
   "outputs": [],
   "source": [
    "from ipywidgets import interact, interactive, fixed, widgets\n",
    "from ipywidgets.widgets import IntSlider\n",
    "import matplotlib.pyplot as plt\n",
    "from matplotlib.pyplot import imshow\n",
    "from IPython.display import clear_output, display, HTML\n",
    "from PIL import Image"
   ]
  },
  {
   "cell_type": "code",
   "execution_count": 81,
   "metadata": {
    "collapsed": true
   },
   "outputs": [],
   "source": [
    "class Pic():\n",
    "    def __init__(self, data, width=None, height=None, start=None, show_plot=True):\n",
    "        self.width = width if width else int(sqrt(len(data))) #TODO: 2D arrays\n",
    "        self.height = height if height else int(ceil(len(data) / width))\n",
    "        self.start = start if start else 1\n",
    "        self.data = data\n",
    "        self.show_plot = show_plot\n",
    "        \n",
    "    def set_width(self, width):\n",
    "        self.width = width\n",
    "        self.height = int(ceil(len(self.data) / width))\n",
    "        #you could clip the data...  self.data = self.data[:width*self.height]\n",
    "        \n",
    "    def show(self):\n",
    "        im = Image.new('L', (self.width, self.height))\n",
    "        im.putdata(self.data[self.start-1:])\n",
    "        if self.show_plot:\n",
    "            imshow(im, cmap=cm.Greys_r, interpolation='nearest')\n",
    "        return im\n",
    "        \n",
    "    def __repr__(self):\n",
    "        self.show()  #this actually get the graph out there\n",
    "        return str((self.width, self.height))\n",
    "    \n",
    "    def update(self, sequence='', width=None, start=None): # for use with interact(update, ...)\n",
    "        if sequence: self.data = sequence\n",
    "        if width: self.set_width(width)\n",
    "        if start: self.start = start  \n",
    "        if self.show_plot:\n",
    "            self.show() #display to screen\n",
    "        \n",
    "    def gui(self):\n",
    "        length = len(self.data)\n",
    "        return interactive(self.update, \n",
    "                           sequence=self.data, \n",
    "                           width=IntSlider(min=1, max=length//2, value=self.width), \n",
    "                           start=IntSlider(min=0, max=length,    value=self.start))"
   ]
  },
  {
   "cell_type": "code",
   "execution_count": 82,
   "metadata": {
    "collapsed": true
   },
   "outputs": [],
   "source": [
    "from collections import defaultdict\n",
    "from math import sqrt, ceil\n",
    "\n",
    "class NucleotideDisplay(Pic):\n",
    "    color_map = defaultdict(lambda: (255, 255, 255), A=(255, 0, 0), G=(0,255,0), C=(0, 0, 255), T=(250, 240, 114)) #color RGB\n",
    "    def __init__(self, data, show_plot=True):\n",
    "        width = int(sqrt(len(data)))\n",
    "        super().__init__(data, width=width, show_plot=show_plot)\n",
    "        \n",
    "    def show(self):\n",
    "        im = Image.new('RGB', (self.width, self.height), \"white\")\n",
    "        im.putdata(self.nucleotide_to_color(self.data[self.start-1:]))\n",
    "        if self.show_plot:\n",
    "            imshow(im, interpolation='nearest')\n",
    "        return im\n",
    "        \n",
    "    def nucleotide_to_color(self, sequence):\n",
    "        #Pad with extra gray pixels?\n",
    "        return [self.color_map[nucleotide] for nucleotide in sequence]"
   ]
  },
  {
   "cell_type": "code",
   "execution_count": 83,
   "metadata": {
    "collapsed": true
   },
   "outputs": [],
   "source": [
    "nd = NucleotideDisplay(human_sample)"
   ]
  },
  {
   "cell_type": "code",
   "execution_count": 84,
   "metadata": {
    "collapsed": false
   },
   "outputs": [
    {
     "data": {
      "image/png": "[encoded data removed]",
      "text/plain": [
       "<matplotlib.figure.Figure at 0x8098dd8>"
      ]
     },
     "metadata": {},
     "output_type": "display_data"
    }
   ],
   "source": [
    "nd.gui()"
   ]
  },
  {
   "cell_type": "code",
   "execution_count": null,
   "metadata": {
    "collapsed": true
   },
   "outputs": [],
   "source": []
  },
  {
   "cell_type": "code",
   "execution_count": 85,
   "metadata": {
    "collapsed": true
   },
   "outputs": [],
   "source": [
    "\"\"\"From tonysyu.github.io\"\"\"\n",
    "def imshow_pair(image_pair, titles=('', ''), figsize=(10, 5), **kwargs):\n",
    "    fig, axes = plt.subplots(ncols=2, figsize=figsize)\n",
    "    for ax, img, label in zip(axes.ravel(), image_pair, titles):\n",
    "        ax.imshow(img, interpolation='nearest', **kwargs)\n",
    "        ax.set_title(label)\n",
    "        \n",
    "# def interactive_convolution_demo(image, kernel, **kwargs):\n",
    "#     stepper = make_convolution_step_function(image, kernel, **kwargs)\n",
    "#     start_slider = IntSliderWidget(min=0, max=100, value=0)\n",
    "#     widgets.interact(stepper, i_step=start_slider)"
   ]
  },
  {
   "cell_type": "code",
   "execution_count": 86,
   "metadata": {
    "collapsed": true
   },
   "outputs": [],
   "source": [
    "class AlignmentDisplay():\n",
    "    def __init__(self):\n",
    "        self.start = 0\n",
    "        self.human = NucleotideDisplay(human_sample, show_plot=False)\n",
    "        self.chimp = NucleotideDisplay(chimp_sample, show_plot=False)\n",
    "        \n",
    "    def update(self, start=None):\n",
    "        self.human.update(start=start)\n",
    "        h1 = self.human.show()\n",
    "        c1 = self.chimp.show()\n",
    "        imshow_pair((h1, c1), ('Human', 'Chimp'))\n",
    "#         human_unique = NucleotideDisplay()\n",
    "        \n",
    "    def gui(self):\n",
    "        length = len(human_sample)\n",
    "        return interactive(self.update, \n",
    "                           start=IntSlider(min=0, max=length,    value=self.start))"
   ]
  },
  {
   "cell_type": "code",
   "execution_count": 87,
   "metadata": {
    "collapsed": false
   },
   "outputs": [
    {
     "data": {
      "image/png": "[encoded data removed]",
      "text/plain": [
       "<matplotlib.figure.Figure at 0x167f748>"
      ]
     },
     "metadata": {},
     "output_type": "display_data"
    }
   ],
   "source": [
    "align = AlignmentDisplay()\n",
    "align.gui()"
   ]
  },
  {
   "cell_type": "code",
   "execution_count": null,
   "metadata": {
    "collapsed": true
   },
   "outputs": [],
   "source": []
  },
  {
   "cell_type": "code",
   "execution_count": null,
   "metadata": {
    "collapsed": true
   },
   "outputs": [],
   "source": []
  },
  {
   "cell_type": "code",
   "execution_count": null,
   "metadata": {
    "collapsed": true
   },
   "outputs": [],
   "source": []
  },
  {
   "cell_type": "code",
   "execution_count": 8,
   "metadata": {
    "collapsed": false
   },
   "outputs": [
    {
     "data": {
      "text/plain": [
       "['Accordion',\n",
       " 'BoundedFloatText',\n",
       " 'BoundedIntText',\n",
       " 'Box',\n",
       " 'Button',\n",
       " 'CallbackDispatcher',\n",
       " 'Checkbox',\n",
       " 'Color',\n",
       " 'ColorPicker',\n",
       " 'Controller',\n",
       " 'DOMWidget',\n",
       " 'Dropdown',\n",
       " 'EventfulDict',\n",
       " 'EventfulList',\n",
       " 'FlexBox',\n",
       " 'FloatProgress',\n",
       " 'FloatRangeSlider',\n",
       " 'FloatSlider',\n",
       " 'FloatText',\n",
       " 'HBox',\n",
       " 'HTML',\n",
       " 'Image',\n",
       " 'IntProgress',\n",
       " 'IntRangeSlider',\n",
       " 'IntSlider',\n",
       " 'IntText',\n",
       " 'Label',\n",
       " 'Latex',\n",
       " 'Layout',\n",
       " 'Output',\n",
       " 'PlaceProxy',\n",
       " 'Proxy',\n",
       " 'RadioButtons',\n",
       " 'Select',\n",
       " 'SelectMultiple',\n",
       " 'SelectionSlider',\n",
       " 'Tab',\n",
       " 'Text',\n",
       " 'Textarea',\n",
       " 'ToggleButton',\n",
       " 'ToggleButtons',\n",
       " 'VBox',\n",
       " 'Valid',\n",
       " 'Widget',\n",
       " '__builtins__',\n",
       " '__cached__',\n",
       " '__doc__',\n",
       " '__file__',\n",
       " '__loader__',\n",
       " '__name__',\n",
       " '__package__',\n",
       " '__path__',\n",
       " '__spec__',\n",
       " 'domwidget',\n",
       " 'eventful',\n",
       " 'fixed',\n",
       " 'handle_version_comm_opened',\n",
       " 'interact',\n",
       " 'interact_manual',\n",
       " 'interaction',\n",
       " 'interactive',\n",
       " 'jsdlink',\n",
       " 'jslink',\n",
       " 'register',\n",
       " 'trait_types',\n",
       " 'widget',\n",
       " 'widget_bool',\n",
       " 'widget_box',\n",
       " 'widget_button',\n",
       " 'widget_color',\n",
       " 'widget_controller',\n",
       " 'widget_float',\n",
       " 'widget_image',\n",
       " 'widget_int',\n",
       " 'widget_layout',\n",
       " 'widget_link',\n",
       " 'widget_output',\n",
       " 'widget_selection',\n",
       " 'widget_selectioncontainer',\n",
       " 'widget_serialization',\n",
       " 'widget_string']"
      ]
     },
     "execution_count": 8,
     "metadata": {},
     "output_type": "execute_result"
    }
   ],
   "source": [
    "[widget for widget in dir(widgets)]"
   ]
  },
  {
   "cell_type": "code",
   "execution_count": 2,
   "metadata": {
    "collapsed": true
   },
   "outputs": [],
   "source": [
    "human_sample = \"\"\"ATATAGTAGGTTTTGAAGGAACATACTTCAATAATAAGAGCCATCTACCTATGACAAACTCACAGCCAACATCATACTGAATGGGCAAAAGCTGAAAACA\n",
    "CTCCCCTTCAACATCAGCACAAAACAAAGATGCCCTCTCTCATCACTCCTATTCACCATAGTATTGGAAGTCCTGACCAGGGCAATGAAGCAAGAGAGAA\n",
    "AAAATAAACGTATTGAAATAAGAAGAGAAGAAGTCAAACTATCCCTGTGTGCAGACAACATGATCCTGTATTCAGAAAACCCCCATAGCCTCAGCCCAAA\n",
    "TGCTTCTTCAGCTGATAAGCAATTTCAGCAAAGGCTCAGAATAGAAAATCAATGTGCAAAATCACTTATATTTTTATACACCAACAACAGTTAATTTGAG\n",
    "AGCCAAATCAGAAAGGCAATTTCATTCACAATTGCCACAAAAAATAAAATACCTAGAAATACAGCTATCCAGGGAGCTGAAAGATCTCTACAAGGAGAAC\n",
    "TACAAACCACTGCTCAAAGAAATCAGAGATAACACAAATAAATGAAAATAAAATTCCATGATCACGGAGAGGAAGAATCAATATTGTTAAAATGGCCATA\n",
    "CTGCCCAAAGCAATTTACAGACTCAATGCTATTCCTATTAAACTAACATTGACATTCCTCACAGAACTAGAAAAAACTATTTTAAAAATCATATGGACCT\n",
    "GAAAAAGAGCCCAAATAGCCAGGGTAATCCTAAGCAAAAGAAAAAAGCTGAAAACATCATGCTTCCCAACTTAAAACTATATGACATGACTGCACTCTAG\n",
    "CCTGGGTGACATAGCGAGACTCTGTCTAAAAAAAAAGAAAAAAAGAAAAAAAGAAAAAAACTATATGACATGGCTACAGTAATCAAAACAGCATGGTACT\n",
    "GATGCAAAAACAGACACATAGACAAATGGAAAAAATAGAATACCCAGAAATAAGGTCACACACCTACAAGTACTCGATCTTCAACAATCCTGACAAAAAC\n",
    "AAGGAATAGGAAAAGAAACCCCTATTCAATAAATGGTGCTGGGGTAACTGGCTAGCTATATGCAGAAGATTAAATTTGGAGCCCTTCCTTACACCATACA\n",
    "CAAAAATTAACTCAAGATGGATAAAAACTTAAATGTAAAACCCCAAACTATAAAAACCCTGGAAGGTAACCTAAGCAGTGCCATTCTGGACATTGGAACA\n",
    "AACAAGGATTTCATGATGAAGACACCAAAAGCCATTGCAACAAAGGCAAAAATTCACAAATGAGATTTAATTAAACTAAAGAGCTTCTGTGCAGCAAAGG\n",
    "AAACTATCAACAGAGTAAACAGACAACTTACAGAATGGAAGAAAATTTTTGCAAACTATGCATCTGACAAAGGTCTAATATCCAGTATCTATCAGGAACT\n",
    "TAAATTTATAAAGAAAAGAGCCAAACAATTCCATTAAAATAGGCAAAAATCATGAAGAGACACTTTTCAAAAGAAGACATACATGTGGCCAATGATCATA\n",
    "TGGAAAAAATCTCAACATCACTGATTATTAGAGAAATGCAAATGAAAACTACAATGAGATACCGTCTTATACCAGTCAGAATGGCTATTATTAAAAAGTC\n",
    "AAAAAATTAAAGATGCTGCAGAGGTTGCAGAGAAAAGAATGCTTATACACTGTTGGTGGGAGTGTAAATTATTTCAACCACTGTGGAAAACAGTGTGGTG\n",
    "ATTCCTCAAAGACCTAAAGACAAAAATACCACTTGATCCAGCAATCCTATTACTGGGTATATACCCAAAGTTATATAAATCATTCTATTATAAAGATACA\n",
    "TGCATACATATGTTCTTTCCAGTACTATTCAAAATAGCAAAGACATGAAAGGAATGTAAACACCCATCAATGGTAGACTGGATAAAGAAAATATGGTACA\n",
    "TATACACAATGGAATACTATGCAGTCATAGAAAAGAATGAGGTTATGTTCTTTGCAGGAACATGGATAGAGCTGGAGGCCATTATCCTTAGCAAACGAAT\n",
    "GCAGGGTCAGAAAACCAAATACCACATGTTTTCACTGATAAGTGGGGGCTAAATGATAAGAACACATGGACACATAGAGGGAAACAACACACACTGGGTC\n",
    "TATTGCAGGGTGGAGGGTGGGACAAGGGAGTGGGTCAGCAAAAATAACTAATCGGTACTAGGCTTAATAGCTGGGTGATGAAACAATCTATACAACAAAC\n",
    "CACCATGACACAAGTTTACCTACATAAGAAACCTGTGCATGTACACCTGAACTTAAAATATAAGTTAAAAAGTGAATTATTGGACAGGGCGTGGTGGCTC\n",
    "ACGCTTGTAGTTCCATCACTTTGGGAGGCCAAGGCAGGCAGATCACAAGGTCAGGAGTTCGAGACAAGCCTGACCAACATGGTGAAACCCCATCTCTACT\n",
    "AAAAATACAAAAATTAGCCAGGCATGGTGGTGCATGCCTGTAATCCCAGCTTCTCAAGAGGCAAGCCTCATGGTAATTACAAAGAAAAACCTACAATAGA\n",
    "CACAAAAAAGAAAAAAAGAAAAGAGTCAAAGTGTATCACTACAAAAATAATAAAATCACAAATACAGATAGCAAGAGAGGAAGACAGAAACAGAAGAACT\n",
    "ACAAAACGGACAGAAAATAATTAGTAAAATGGCAATAAGAAGTTCTTACTTTTTTCATTATACTTTAAGTTTTAGGGTACATGTGCACAACGTGCAGGTT\n",
    "AGTTACATATGTATACATGTGCCATGTTGGTGTGCTGCACCCATTAACTCGTCAATTAACATTAGATATATCTCCTAATGCTTTCCCTCCCCTCTCCCCA\n",
    "CACCCCACAACAGGCCCCGGTGTGTGATGTTCCCCTTCCTGTGTCCATGTGTTCTCATTGTTCAATTCCCACCTGTGAGTGAGAATATGCGGTGTTTGGT\n",
    "TTTTTGTCCTTGCGATAGTTTGCTGAGAATTATGGTTTCCAGCTTCATCCATGTCCCTACAAAGCACATAAACTCATCCTTTTTTATGGCTGCATATATT\n",
    "CCATGGTATATATGTGCCACATTTTCTTAATCCAGTCTATCATTGTTGGATATTTGGGTTGGTTCCAAGTCTTTGCCATTGTGAATAGTGCCGCAATAAA\n",
    "CATACATGTGCATGTGTCTTTATATCAGCATGATTTATAATCCTCAGGGAATATACCCAGTAATGGGATGGCTGGGTCAAATGGTAATTCTAGTTCTAGA\n",
    "TCCCTGAGGAATCGCCACACTGAGTTCCACGATGGTTGAACTAGTTTACAGTCCCACCAACAGTGTAAAAGTGTTCCTATTTCTCCACATCCTCTCCAGC\n",
    "ACCTGTTGTTTCCTGACTTTTTAATGATCGCCATTCTAACTGGTGTGAGATGGTATCTCATTGTGGTGTTGATTTGCATTTCTCTGATGACCAGTAATGA\n",
    "TGAGCATTTTTTCATGTTTTTTGGCTGCATAAATGTCTTCTTTGGAGAAGCATCTGTTCATATCCTTCGCCCACTTTTTGATGTGGTTGTTTGTTTTTTT\n",
    "GTTGTACATTTGTTTGAGTTCTTTGTAGATTCTGGATATTAGCTCTTTGTCAGATGGGTGGATTGCAAAAATTTTCTCCCATTCTGTAGGTTGCCTGTTC\n",
    "ACTCTGATGGTAGTTTCTTTTGCTGTGCAGAAGCTCTTTAGTCCAATTAGATCCCATTTGTCAATTTTGTCTTTTGTTGCCATTGCTTTTGGTGTTTTAG\n",
    "ACATGAAGTCCTTGCCCATGCCTATGTCCTGAATTGTATTGCCTATGTTTTCTTCTAGGGTTTTTATGGTTTTAGGTTTAACATTGAAGTCTTTAATCCA\n",
    "TCTTGAATTAACTTTAGTATAAGGTGTAAGAAAGGGATCCAGTTTCAGCTTTCTCCATGTGGCTAGCCAGTTTTCCCAAGCACCATTTATTAAATAGGGA\n",
    "ATCCTTTCCCCATTTCTTGTTTTTGTCAGGTTTGTCAAAGATCAGATAGTTGTAGATATGCGGCATTATTTCTGAGGGCTTTGTTCTGTTCCATTGGTCT\n",
    "ATATCTCTGTTTTGGTACAAGTACCATGCTGTTTTGGTTACTGTAGTCTTATAGTATAGTTTGAAATCAGGTAGCGTGATGCCTCCAGCTTTGTTCTTTT\n",
    "GGCTTAGGATGGACTTGGCAATGTGGGCTCTTTTTTAGTTCCATATGAACTTTAAAGTAGTTTTTTCCGATTCTGTAAAGAAAGTCATTGGTAGCTTGAT\n",
    "GGGGATGGCTTTGAATCTATAAATTACCTTGGGCAGTATGGCCATTTTCATGATATAGGTTCTTCCTACTCATGAGCATGGAATGTTCTTCCATTCGTTT\n",
    "GTATCCTCTTTTATTTCATTGAGCAATGGTTTGTAGTTCTCCTTGAAGAGGTCCTTCACATCCCTTGTAAGTTGGATTTCTAGGTATTTTATTCTCTTTG\n",
    "GAGCAATTGTGAATGGAAGTTCACTCATGATTTGGCTCTCTGTTTGTCTCTTATTGGTGTATAAGAACGCTTGTGATTTTTGCATGTTGATTTTGTATCT\n",
    "TGAGACTTTGCTGAAGTTGCCTATCAGCTTAAGGAGATTTTGGGCTGAGAAGATGGGGTTTTGTAGATATACAATCATGTCAGCTGCAAATAGGGACAAT\n",
    "TTGACTTCCTCTTTTCCTAATTGAATACCGTTTATTTCCTTCTCCTGACTGATTGCCCTGGCCAGAACTTCCAATACTATGTTGAATAGGAGTGGTGAGA\n",
    "GAGGGCATCTGTGTCTTGTGCCAGTTTTCAAAGGGAATGCTTCCAGTTTTTGCCCATTCAGTATGACATTGGCTGTGGGTTTGTCATAGATAGCTATTAT\n",
    "TATTTTAAGACATGTCCCATCAATACCTAATTTATTGGGAGATTTTAGCATGAAGCACTGTTGAATTTTGTCAAAGGCCTTTTCTGCATCTATTGAGATA\n",
    "ATCATGTGGTTTTTGTCTTTCGTTCTGTTTATATGCTGGATTACATTTATTGATTTGTGTATGTTGAACCAGCCTTGCATCCCAGGGATGAAGCCCGATT\n",
    "GATCACGGTGGATAAGCTTTTTGATGTGCTGCTGGATTCGGTTTGCCAGTATTTTATTGAGGATTTTTGCATTGATGTTCATCAGGGATATTGGTCTAAA\n",
    "ATTCTCTTTTTTTTGTTGTGTCTCTGCCAGGCTTTGGTATCAGAATGTTGCTGGCCTCATAAAATGAGTTAGGGAGGATTACCTCTTTTTCCATTTATTG\n",
    "GAATAGTTTCAGAAGGAATGGTACCAGCTCCTCCTTGTACCTCTGGTAGAATTCTGCTGTGAATCCATCTGGTCCTGGACTTTTTTTGGTTGGTAAGCTA\n",
    "TTAATTATTGCCTCACTTTCAGAGCCTGTTATTGGTCTATTCAGAGATTCAACTTCTTCCTGGTTTAGTCTTGGGATGGTGTATGTGTCAAGGAATTTAT\n",
    "TCATTTCTTCTAGATTTTCTAGTTTATTTGCATAGAGGTGTTTATAGTATTCTCTGATGGTAGTTTGTATTTCTGTGGGATCGGTGGTGATATCCCCTTT\n",
    "ATCATTTTTTATTGCGTCTATTTGATTCTTCTCTGTTTTCTTCTTTATTAGTCTTGCTGGTGGTCTATCAATTTTGTTGATCTTTTCAAAAAACCAGCTC\n",
    "CTAGATTCATTGATTTTTTGAAGGGTTTTTTGTGTCTCTATTTCCTTCAGTTCTGCTCTGATCTTAGTTATTTCTTGCCTTCTGCTAGCTTTTGAATGTG\n",
    "TTTGCTCTTGCTTCTCTAGTTCTTTTAATTATGATATTATGGTGTCAATTTTAGTTATTTCCTGCTTTCTCTTGTGGGCATTTAGTGCTATAAATTTCCC\n",
    "TCTACACACTGCTTTGAATGTGTCCCAGAGATTCCGGTATATTGTGTCTCTGTTCTCGTTGGTTTCAAAGAACATCTTTATTTCTGCCTTCATTTCATTA\n",
    "TGTATCCAGTAGTCATTCAGGAGCAGGTTTTTCAGTTTCCATGTAGTTGAGTGGTTTTGAGTGATTTTCTTAATCCTGAGTTCTAGTTTGATTGCACTGT\n",
    "GGTCTGAGAGAGAGTTTGTTATAATTTCTGTTGTTTTACATTTGCTGAGGAGTGCTTTACTTCTAACTATGTGGTCAATTTTGGAATAGGTGTGGTGTGG\n",
    "TGCTGAAAAGAATGTATATTCTGTTGATTTGGGGTGGAGAGTTCTGTAGATGTCTATTAGGTCCACTTGGGTGCAGAGATGAGTTCAATTCCTGCATATC\n",
    "ATTGTTAACTTTCTGTCTCGTTGATCTGTCTAATGTTGACAGTGGTGTCAAAGTCTCCCATTATTATTGTGTGCAAGTCTAAGTCTCTTTCTAGGTCTCT\n",
    "AAGGACTTGCTTTATGAATCTGGGTGCTCCTGTATTGGGTGCATATATATTTAGGATAGTTAGCTCTTCTTGTTGAATTGATCCCTTTACCATTATGTAA\n",
    "TGGCCTTCTTTGTCTCTTTTGATCTTCATTGGTTTGAAGTCTTTTTTATCAGAGACTAGGATTGCAACCCCTGCCTTTTTTTGTTTCCCATTTACTTGGT\n",
    "AGATCTTCCTCCATCCCTTTATTTTGAGCCTATGTGTGTCTCTGCACATGAGATGGGTTTCCTGAATACAGCACACTGATGGGTCTTGACTCTTTATCCA\n",
    "ATTTGTCAGTCTGTGTCTTTTAATTGGAGCATTTAGCCCATTTACATTTAAGGTTAATATTGTTCTGTGTGAATGTGATCCTGTTGTTATGATGTTAGCT\n",
    "GGTTATTTTGCTCATTAGTTGATGCAATTTCTTCCTAGCCTCAATGGTCTTTACAATTTGGCATGTTTTTGCAGTGGCTGGTACCAGTTGTTCCTTTCTA\n",
    "TGTTTAGTGCTTCCTTCAGGAGCTCTGTTAGGGCAGGCCTGATGGTGACAAAATCTGTCAGCATTTGCTTGTCTGTAAAGGATTTTATTTCTCCTTCACT\n",
    "TATGAATGTTAGTTTGGCTGGATATGAAATTCTGGGTTGAAAATTCTTTTCTTTAAGAATGATGAATATTGGCCCCCACTCTCTTCTGGCTTGTAGAGTT\n",
    "TCTGCCGAGAGATCCACTGTTATTCTGATGGGCTTCCCTTTGTGCATAACCCGACCTTTCTCTCTAGCTGCCCTTAACATTTTTTTCCTTCATTTCAACT\n",
    "TTGGTGAATCTGACAATTATATCTTGGAGTTGCTCTTCTCAAGGAGCATCTTTTTGGCATTCTCTGTGTTTCCTGAATTTGAATATTGGCCTGCCTTGTT\n",
    "AGATTGGGGAAGTTCTCCTGGATAATGTCCTGCAGAGTGTTTTCCAACTTGGTCCCATTCTCCCCGTCACTTTCAGGTACACCAATCAGAAGTAGATTTG\n",
    "GTCTTTTCACATAGTCCCATATTTCTTGGTGGCTTTGTTCATTTCTTTTTGTTCTTTTTTCTCTAAACTTCTCTTCTCACTTCATTTCATTCATTTGATC\n",
    "TTCCATCACTGATACTCTTTCTTCCAGTTGATCGAATCAGCTACTGAGGCTTGTGGATTTGTCACACAGTTCTCATGCCATGGTTTTCAGCTCCATCAGG\n",
    "TCCTTTAAGGACTTCTCTGCATTTGTTATTCTAGTTAGCCATTCATCTAATTTTTTGAAGGTTTTTAACTTCTTTGCCATGGGTTCGAACTTGCTCCTTT\n",
    "AGCTTGGAGTAGTTTGATCATCTGAAGCCTTCTTCTCTCAACTCATCAAAGTCGTTCTCCTTCCAGGTTTGTTCTGTTGCTGGTGAGAAGCTGTGTTCCT\n",
    "TTGGAGGAGGAGAGGCACTCTGATTTTTAGAGCTTCCCGTTTTTCTGCTCTGTTTTTTCCCCATCTTTGTGGTTTTATCTACCTTTGGTCTTTGATGATG\n",
    "GTGACATACCGACAGGGTTTTGGTATGGATGTCCTTTCTGTTTGTTAGTCTTTGAGGTCCACTCCAGACCCTGTTTACCTGGGTATCCGCAGCAGAGGCT\n",
    "GCATAACAGCAGATATTGGTGAACAGCAAATGTTGCTGCTTGATTTTTCCTCTGGAAGTTTTGTCTCAGAGGAGTACCCGGCTGTGTGAAGTGTCAGTCT\n",
    "GCCACTACTGGGGGGTGCCTCCCAGTTAGGCTACTCTGGGGTCATTGACCCACGTGAGGAGACTGTCTGTCCATTCTCAGATCTCAAGCTGCATGCTGGG\n",
    "AGAACCACTACTCTCTTCAAAGCTGTCAGACAGGGACCTTTAAGTCTGCAGAGGTTTCTGCTGCCTTTTGTTTGGCTATGCCCTGCCCCCAGAGGTGGAG\n",
    "TCTACAGAGGCACGCAGGCCTCCTTGAGCTGTGGTGGGCTCCACCCAGTTTGAGCTTCCTGGCTGCTTTGTTTACCTACTCAAGCCTCAGTAATGGCGGG\n",
    "CGCCCCTCCTCCAGCCTTGCTGCCTCCTTGCAGTTTGATCTCAGACTGCTGTTCTAGCAATGAGTGAGGCTCTGTGGGCATAGGACCCTCCAAGCCATGC\n",
    "GTGGGATATAATCTCCTGGTGTGCTGTTTGCTAAGACCATTGGAAAAACACAGTATTGTGGGGGGAGTGACCCAATTTTCCAGTTGCTGTCTGTCACCCC\n",
    "TTTCTTTGACTAGGAAAGGGAATTCCCTGACCCCTTGAGCTTCCCAGGTGAGGTGATGCCTCACCCTGCTTTGGCTCATGCTCGGTGCACTCCACCCACT\n",
    "GTCCTGCACCCACTATCTGACACTCCCCAGTGAGATGAACCCAGTACCTCAGTTGGAAATGCAGAAATCACCCATATTCTGCCAGAAGTTCTTACATTGT\n",
    "AATAATTACTTTATGTAAAAATGAATTACAGTTTATATAGAGTGAATAGATAGAAAACAAGATCAAGCTCTATGCTGTCTACCAGAGACTCATTTTTGAT\n",
    "TTAAGTACACACTTAAGCTGAAAGTGAAAATGTAGAATAAAATATGATTGCAAATGGTATTTAAAAGGGAGCGGGGGGGCTCTATCTATATCAGACATAA\n",
    "TAGACCTCAAGCCATAAACTCACAAGGGCCTAAGAAGGTCATCACATAATGAAAATAGGGTTAGTTCAGCAAGGTGATATAACAATTGTAAATATATATG\n",
    "CATCCAATATCAAAATGTCTAGTTATATAAAGAAAAGATTGACATGTCCATAAGAAGAAATAGGCAATAAAATAAGTATAGAAGACTTTAATACCCCACT\n",
    "ATCAACAATGGACATAGTAGGCAGTTTTTCCCTAACAGTGCTAGGTCTGGGAGGTGTGGACTGGGTAGAATTAATCACAGTGCGGTGAAGCAGCTGTGGC\n",
    "CAGACTGCTTCTCTAGATTCCTCCTCACTGGGCAGGGAGTCTCTTTAAGAAAGGTAACAACCCCAGTCAGGGGCTTACAGATAAACTCCCATCTCCCTGG\n",
    "GACAGAGCGCTTAAAAGAAGGGGAAGCTGTGGGCACAGTTTCAGAGGACTTAATCTCTCCTGCCTGCCAGCTCTGAAGAGAGCATCTAATCCTGGCAAGA\n",
    "GGGATTCTCCCAGCACAGTGTACCAGCTTTGCTAAGGGACAGACTGCCTCCTCAAATGGGTTCCAGATACTCATGCCTTGTGACTAGGAAAGACTTCCCA\n",
    "AAATGGGTCAACAGGCACCTCATACAGGAGAGCTTCAGCTGGCATCAGGCTCGTGTCCCTCTGGGATTAAGCTTCCAGAGGAAGGAGCAGACAGCAATCT\n",
    "TTGCTGTTCTGAAGCCTCCACTGATGATACCCAGGCAAACTAGTTCTGGAGTGGACCTCCAGCAAACTATAGCGGACCTGCAGAAGATGGGCCTCTCTGT\n",
    "CAGAAGAAAAACTAACAAACAGAAAGCAACAGCATCAACAACAACAATAAGAACCTCCACAAGAAACTCCATGCAAAGGTCTTTAGCCTCAAAGATCAAA\n",
    "GGTAAATAAATCCACAAAGATAAAGAAAAACCAGTGCAAAAACACTGAAAATTCCAAACACCGGAATGGCTCTTCTCCAAATGATAACAACTCCTCTCTA\n",
    "GCAAGGGTACAAAACTGGATGGAGAGTGAGAGTGACAAATTGACAGAAGTAGGCTTCAGAAGGTGGGTAATAACAAACTCCTCTGAGTCAAAGAGGCATG\n",
    "TTCTAACCCAATGCAAGGAAGCTAAGAACAATGATAAAAGGTTACAGGCACAGATAACTAGAATAACCAGATTAGAGAAGAAAATAAATGACCTGATGGG\n",
    "GCTGAAAAACACAGCAAGAGAAATTCATGAAGCAGACACAAGTATCAATAGCCAAATTGTTCAAGTGGAACAAACGAT\"\"\".replace('\\n','')"
   ]
  },
  {
   "cell_type": "code",
   "execution_count": 3,
   "metadata": {
    "collapsed": true
   },
   "outputs": [],
   "source": [
    "chimp_sample = \"\"\"CCAAATGCTTCTTCAGCTGATAAACAACTTCAGCAAAGGCTCAGAATAGAAAATCAATGTGCAAAATCATTTATATTTTTATACACCAACAACAGTTAAT\n",
    "TTGAGAGCCAAATCAGAAAGGCAATTTCATTCACAATTGCCACAAAAAATAAAATACCTAGAAATACAGCTATCCAGGGAGCTGAAAGATCTCTACAAGG\n",
    "AGAACTACAAACCACTGCTCAAAGAAATCAGAGATAACACAAATAAATGAAAATAAAATTCCATGCTCACGGAGAGGAAGAATCAATATTGTTAAAATGG\n",
    "CCATACTGCCCAAAGCAATTTATAGACTCAATGCTATTCCTATTAAACCAACATTGACATTCCTCACAGAACTAGAAAAAACTATTTTAAAAATCATATG\n",
    "GACCTGAAAAAGAGCCCAAATAGCCAGGGTAATCCTGAGCAAAAGAAAAAAGCTGAAAACATCATGCTTCCCAACTTAAAACTATATGACATGACTGCAC\n",
    "TCTAGCCTGGGTGACATAGCGAGACTCTGTCTAAAAAAAAAATAAAAAAGAAAAAAAGAAAAAAACTATATGACATGGCTACAGTAATCAAAACAGCATG\n",
    "GTACTGATGCAAAAACAGACACATAGACAAATGGAAAAAATAGAATACCCAGAAATAAGGTCACACACCTACAAGTACTCGATCTTCAACAATCCTGACA\n",
    "AAAACAAGGAATAGGAAAAGAAGCCCCTATTCAATAAATGGTGCTGGGGTAACTGGCTAGCTATACGCAGAAGATTAAATTTGGAGCCCTTCCTTACACC\n",
    "ATACACAAAAATTAACTCAAGATGGATAAAAACTTAAATGTAAAACCCCAAACTATAAAAACCCTGGAAGGTAAACTAAGCAGTGCCATTCTGGACATTG\n",
    "GAACAAACAAGGATTTCATGATGAAGACACCAAAAGCCATTGCAACAAAGGCAAAAATTCACAAATGAGATTTAATTAAACTAAAGAGCTTCTGTGCAGC\n",
    "AAAGGAAACTATCAACAGAGTAAACAGACAACTTACAGAATGGAAGAAAATTTTTGCAAACTATGCATCTGACAAAGGTCTAATATCCAGTATCTATCAG\n",
    "GAACTTAAATTTATAAAGAAAAGAGCCCAACAATTCCATTAAAATAGGCAAAAATCATGAAGAGACACTTTTCAAAAGAAGACATACATGTGGCCAATGA\n",
    "TCATATGGAAAAAATCTCAACATCACTGATTATTAGAGAAATGCAAATGAAAACTACAATGAGATACCGTCTTATACCAGTCAGAATGGCTATTATTAAA\n",
    "AAGTCAAAAAATTAAAGATGCTGCAGAGGTTGCAGAGAAAAGAATGCTTATACACTGTTGGTGGGAGTGAAAATTACTTCAACCACTGTGGAAAACAGTG\n",
    "TGGTGATTCCTCAAAGACCTAAAGACAAAAATACCACTTGATCCAGCAATCCTATTACTGGGTATATACCCAAAGTTATATAAATCATTCTATTATAAAG\n",
    "ATACATGCATACATATGTTCTTTCCAGTACTATTCAAAATAGCAAAGACATGAAAGGAACGTAAACACCCATCAATGGTAGACTGGATAAAGAAAATATG\n",
    "GTACATATACACAATGGAATACTATGCAGTCATAGAAAAGAATGAGGTTATGTTCTTTGCAGGAACATGGATAGAGCTGGAGGCCATTATCCTTAGCAAA\n",
    "CGAATGCAGGGTCAGAAAACCAAATACCACATGTTTTCACTGATAAGTGTGGGCTAAATGATAAGAACACATGGACACATAGAGGGAAACAACACACACT\n",
    "GGGTCTATTGCAGGGTGGAGGGTGGGACAAGGGAGTGGGTCAGCAAAAATAACTAATCGGTACTAGGCTTAATAGCTGGGTGATGAAACAATCTATACAA\n",
    "CAAATCACCATGACACAAGTTTACCTACATAAGAAACCTGTGCATGTACACCTGAACTTAAAATATAAGTTAAAAAGTGAATTATTGGACAGGGCGTGGT\n",
    "GGCTCACGCTTGTAGTTCCATCACTTTGGGAGGCCAAGGCGGGCAGATCACAAGGTCAGGAGTTCGAGACAAGCCTGACCAACATGGTGAAAACCCGTCT\n",
    "CTACTAAAAATACAAAAATTAGCCAGGCATGGTGGTGCATGCCTGTAATCCCAGCTTCTCAAGAGGCAAGCCTCATGGTAATTACAAAGAAAAACCTACA\n",
    "ATAGACACAAAAAAGAAAAAAAGAAAAGAGTCAAAGTGTATCACTACAAAAATAATAAAATCACAAATACAGATGGCAAGAGAGGAAGACAGAAACAGAA\n",
    "GAACTACAAAACAGACAGAAAATAATTAGTAAAATGGCAATAAGAAGTTCTTACTCTTTTCATTATACTTTAAGTTTTAGGGTACATGTGCACAACGTGC\n",
    "AGGTTAGTTACATATGTATACATGTGCCAATGTGCCATGTTGGTGTGCTGCACCCATTAATTCATCAATTAACATTAGGTATATCTCCTAATGCTTTCCC\n",
    "TCCCCTCTCCCCACACCCCACAACAGGCCCCGGTGTGTGATGTTCCCCTTCCTGTGTCCATGTGTTCTCATTGTTCAATTCCCACCTGTGAGTGAGAACA\n",
    "TGCGGTGTTTGGTTTTTTGTCCTTGCGATAGTTTGCTGAGAATGATGGTTTCCAGCTTCATCCATGTCCCTACAAAGCACATAAACTCATCCTTTTTTAT\n",
    "GGCTGCATAGTATTCCATGGTGTATATGTGCCACATTTTCTTAATCCAGTCTATCATTGTTGGATATTTGGCTTGGTTCCAAGTCTTTGCCATTGTGAAT\n",
    "AGTGCCGCAATAAACATACATGTGCATGTGTCTTTATATCAGCATGATTTATAATCCTCTGGGAATATACCCAGTAATGGGATGGCTGGGTCAAATGGTA\n",
    "ATTCTAGTTCTAGATCCCTGAGGAATCGCCACACTGACTTCCACAATGGTTGAACTAGTTTACAGTCCCACCAACAGTGTAAAAGTGTTCCTATTTCTCC\n",
    "ACATCCTCTCCAGCACCTGTTGTTTCCTGACTTTTTAGTGATCACCATTCTAACTGGTGTGAGATGGTATCTCATTGTGGTGTTGATTTGCATTTCTCTG\n",
    "ATGACCAGTGATGATGAGCATTTTTTCATGTTTTTTGGCTGCATAAATGTCTTCTTTTGAGAAGTGTCTGTTCATATCCATCGCCCACCTTTTGATGGGG\n",
    "NNNNNNNNNNTTGATTTGCATTTCTCTGATGACCAGTGATGATGAGCATTTTTTCATGTTTTTTGGCTGCATAAATGTCTTCTTTTGAGAAGTGTCTGTT\n",
    "CATATCCTTCGCCCACTTTTTGATGTGGTTGTTTGTTTTTTTCTTGTAAATTTGTTTGAGTTCATTGTAGATTCTGGATATTAGCTCTTTGTCAGATGGG\n",
    "TGGATTGCAAAAATTTTCTCCCATTCTGTAGGTTGCCTGTTCATTCTGATGGTAGTTTCTTTTGCTGTGCAAAAGCTCTTTAGTCCAATTAGATCCCATT\n",
    "TGTCAATTTTGGCTTTTGTTGCCATTGCTTTTGGTGTTTTAGACATGAAGTCCTTGCCCATGCCTATGTCCTGAATTGTATTGCCTATGTTTTCTTCTAG\n",
    "GGTTTTTATGGTTTTAGGTTTAACATTGAAGTCTTTAATCCATCTTGAATTAATTTTTGTATAAGGTTTAAGAAAGGGATCCAGTTTCAGCTTTCTCCAT\n",
    "GTGGCTAGCCAGTTTTCCCAAGCACCATTTATTAAATAGGGAATCCTTTCCCCATTTCTTGTTTTTGTCAGGTTTGTCAAAGATCAGATAGTTGTAGATA\n",
    "TGCGGCATTATTTCTGAGGGCTTTGTTCTGTTCCATTGGTCTATATCTCTGTTTTGGTACAAGTACCATGCTGTTTTGGTTACTGTAGCCTTGTAGTATA\n",
    "GTTTGAAATCAGGTAGCGTGATGCCTCCAGCTTTGTTCTTTTGGCTTAGGATGGACTTGGCAATGTGGGCTCTTTTTTAGTTCCATATGAACTTTAAAGT\n",
    "AGTTTTTTCCGATTCTGAAAAGAAAGTCATTGGTAGCTTGATGGGGACGGCTTTGAATCTATAAATTACCTTGGGCAGTATGACCATTTTCACCATATTG\n",
    "GTTCTTCCTACTCATGAGCATGGAATGTTCTTCCATTTGTTTGTATCCTCTTTTATTTCATTGAGCAGTGGTTTGTAGTTCTCCTTGAAGAGGTCCTTCA\n",
    "CATCCCTTGTAAGTTGGATTTCTAGGTATTTTATTCTCTTTGGAGCAATTGTGAATGGAAGTTCACTCATGATTTGCCTCTCTGTTTGTCTCTTATTGGT\n",
    "GTATAAGAAAGCTTGTGATTTTTGCACGTTCATTTTGTATCTTGAGATTTTGCTGAAGTTGCCTATCAGGTTAAGGAGATTTTGGGCTGAGAAGATGGGG\n",
    "TTTTCTAGATATACAATCATGTCATCTGCAAATAGGGACAATTTGACTTCCTCTTTTCCTAATTGAATACCCTTTATTTCCTTCTCCTGACTGATTGCCC\n",
    "TGGCCAGAACTTCCAATACTATGTTGAATAGGAGTGGTGAGAGAGGGCATCCCTGTCTTGTGCCAGTTTTCAAAGGGAATGCTTCCAGTTTTTGCCCATT\n",
    "CAGTATGACATTGGCTGTGGGTTTGTCATAGAGAGCTATTATTATTTTAAGACATGTCCCATCAATACCTAATTTATTCAGAGTTTTTAGCATGAAGCAC\n",
    "TGTTGAATTTTGTCAAAGGACTTTTCTGCATCTATTGAGATAATCATGTGGTTTTTGTCTTTGGTTCGGTTTATATGCTGGATTACATTTATTGATTTGT\n",
    "GTATGTTGAACCAGCCTTGCATCCTAGGTATGAAGCCCACTTGATCATGGTGGATAAGCTTTTTGATGTGCTGCTGGATTTGGTTTGCCAGTATTTTATT\n",
    "GAGGATTTTTGCATCGATGTTCATCAGGGATATTGGTCTAAAATTCTCTTTTTTTGTTGTGTCTCTGCCAGGCTTTGGTATCAGAATGTTGCTGGCCTCA\n",
    "TAAAATGAGTTAGGGAGGATTCCCTCTTTTTCTATTGACTGGAATAGTTTCAGAAGGAATGGTACCAGCTCCTCCTTGTACCTCTGGTAGAATTTGGCTG\n",
    "TGAATCCATCTGGTCCTGGACTTTTTTTGGTTGGTAAGCTATTAATTATTGCCTCACTTTCAGAGCCTGTTATTGGTCTATTCAGAGATTCAACTTCTTC\n",
    "CTGGTTTAGTCTTGGGAGGGTGTATGTGTCAAGGAATTTATTCATTTCTTCTAGATTTTCTAGTTTTTTTGCATAGAGGTGTTTATAGTATTCTCTGATG\n",
    "GTAGTTTGTATTTCTGTGGGATAGGTGGTGATATCCCCTTTATCATTTTTTACTGCGTCTATTTGATTCTTCTCTCTTTTCTTCTTTATTAGTCTTGCTG\n",
    "GTGGTCTATCAATTTTGTTGATCTTTTAAAAAAACCAGCTCCTGGATTCATTGATTTTTTGAAGGGTTTTTTGTGTCTCTATTTCCTTCAGTTCTGCTCT\n",
    "GATCTTAGTTATTTCTTGCCTTCTGCTACCTTTTGAATGCGTTTGCTCTTGCTTCTCTAGTTCTTTTAATTATGATATTAGGGTGTCAATTTTAGTTCTT\n",
    "TCCTGCTTTCTCTTGTGGGCATTTAGTGCTATAAATTTCCCTCTACACACTGCTTTGAATGTGTCCCAGAGATTCTGGTATATTGTGTCTCTGTTCTCGT\n",
    "TGGTTTCAAAGAACATCTTTATTTCTGCCTTCATTTCGTTACATACCCAGTAGTCATTCAGGAGCAGGTTTTTCAGTTTCCATGTAGTTGAGTGGTTTTG\n",
    "AGTGATTTTCTTAATCCTGAGTTCTAGTTCGATTGCACTGTGGTCTGAGAGACAGTTTGTTATAATTTCTGTTCTTTTACATTTGCTGAGGAGTGCTTTA\n",
    "CTTCTAACTATGTGCTCAATTTTGGAATAGGTGTGGTGTGGTGCTGAAAAGAATGTATATTCTGTTGATTTGGGGTGGAGAGTTCTGTAGATGTCTATTA\n",
    "GGTCCACTTGGGTGCAGAGATGAGTTCAATTCCTGCATATCGTTGTTAACTTTCTGTCTCGTTGATCTGTCTAATGTTGACAGTGGTGTTAAAGTCTCCC\n",
    "ATTATTATTGTGTGGGATTCTAAGTCTCTTTGTAGGTCTCTAAGGACTTGCTTTATGAATCTGGGTGCTCCTGTATTGGGTGCATATATATTTAGGATAG\n",
    "TTAGCTCTTCTTGTTGAATTGATCCCTTTACCATTATGTAATGGCCTTCTTTGTCTCTTTTGATCTTCATTGGTTTGAAGTCTTTTTTATCAGAGACTAG\n",
    "GATTGCAACCCCTGCCTTTTTTTGTTTCCCATTTACTTGGTAGATCTTCCTCCATCCCTTTATTTTCAGCCTGTGTGTGTCTCTGCACGTGAGATGGGTT\n",
    "TCCTGAATACAGCACACTGATGGGTCTTGACTCTTTATCCAATTTGTCAGTCTGTGTCTTTTAATTGGAGCATTTAGCCCATTTACATTTAAGGTTAATA\n",
    "TTGTTCTGTGTGAATGTGATCCTGTCATTATGATGTTAGCTGGTTATTTTGCTGGTTAGTTGATGCAGTTTCTTCCTTGCCTCGATGGTCTTTACAATTT\n",
    "GGCATGTTTTTGCAGTGGCTGGTACCAGTTGTTCCTTTCCATGTTTAGTGCTTCCTTCAGGAGCTCTGTTAGGGCAGGCCTGATGGTGACAAAATCTGTC\n",
    "AGCATTTGCTTATCTGTAAAGGATTTTATTTCTCCTTCACTTATGAAGCTTAGTTTGGCTGGATATGAAATTCTGGGTTGAAAATTCTTTTCTTTAAGAA\n",
    "TGATGAATATTGGCTCCCACTGTCTTCTGGCTTGTAGAGTTTCTGCCAAGAGATCCGCTGTTATTCTGATGGGCTTCCCTTTGTGCATAACCCGACCTTT\n",
    "CTCTCTGGTTGCCCTTAACATTTTTTCCTTCATTTCAACTCTGGTGAATCTGACAATTATATCTTGGAGTTGCTCTTCTCGAGGAGCATCTTTCTGGCAT\n",
    "TCTCTGTATTTCCTGAATTTGAATATTGGCCTGCCTTGTGAGATTGGGGAAGTTCTCCTGGATAATGTCCTGCAGAGTGTTTTCCAACTTGGTTCCATTC\n",
    "TCCCCGTCACTTTCAGGTACACCAATCAGATGTAGATTTGGTCTTTTCACATAGTCCCATATTTCTTGGTGGCTTTGTTCATTTCTTTTTGTTCTTTTTT\n",
    "CTCTAAACTTCTCTTCTCGCTTCATTTCATTCATTTGATCTTCCATCACTGATACTCTTTCTTCCAGTTGATCGAATCAGCCACTGAGGCTTGTGGATTT\n",
    "GTCACATAGTTCTCATGCCATGGTTTTCAGCTCCATCAGGTCCTTTAAGGACTTCTCTGCCTTCGTTATTCTAGTTAGCCATTCATCTAATTTTTTCAAG\n",
    "GTTTTTAACTTCTTTGCCATGGGTTCGAACTTGCTCCTTTAGCTTGGAGTAGTTTGATCATCTGAAGCCTTCTTCTCTCAACTCATCAAAGTCGTTCTCC\n",
    "TTCCAGGTTTGTTCTGTTGCTGGTGAGAAGCTGTGTTCTTTTGGAGGAGGAGAGGCACTCTGATTTTTAGAGTTTCCAGTTTTTCTGCTCTGTTTTTTCC\n",
    "CCATCTTTGTGGTTTTATCTACCTTTGGTCTTTGATGATGGTGACATACAGACAGGGTTTTGGTATGGATGTCCTTTCTGTTTGTTAGTCTTTGAGGTCC\n",
    "ACTCCAGACCCTGTTTACCTGGGTATCCGCAGCAGAGGCTGCATAACAGCAGATATTGGTGAACAGCAAATGTTGCTGCTTGATCGTTCCTCTGGAAGTT\n",
    "TTGTCTCAGAGGAGTACCCGGCTGTGTGAGGTGTCAGTCTGCCCCTACTCTGGGGTGCCTCCCAGTTAGGCTACTCTGGGGCCATTGACCCACGTGAGGA\n",
    "GGCTGTCTGTCCATTCTCAGATCTCAAGCTGCATGCTGGGAGAACCACTACTCTCTTCAAAGCTGTCAGACAGGGACCTTTAATTCTGCAGAGGTTTCTG\n",
    "CTGCCATTTGTTTGGCTATGCCCTGCCCCCAGAGGTGGAGTCTACAGAGGCACGCAGGCCTCCTTGAGCTGTGGTGGGCTCCACCCAGTTTGAGCTTCCT\n",
    "GGCTGCTTTGTTTACCTACTCAAGCCTCAGTAATGGCAGGCGCCCCTCCTCCAGGCTTGCTGCCTCCTTGCAGTTTGATCTCAGACTGCTGTTCTAGCAA\n",
    "TGAGTGAGGCTCTGTGGGCATAGGACCCTCCAAGCCAGACGTGGGATATAATCTGGTGTGCTGTTTGCTAAGACCATTGGAAAAACACAGTATTAGGGTT\n",
    "GGAGTGACCCAATTTTCCAGTTGCTGTCTGTCACCCCTTTCTTTGACTAGGAAAGGGAATTCCCTGACCCCTTGAGCTTCCCAGGTGAGGTGATGCCTCA\n",
    "CCCTGCTTTGGCTCATGCTCGGTGCACTCCACCCACTGTCCTGCACCCACTATCTGACACTCCCCAGTGAGATGAACCCAGTACCTCAGTTGGAAATGCA\n",
    "GAAATCACCCATATTCTGCCAGAAGTTCTTACATTGTAATAATTACTTTATGTAAAAATGAATTACAGTTTATATAGAGTGAATAGATAGAAAACAAGAT\n",
    "CAAGCTCTATGCTGTCTACCAGAGACTCATTTTTGATTTAAGTACACACTTAAGCTGAAAGTGAAAATGTAGAATAAAGTATGATTGCAAATGGTATTTA\n",
    "AAAGGGAGTGGGGGGGCTCTATCTATATCAGACATAATAGACCTCAAGCCATAAACTCACAAGGGCCTAAGAAGGTCATCACATAATGAAAATAGGGTTA\n",
    "GTTCAGCAAGGTGATATAACAATTGTAAATATATATGCATCCAATATCAAAGTGCCTAGTTATATAAAGAAAAGATTGACATGTCCATAAGAAGAAATGG\n",
    "GCAATAAAATAAGTACAGGAGACTTTAATACCCCACTATCAACAATGGACAAAGTAGGCAGTTTTTCCCTAACAGTGCTAGGTCTGGGAGGTGTGGGCTG\n",
    "GGTAGAATTAATCACAGTGCGGTGAAGCAGCTGTGGCCAGACTGCTTCTCTAGATGCCTCCTCACTGGGCAGGGAGTCTCTTTAAGAAAGGTAACAACCC\n",
    "CAGTTAGGGGCTTACAGATAAACTCCCATCTCCCTGGGACAGAGCACTTAAAAGAACGGGAAGCTGTGGGCACAGTTTCAGAGGACTTAATCTCTCCTGC\n",
    "CTGCCAGCTCTGAAGAGAGCATCTAATCCTGGCAAGAGGGATTCTCCCAGCACAGTGTACCAGCTTTGCTAAGGGACAGACTACCTCCTCAAATGGGTTC\n",
    "CAGATACTCATGCCTTGTGACTAGGAAAGACTTCCCAAAATGGGTCAACAGGCACCTCATACAGGAGAGCTTCAGTTGGCATCAGGCTGGTGTCCCTCTG\n",
    "GGATGAAGCTTCCAGAGGAAGGAGCAGACAGCAATCTTTGCTGTTCTGAAGCCTCCACTGATGATACCCAGGCAAACTAGGTCTGGAGTGGACCTCCAGC\n",
    "AAACTATAGCAGACCTGCAGAAGATGGGCCTCTCTGTCAGAAGAAAAACTAACAAACAGAAAGCAACAGCATCAACAACAACAATAAGAACCTCCACAAG\n",
    "AAACTCCATGCAAAGGTCTTTAGCCTCAAAGATCAAAGGTAAATAAATCCACAAAGATAAGGAAAAACCAGTGCAAAAACACTGAAAATTCCAAACACCA\n",
    "GAATGGCTCTTCTCCAAATGATAACAACTCCTCTCTAGCAAGGGCACAAAACTGGATGGAGAGTGAGAGTGACAAATTGACAGAAGTAGGCTTCAGAAGG\n",
    "TGGGTAATAACAAACTCCTCTGAGTCAAAGAGGCATGTTCTAACCCAATGCAAGGAAGCTAAGAACAATGATAAAAGGTTACAGGCACAGATAACTAGAA\n",
    "TAACCAGATTAGAGAAGAAAATAAATGACCTGATGGGGCTGAAAAACACAGCAAGAGAAATTCATGAAGCAGACACAAGTATCAATAGCCAAATTGTTCA\n",
    "AGTGGAACAAACGATATCCGAGATTGAAGATCAACTTACTGAAATAAGGTATGAAGACAGGATTGGAGAAAAAAGAATGTAAAGGAACAAACGAAGCCTC\n",
    "CAAGAAATGTGGGACTCTTTGAAAAGACCAAACCTATGACTGATTGTTGTACCAGAAAATGACAGGGAGATTGGAACC\"\"\".replace('\\n', '')"
   ]
  },
  {
   "cell_type": "code",
   "execution_count": 8,
   "metadata": {
    "collapsed": true
   },
   "outputs": [],
   "source": []
  },
  {
   "cell_type": "markdown",
   "metadata": {},
   "source": [
    "Is there anything in Skittle Research we could use iso-surfaces for?\n",
    "* threshholding boundaries between DNA elements\n",
    "   * ...in Nucleotide Display when it's very zoomed out"
   ]
  }
 ],
 "metadata": {
  "kernelspec": {
   "display_name": "Python 3",
   "language": "python",
   "name": "python3"
  },
  "language_info": {
   "codemirror_mode": {
    "name": "ipython",
    "version": 3
   },
   "file_extension": ".py",
   "mimetype": "text/x-python",
   "name": "python",
   "nbconvert_exporter": "python",
   "pygments_lexer": "ipython3",
   "version": "3.4.3"
  },
  "name": "",
  "widgets": {
   "state": {
    "0425d460f9f743cb9b964d317ec04107": {
     "views": []
    },
    "04f6f2c0221349c897011a590ffc74c0": {
     "views": []
    },
    "0a7aa8ceb8a34fcf9a7cb6f908da163f": {
     "views": []
    },
    "0b3794a3c376467383af24c018041e16": {
     "views": []
    },
    "116ad14fc87b4ad0a1efc222640c911f": {
     "views": []
    },
    "1195e338af734d9687f02612f19ca8d7": {
     "views": []
    },
    "1403a32d79dc40a59d3468439deba44d": {
     "views": []
    },
    "15c0f08439e84297967884361c234e28": {
     "views": [
      {
       "cell_index": 9
      }
     ]
    },
    "1672b58a3d0d49a1b9b0b0b77ed41fbb": {
     "views": []
    },
    "1bbd6bb0e2a5466996c0d1eac818df50": {
     "views": []
    },
    "20c5c6f6f2634b65a080a63d9bdf63e1": {
     "views": []
    },
    "2306ccd79bf94c2990b89a3aa068f0cc": {
     "views": []
    },
    "264dced00ea34f6cb8b2c5187834459b": {
     "views": []
    },
    "26be542adc2d4dc59495e16d4dd2dc86": {
     "views": []
    },
    "26f288095f434a4cbc1b7332c66e9023": {
     "views": []
    },
    "2b025ed77e22410b8e975a9f7f11e3b5": {
     "views": []
    },
    "2d3278209c1a4f3db95e5a6b47bd5f9a": {
     "views": []
    },
    "2f20b9883fb942de9e840f69f9e80c93": {
     "views": []
    },
    "2f418991a1d74a5a977313c8fcd424fd": {
     "views": []
    },
    "2fd91108dfd34b218326c071a1d77029": {
     "views": []
    },
    "32ac1bcee4b344cbb189f543b3bdfd9c": {
     "views": []
    },
    "34f575e9d3a54d02a7a4aedac3346f0c": {
     "views": []
    },
    "35b3c6bb6b5b4437aeabb73b08958a16": {
     "views": []
    },
    "3a0fb3ac5689432a96358ac21be2f17a": {
     "views": []
    },
    "3a9ea55b78e74aa6ad9f940662bd2956": {
     "views": []
    },
    "3be07f858a3d4d04abc451d175515444": {
     "views": []
    },
    "3dbedc49945d44c0a0d845adfb0f67ae": {
     "views": []
    },
    "4012e149d32f46f1acfd2a5520f44991": {
     "views": []
    },
    "42f68f168f25408e8ffe32a68ffa1725": {
     "views": []
    },
    "4321904fa5a64eb892e11d9f3399c7f6": {
     "views": []
    },
    "43c632fabdbd4c65bc54a6b4b83b8f44": {
     "views": []
    },
    "43d7ff775ef24a48bf0a49785411bfa4": {
     "views": []
    },
    "4597d2bb698746b690cba4518cfd89a4": {
     "views": []
    },
    "4605277316434ff3836b2d1c61178f6c": {
     "views": []
    },
    "4698d3762e6648e0ab05d3ced679e008": {
     "views": []
    },
    "4733926834c64b3a8bc3a82db1e977f5": {
     "views": []
    },
    "4a3aa9196478400c8386425e739fbde5": {
     "views": []
    },
    "4ccfda0d65fd48ccbdf1ad0c2603fc80": {
     "views": []
    },
    "4dbebf8c569d47e0a14b24b2f6de5836": {
     "views": []
    },
    "506fa100a2ab414080eff3f1e11492e9": {
     "views": []
    },
    "52392607874a42e99bb9b3f987e53023": {
     "views": []
    },
    "53ea5cacfa5842cabb0ceaea31eea7e1": {
     "views": []
    },
    "55cf2cc224f2466ea5803245d7c6bba6": {
     "views": []
    },
    "58655104db024052806c5ce1e2b4dba1": {
     "views": []
    },
    "5a788a5d3da14ce39eb7cbd5bb089f3d": {
     "views": []
    },
    "5be2b8a16a9942c19d0d692f0272ed9f": {
     "views": []
    },
    "5d4081104e664db2a3e69e8c54c2ec0d": {
     "views": []
    },
    "5dd473fac1ac4275897652844812e74a": {
     "views": []
    },
    "5fef9dbbcf6e411eacabfef18e34ed7a": {
     "views": []
    },
    "6209e50224d94b3ba3d8d68df86d4a2c": {
     "views": []
    },
    "688c5bcf7749465882055422d27713ea": {
     "views": []
    },
    "693fb865c9e745448cd6e45291179555": {
     "views": []
    },
    "69f818a5157b44cdbd04a4d012f13711": {
     "views": []
    },
    "6ad716c7eb3742b7808d91c32d1fb8c6": {
     "views": []
    },
    "6c1f7473866a4ccf85d8ee6c2d02d001": {
     "views": []
    },
    "6c97fb787d7b4d9d973bc2c4a56f8a1b": {
     "views": []
    },
    "71513210a54d4c288e33b806de782199": {
     "views": []
    },
    "7408f3ccc16b4a329b34e6cf69ae31b4": {
     "views": []
    },
    "741b511e41c54bb2abd601b052a24f8d": {
     "views": []
    },
    "76612964bc514f8a9e6e5979f5c81867": {
     "views": [
      {
       "cell_index": 5
      }
     ]
    },
    "77a6e1fbc2084563973a1803b17462dc": {
     "views": []
    },
    "78e6aca5fc0a49b79377a3015f85209a": {
     "views": []
    },
    "7a0fc9308bed4bfc8de56e66af3c5af9": {
     "views": []
    },
    "7a22aa2e6892437282595201d8d537fa": {
     "views": []
    },
    "7a2e31eb64e649388406400a45901dc5": {
     "views": []
    },
    "7a8032bd40334a47acbee7d0834a416e": {
     "views": []
    },
    "7b25a869bf20480d9e4c70a07256b68c": {
     "views": []
    },
    "7c07b3962881492d80b9b8494ec2c1d4": {
     "views": []
    },
    "7c8c72f22935499886e12c10a4f6dc85": {
     "views": []
    },
    "7e35e33410a14b5bb1500e853d69510c": {
     "views": []
    },
    "7f28ade1797f4e079938a7cb731c341e": {
     "views": []
    },
    "8083a29491814726a7a23a91b009e551": {
     "views": []
    },
    "8187fb204b024b80a1a005e395f69df0": {
     "views": []
    },
    "81eb8fd62c9f489e99a50b6c1c4c0a1b": {
     "views": []
    },
    "83f11c897f564a5d8a998b7861fd6e6b": {
     "views": []
    },
    "8407e41e50754ac4b871a77c7ea40fb2": {
     "views": []
    },
    "84426e3e23084881836471b5e7601528": {
     "views": []
    },
    "847680f166f0453288025bcdf36b1b79": {
     "views": []
    },
    "8753c3d2e3ab4cd995068226f04ce72a": {
     "views": []
    },
    "8bc104c21d914c1081049c1fb58a16b8": {
     "views": []
    },
    "9191be7598c8416c9a06cb5e1b58d977": {
     "views": []
    },
    "9246851698784bc08b59e7a7da43baed": {
     "views": []
    },
    "935a4d99544e4fb397bb0deb904f6bfe": {
     "views": []
    },
    "9385ac9679c64a1580a8da4992242ea5": {
     "views": []
    },
    "94de286322274a08aef1e1b6a396a378": {
     "views": []
    },
    "94e6029d015049059cecefe4b90e50a6": {
     "views": []
    },
    "958f28123a6849308aa73d2e08de1f31": {
     "views": []
    },
    "97a1c47e9b924bcbac3c44201c9aabda": {
     "views": []
    },
    "9b7034aff559440f8f939a7e70a8fc1b": {
     "views": []
    },
    "9d93f63cdfc94ce38e68a740e8b7a3f6": {
     "views": []
    },
    "9f8d8ca811344adba14282107827a178": {
     "views": []
    },
    "a25fa5f25d5a46bbb4a5f2c3678e0818": {
     "views": []
    },
    "a2dee66c1057498981881679c127f925": {
     "views": []
    },
    "a4638f67a959438688f8b1de03279cf2": {
     "views": []
    },
    "a9b5f3c0ae2a4d17a8b14722f22767da": {
     "views": []
    },
    "ab58f08e38844e5d929ac76b9a8b04e1": {
     "views": []
    },
    "ac2b38b0cedb44b18a5bad5db4e3d4bf": {
     "views": []
    },
    "ace4acfa60f342aea9ec8a2730e333a0": {
     "views": []
    },
    "ade5590fcd154eb8975c6a5643388996": {
     "views": []
    },
    "adfb5353644644c6b95b8462827a9138": {
     "views": []
    },
    "b17ae8dae9c94fcbbf9d9656d6006fa1": {
     "views": []
    },
    "b1a59af4df604585bd8d086f09810e02": {
     "views": []
    },
    "b25f3a65a1ad425ca59d77b4a6e439eb": {
     "views": []
    },
    "b79822e58e4b4c019fc58bea465f501f": {
     "views": []
    },
    "b95602079b1c4e97bc8303ee1492a779": {
     "views": []
    },
    "bd49f1198d16449ab675ddde897782fc": {
     "views": []
    },
    "c12715d77e1d4515ba94bf9b5e02c117": {
     "views": []
    },
    "c20b53f108684056a6c603f84edab3ca": {
     "views": []
    },
    "c21acb1dc3964c62a3280a211a733bce": {
     "views": []
    },
    "c45881cc507a4392bb5351446f508b40": {
     "views": []
    },
    "c75991ae349d44e89cc6e76c08c30496": {
     "views": []
    },
    "c92101dba4f642809e6831769dfba2eb": {
     "views": []
    },
    "ca13047352fb4de3a6997e962a53afc8": {
     "views": []
    },
    "cac398faa4054a328468b2358c652443": {
     "views": []
    },
    "cb830544e83f49559539a38462581725": {
     "views": []
    },
    "cd5895a1a58941abbc8f619224dea0c0": {
     "views": []
    },
    "d4218d2c8a4b47e6a51f4f76c938fb62": {
     "views": []
    },
    "d5f0e2acfb32477bb32c2d9b2fd6240d": {
     "views": []
    },
    "d85b1c14e0664b7a95e5d8a323df2612": {
     "views": []
    },
    "df56d8c52b234e608837d9df6ff7ebf4": {
     "views": []
    },
    "dfa41b7c879844789162eb3faa6b8793": {
     "views": []
    },
    "dfbf5bf0bbfc4c539a9d6884cb78bd69": {
     "views": []
    },
    "e0a1c6dc03ed49c9b2f3c1f1743af6fb": {
     "views": []
    },
    "e2845a5798314ffa83349f74aff1e8de": {
     "views": []
    },
    "e2c7134c17d74cdd950eb69fd6e89de8": {
     "views": []
    },
    "e6372c724d5a40aa865731caad205351": {
     "views": []
    },
    "e73806988f8b4093bdbd3ff27a0617a5": {
     "views": []
    },
    "e76b189dccaa4314aa3282575229ee32": {
     "views": []
    },
    "e7b3e1a7730d41e6bf557bfe0457ddab": {
     "views": []
    },
    "eb65a7c188c941f895af2827b297be89": {
     "views": []
    },
    "eb9d6a825e254464982dc8faafb5ad72": {
     "views": []
    },
    "ee0063697e404ca9bb2c531842b76fbd": {
     "views": []
    },
    "ee6a1f25931e477ea2673c513967c1d3": {
     "views": []
    },
    "eef22c99e41646d592c8c2af7de39c84": {
     "views": []
    },
    "f0139e5e7c0f488a8f166fe5cd116f1a": {
     "views": []
    },
    "f105882877c0416ea2a8a6777da008c1": {
     "views": []
    },
    "f1434a75e93b4574b54094bcf359963d": {
     "views": []
    },
    "f264ff29d18e46439afe959a09f7175b": {
     "views": []
    },
    "f387fc84cece46e587e137a6fee2848d": {
     "views": []
    },
    "f4c25f9e2c814a549d2cef8ff9e4808e": {
     "views": []
    },
    "f7ab9e52d8fb49a7b9a43076e2a8ff86": {
     "views": []
    },
    "fac62c4c06784256aa5d17e223f4c9d9": {
     "views": []
    },
    "fba8ece4bd2a4f3cb63a540425d1377a": {
     "views": []
    },
    "fc949140ae61495fb631a08db47de131": {
     "views": []
    },
    "fca044df6109498d892b22c0a3739310": {
     "views": []
    },
    "fdab9ab6d3cd4d148b5e0ef50d546bf9": {
     "views": []
    }
   },
   "version": "1.1.2"
  }
 },
 "nbformat": 4,
 "nbformat_minor": 0
}
